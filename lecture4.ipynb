{
 "cells": [
  {
   "cell_type": "code",
   "execution_count": null,
   "id": "0",
   "metadata": {},
   "outputs": [],
   "source": [
    "import numpy as np\n",
    "from matplotlib import pyplot as plt\n",
    "import pandas as pd\n",
    "import altair as alt"
   ]
  },
  {
   "cell_type": "code",
   "execution_count": null,
   "id": "1",
   "metadata": {},
   "outputs": [],
   "source": [
    "%pwd"
   ]
  },
  {
   "cell_type": "code",
   "execution_count": null,
   "id": "2",
   "metadata": {},
   "outputs": [],
   "source": [
    "path = \"C:\\data\\measles_incidence.csv\"\n",
    "data = pd.read_csv(path, skiprows=2, na_values=\"-\")\n",
    "data.head()"
   ]
  },
  {
   "cell_type": "code",
   "execution_count": null,
   "id": "3",
   "metadata": {},
   "outputs": [],
   "source": [
    "annual = data.drop(\"WEEK\", axis=1)"
   ]
  },
  {
   "cell_type": "code",
   "execution_count": null,
   "id": "4",
   "metadata": {},
   "outputs": [],
   "source": [
    "grped = annual.groupby(\"YEAR\")\n",
    "print(grped)"
   ]
  },
  {
   "cell_type": "code",
   "execution_count": null,
   "id": "5",
   "metadata": {},
   "outputs": [],
   "source": [
    "annual = grped.sum()"
   ]
  },
  {
   "cell_type": "code",
   "execution_count": null,
   "id": "6",
   "metadata": {},
   "outputs": [],
   "source": [
    "annual.head()"
   ]
  },
  {
   "cell_type": "code",
   "execution_count": null,
   "id": "7",
   "metadata": {},
   "outputs": [],
   "source": [
    "measles = annual.reset_index()\n",
    "measles.head()"
   ]
  },
  {
   "cell_type": "code",
   "execution_count": null,
   "id": "8",
   "metadata": {},
   "outputs": [],
   "source": [
    "measles = measles.melt(id_vars=\"YEAR\", value_name=\"incidence\", var_name=\"state\")"
   ]
  },
  {
   "cell_type": "code",
   "execution_count": null,
   "id": "9",
   "metadata": {},
   "outputs": [],
   "source": [
    "measles.head(n=10)"
   ]
  },
  {
   "cell_type": "code",
   "execution_count": null,
   "id": "10",
   "metadata": {},
   "outputs": [],
   "source": [
    "colormap = alt.Scale(\n",
    "    domain=[0, 100, 200, 300, 1000, 3000],\n",
    "    range=[\n",
    "        \"#F0F8FF\",\n",
    "        \"cornflowerblue\",\n",
    "        \"mediumseagreen\",\n",
    "        \"#FFEE00\",\n",
    "        \"darkorange\",\n",
    "        \"firebrick\",\n",
    "    ],\n",
    "    type=\"sqrt\",\n",
    ")"
   ]
  },
  {
   "cell_type": "code",
   "execution_count": null,
   "id": "11",
   "metadata": {},
   "outputs": [],
   "source": [
    "alt.data_transformers.enable(\"json\")"
   ]
  },
  {
   "cell_type": "code",
   "execution_count": null,
   "id": "12",
   "metadata": {},
   "outputs": [],
   "source": [
    "measles"
   ]
  },
  {
   "cell_type": "code",
   "execution_count": null,
   "id": "13",
   "metadata": {},
   "outputs": [],
   "source": [
    "chart = (\n",
    "    alt.Chart(measles)\n",
    "    .mark_rect()\n",
    "    .encode(\n",
    "        x=alt.X(\"YEAR:O\", axis=alt.Axis(title=None, ticks=False)),\n",
    "        y=alt.Y(\"state:N\", axis=alt.Axis(title=None, ticks=False)),\n",
    "        color=alt.Color(\"incidence:Q\", sort=\"ascending\", scale=colormap),\n",
    "        tooltip=[\"state\", \"YEAR\", \"incidence\"],\n",
    "    )\n",
    "    .properties(width=700, height=500)\n",
    ")\n",
    "\n",
    "chart"
   ]
  },
  {
   "cell_type": "code",
   "execution_count": null,
   "id": "14",
   "metadata": {},
   "outputs": [],
   "source": [
    "threshold = pd.DataFrame([{\"threshold\": 1963}])\n",
    "threshold"
   ]
  },
  {
   "cell_type": "code",
   "execution_count": null,
   "id": "15",
   "metadata": {},
   "outputs": [],
   "source": [
    "rule = alt.Chart(threshold).mark_rule(strokeWidth=4).encode(x=\"threshold:O\")\n",
    "chart + rule"
   ]
  },
  {
   "cell_type": "code",
   "execution_count": null,
   "id": "16",
   "metadata": {},
   "outputs": [],
   "source": [
    "chart = (\n",
    "    alt.Chart(measles)\n",
    "    .mark_rect()\n",
    "    .encode(\n",
    "        x=alt.X(\"YEAR:O\", axis=alt.Axis(title=None, ticks=False)),\n",
    "        y=alt.Y(\"state:N\", axis=alt.Axis(title=None, ticks=False)),\n",
    "        color=alt.Color(\n",
    "            \"incidence:Q\",\n",
    "            sort=\"ascending\",\n",
    "            scale=alt.Scale(scheme=\"viridis\"),\n",
    "            legend=None,\n",
    "        ),\n",
    "        tooltip=[\"state\", \"YEAR\", \"incidence\"],\n",
    "    )\n",
    "    .properties(width=700, height=450)\n",
    ")\n",
    "\n",
    "# Vertical line for vaccination year\n",
    "rule = (\n",
    "    alt.Chart(threshold).mark_rule(strokeWidth=4, color=\"white\").encode(x=\"threshold:O\")\n",
    ")\n",
    "\n",
    "chart + rule"
   ]
  },
  {
   "cell_type": "code",
   "execution_count": null,
   "id": "17",
   "metadata": {},
   "outputs": [],
   "source": [
    "chart = (\n",
    "    alt.Chart(measles)\n",
    "    .mark_rect()\n",
    "    .encode(\n",
    "        x=alt.X(\"YEAR:O\", axis=alt.Axis(title=None, ticks=False)),\n",
    "        y=alt.Y(\"state:N\", axis=alt.Axis(title=None, ticks=False)),\n",
    "        color=alt.Color(\n",
    "            \"incidence:Q\",\n",
    "            sort=\"ascending\",\n",
    "            scale=alt.Scale(scheme=\"viridis\"),\n",
    "            legend=None,\n",
    "        ),\n",
    "        tooltip=[\"state\", \"YEAR\", \"incidence\"],\n",
    "    )\n",
    "    .properties(width=700, height=400)\n",
    ")\n",
    "\n",
    "# The annual average\n",
    "annual_avg = (\n",
    "    alt.Chart(measles)\n",
    "    .mark_line()\n",
    "    .encode(\n",
    "        x=alt.X(\"YEAR:O\", axis=alt.Axis(title=None, ticks=False)),\n",
    "        y=alt.Y(\"mean(incidence):Q\", axis=alt.Axis(title=None, ticks=False)),\n",
    "    )\n",
    "    .properties(width=700, height=200)\n",
    ")\n",
    "\n",
    "# Add the vertical line\n",
    "rule = (\n",
    "    alt.Chart(threshold).mark_rule(strokeWidth=4, color=\"white\").encode(x=\"threshold:O\")\n",
    ")\n",
    "\n",
    "# Combine everything\n",
    "alt.vconcat(annual_avg, chart + rule)"
   ]
  },
  {
   "cell_type": "code",
   "execution_count": null,
   "id": "18",
   "metadata": {},
   "outputs": [],
   "source": [
    "%ls\"C:\\data\\ne_110m_admin_0_countries\""
   ]
  },
  {
   "cell_type": "code",
   "execution_count": null,
   "id": "19",
   "metadata": {},
   "outputs": [],
   "source": [
    "import geopandas as gpd"
   ]
  },
  {
   "cell_type": "code",
   "execution_count": null,
   "id": "20",
   "metadata": {},
   "outputs": [],
   "source": [
    "countries = gpd.read_file(r\"C:\\data\\ne_110m_admin_0_countries\")"
   ]
  },
  {
   "cell_type": "code",
   "execution_count": null,
   "id": "21",
   "metadata": {},
   "outputs": [],
   "source": [
    "countries.head()"
   ]
  },
  {
   "cell_type": "code",
   "execution_count": null,
   "id": "22",
   "metadata": {},
   "outputs": [],
   "source": [
    "type(countries)"
   ]
  },
  {
   "cell_type": "code",
   "execution_count": null,
   "id": "23",
   "metadata": {},
   "outputs": [],
   "source": [
    "countries[\"geometry\"].head(n=10)"
   ]
  },
  {
   "cell_type": "code",
   "execution_count": null,
   "id": "24",
   "metadata": {},
   "outputs": [],
   "source": [
    "countries[\"pop_est\"].sum() / 1e9"
   ]
  },
  {
   "cell_type": "code",
   "execution_count": null,
   "id": "25",
   "metadata": {},
   "outputs": [],
   "source": [
    "grouped = countries.groupby(\"continent\")\n",
    "grouped"
   ]
  },
  {
   "cell_type": "code",
   "execution_count": null,
   "id": "26",
   "metadata": {},
   "outputs": [],
   "source": [
    "pop_by_continent = grouped[\"pop_est\"].sum()"
   ]
  },
  {
   "cell_type": "code",
   "execution_count": null,
   "id": "27",
   "metadata": {},
   "outputs": [],
   "source": [
    "pop_by_continent.sort_values(ascending=False, inplace=True)"
   ]
  },
  {
   "cell_type": "code",
   "execution_count": null,
   "id": "28",
   "metadata": {},
   "outputs": [],
   "source": [
    "pop_by_continent / 1e9"
   ]
  },
  {
   "cell_type": "code",
   "execution_count": null,
   "id": "29",
   "metadata": {},
   "outputs": [],
   "source": [
    "is_USA = countries[\"name\"] == \"United States of America\"\n",
    "USA = countries.loc[is_USA]\n",
    "USA"
   ]
  },
  {
   "cell_type": "code",
   "execution_count": null,
   "id": "30",
   "metadata": {},
   "outputs": [],
   "source": [
    "USA.squeeze().geometry"
   ]
  },
  {
   "cell_type": "code",
   "execution_count": null,
   "id": "31",
   "metadata": {},
   "outputs": [],
   "source": [
    "USA = USA.squeeze()\n",
    "print(\"The typr of the USA is: \", type(USA))\n",
    "USA"
   ]
  },
  {
   "cell_type": "code",
   "execution_count": null,
   "id": "32",
   "metadata": {},
   "outputs": [],
   "source": [
    "type(USA.geometry)"
   ]
  },
  {
   "cell_type": "code",
   "execution_count": null,
   "id": "33",
   "metadata": {},
   "outputs": [],
   "source": [
    "USA.geometry"
   ]
  },
  {
   "cell_type": "code",
   "execution_count": null,
   "id": "34",
   "metadata": {},
   "outputs": [],
   "source": [
    "countries.crs"
   ]
  },
  {
   "cell_type": "code",
   "execution_count": null,
   "id": "35",
   "metadata": {},
   "outputs": [],
   "source": [
    "fig, ax = plt.subplots(figsize=(10, 6))\n",
    "ax = countries.plot(ax=ax, facecolor=\"none\", edgecolor=\"black\")\n",
    "ax.set_title(\"Equirectangular Projection\")"
   ]
  },
  {
   "cell_type": "code",
   "execution_count": null,
   "id": "36",
   "metadata": {},
   "outputs": [],
   "source": []
  }
 ],
 "metadata": {
  "kernelspec": {
   "display_name": "Python 3 (ipykernel)",
   "language": "python",
   "name": "python3"
  },
  "language_info": {
   "codemirror_mode": {
    "name": "ipython",
    "version": 3
   },
   "file_extension": ".py",
   "mimetype": "text/x-python",
   "name": "python",
   "nbconvert_exporter": "python",
   "pygments_lexer": "ipython3",
   "version": "3.10.6"
  }
 },
 "nbformat": 4,
 "nbformat_minor": 5
}
