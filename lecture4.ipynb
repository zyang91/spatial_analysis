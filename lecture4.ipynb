{
 "cells": [
  {
   "cell_type": "code",
   "execution_count": 6,
   "id": "d574aee6",
   "metadata": {},
   "outputs": [],
   "source": [
    "import numpy as np\n",
    "from matplotlib import pyplot as plt\n",
    "import pandas as pd\n",
    "import altair as alt"
   ]
  },
  {
   "cell_type": "code",
   "execution_count": 7,
   "id": "ac53ea08",
   "metadata": {},
   "outputs": [
    {
     "data": {
      "text/plain": [
       "'C:\\\\Users\\\\zyang\\\\Python Geospatial'"
      ]
     },
     "execution_count": 7,
     "metadata": {},
     "output_type": "execute_result"
    }
   ],
   "source": [
    "%pwd"
   ]
  },
  {
   "cell_type": "code",
   "execution_count": 9,
   "id": "ed3d286f",
   "metadata": {},
   "outputs": [
    {
     "data": {
      "text/html": [
       "<div>\n",
       "<style scoped>\n",
       "    .dataframe tbody tr th:only-of-type {\n",
       "        vertical-align: middle;\n",
       "    }\n",
       "\n",
       "    .dataframe tbody tr th {\n",
       "        vertical-align: top;\n",
       "    }\n",
       "\n",
       "    .dataframe thead th {\n",
       "        text-align: right;\n",
       "    }\n",
       "</style>\n",
       "<table border=\"1\" class=\"dataframe\">\n",
       "  <thead>\n",
       "    <tr style=\"text-align: right;\">\n",
       "      <th></th>\n",
       "      <th>YEAR</th>\n",
       "      <th>WEEK</th>\n",
       "      <th>ALABAMA</th>\n",
       "      <th>ALASKA</th>\n",
       "      <th>ARIZONA</th>\n",
       "      <th>ARKANSAS</th>\n",
       "      <th>CALIFORNIA</th>\n",
       "      <th>COLORADO</th>\n",
       "      <th>CONNECTICUT</th>\n",
       "      <th>DELAWARE</th>\n",
       "      <th>...</th>\n",
       "      <th>SOUTH DAKOTA</th>\n",
       "      <th>TENNESSEE</th>\n",
       "      <th>TEXAS</th>\n",
       "      <th>UTAH</th>\n",
       "      <th>VERMONT</th>\n",
       "      <th>VIRGINIA</th>\n",
       "      <th>WASHINGTON</th>\n",
       "      <th>WEST VIRGINIA</th>\n",
       "      <th>WISCONSIN</th>\n",
       "      <th>WYOMING</th>\n",
       "    </tr>\n",
       "  </thead>\n",
       "  <tbody>\n",
       "    <tr>\n",
       "      <th>0</th>\n",
       "      <td>1928</td>\n",
       "      <td>1</td>\n",
       "      <td>3.67</td>\n",
       "      <td>NaN</td>\n",
       "      <td>1.90</td>\n",
       "      <td>4.11</td>\n",
       "      <td>1.38</td>\n",
       "      <td>8.38</td>\n",
       "      <td>4.50</td>\n",
       "      <td>8.58</td>\n",
       "      <td>...</td>\n",
       "      <td>5.69</td>\n",
       "      <td>22.03</td>\n",
       "      <td>1.18</td>\n",
       "      <td>0.4</td>\n",
       "      <td>0.28</td>\n",
       "      <td>NaN</td>\n",
       "      <td>14.83</td>\n",
       "      <td>3.36</td>\n",
       "      <td>1.54</td>\n",
       "      <td>0.91</td>\n",
       "    </tr>\n",
       "    <tr>\n",
       "      <th>1</th>\n",
       "      <td>1928</td>\n",
       "      <td>2</td>\n",
       "      <td>6.25</td>\n",
       "      <td>NaN</td>\n",
       "      <td>6.40</td>\n",
       "      <td>9.91</td>\n",
       "      <td>1.80</td>\n",
       "      <td>6.02</td>\n",
       "      <td>9.00</td>\n",
       "      <td>7.30</td>\n",
       "      <td>...</td>\n",
       "      <td>6.57</td>\n",
       "      <td>16.96</td>\n",
       "      <td>0.63</td>\n",
       "      <td>NaN</td>\n",
       "      <td>0.56</td>\n",
       "      <td>NaN</td>\n",
       "      <td>17.34</td>\n",
       "      <td>4.19</td>\n",
       "      <td>0.96</td>\n",
       "      <td>NaN</td>\n",
       "    </tr>\n",
       "    <tr>\n",
       "      <th>2</th>\n",
       "      <td>1928</td>\n",
       "      <td>3</td>\n",
       "      <td>7.95</td>\n",
       "      <td>NaN</td>\n",
       "      <td>4.50</td>\n",
       "      <td>11.15</td>\n",
       "      <td>1.31</td>\n",
       "      <td>2.86</td>\n",
       "      <td>8.81</td>\n",
       "      <td>15.88</td>\n",
       "      <td>...</td>\n",
       "      <td>2.04</td>\n",
       "      <td>24.66</td>\n",
       "      <td>0.62</td>\n",
       "      <td>0.2</td>\n",
       "      <td>1.12</td>\n",
       "      <td>NaN</td>\n",
       "      <td>15.67</td>\n",
       "      <td>4.19</td>\n",
       "      <td>4.79</td>\n",
       "      <td>1.36</td>\n",
       "    </tr>\n",
       "    <tr>\n",
       "      <th>3</th>\n",
       "      <td>1928</td>\n",
       "      <td>4</td>\n",
       "      <td>12.58</td>\n",
       "      <td>NaN</td>\n",
       "      <td>1.90</td>\n",
       "      <td>13.75</td>\n",
       "      <td>1.87</td>\n",
       "      <td>13.71</td>\n",
       "      <td>10.40</td>\n",
       "      <td>4.29</td>\n",
       "      <td>...</td>\n",
       "      <td>2.19</td>\n",
       "      <td>18.86</td>\n",
       "      <td>0.37</td>\n",
       "      <td>0.2</td>\n",
       "      <td>6.70</td>\n",
       "      <td>NaN</td>\n",
       "      <td>12.77</td>\n",
       "      <td>4.66</td>\n",
       "      <td>1.64</td>\n",
       "      <td>3.64</td>\n",
       "    </tr>\n",
       "    <tr>\n",
       "      <th>4</th>\n",
       "      <td>1928</td>\n",
       "      <td>5</td>\n",
       "      <td>8.03</td>\n",
       "      <td>NaN</td>\n",
       "      <td>0.47</td>\n",
       "      <td>20.79</td>\n",
       "      <td>2.38</td>\n",
       "      <td>5.13</td>\n",
       "      <td>16.80</td>\n",
       "      <td>5.58</td>\n",
       "      <td>...</td>\n",
       "      <td>3.94</td>\n",
       "      <td>20.05</td>\n",
       "      <td>1.57</td>\n",
       "      <td>0.4</td>\n",
       "      <td>6.70</td>\n",
       "      <td>NaN</td>\n",
       "      <td>18.83</td>\n",
       "      <td>7.37</td>\n",
       "      <td>2.91</td>\n",
       "      <td>0.91</td>\n",
       "    </tr>\n",
       "  </tbody>\n",
       "</table>\n",
       "<p>5 rows × 53 columns</p>\n",
       "</div>"
      ],
      "text/plain": [
       "   YEAR  WEEK  ALABAMA  ALASKA  ARIZONA  ARKANSAS  CALIFORNIA  COLORADO  \\\n",
       "0  1928     1     3.67     NaN     1.90      4.11        1.38      8.38   \n",
       "1  1928     2     6.25     NaN     6.40      9.91        1.80      6.02   \n",
       "2  1928     3     7.95     NaN     4.50     11.15        1.31      2.86   \n",
       "3  1928     4    12.58     NaN     1.90     13.75        1.87     13.71   \n",
       "4  1928     5     8.03     NaN     0.47     20.79        2.38      5.13   \n",
       "\n",
       "   CONNECTICUT  DELAWARE  ...  SOUTH DAKOTA  TENNESSEE  TEXAS  UTAH  VERMONT  \\\n",
       "0         4.50      8.58  ...          5.69      22.03   1.18   0.4     0.28   \n",
       "1         9.00      7.30  ...          6.57      16.96   0.63   NaN     0.56   \n",
       "2         8.81     15.88  ...          2.04      24.66   0.62   0.2     1.12   \n",
       "3        10.40      4.29  ...          2.19      18.86   0.37   0.2     6.70   \n",
       "4        16.80      5.58  ...          3.94      20.05   1.57   0.4     6.70   \n",
       "\n",
       "   VIRGINIA  WASHINGTON  WEST VIRGINIA  WISCONSIN  WYOMING  \n",
       "0       NaN       14.83           3.36       1.54     0.91  \n",
       "1       NaN       17.34           4.19       0.96      NaN  \n",
       "2       NaN       15.67           4.19       4.79     1.36  \n",
       "3       NaN       12.77           4.66       1.64     3.64  \n",
       "4       NaN       18.83           7.37       2.91     0.91  \n",
       "\n",
       "[5 rows x 53 columns]"
      ]
     },
     "execution_count": 9,
     "metadata": {},
     "output_type": "execute_result"
    }
   ],
   "source": [
    "path='C:\\data\\measles_incidence.csv'\n",
    "data=pd.read_csv(path, skiprows=2, na_values='-')\n",
    "data.head()"
   ]
  },
  {
   "cell_type": "code",
   "execution_count": 10,
   "id": "7b44d663",
   "metadata": {},
   "outputs": [],
   "source": [
    "annual=data.drop('WEEK',axis=1)"
   ]
  },
  {
   "cell_type": "code",
   "execution_count": 12,
   "id": "f89b06b0",
   "metadata": {},
   "outputs": [
    {
     "name": "stdout",
     "output_type": "stream",
     "text": [
      "<pandas.core.groupby.generic.DataFrameGroupBy object at 0x000001675710B520>\n"
     ]
    }
   ],
   "source": [
    "grped=annual.groupby('YEAR')\n",
    "print(grped)"
   ]
  },
  {
   "cell_type": "code",
   "execution_count": 13,
   "id": "13b1d756",
   "metadata": {},
   "outputs": [],
   "source": [
    "annual=grped.sum()"
   ]
  },
  {
   "cell_type": "code",
   "execution_count": 14,
   "id": "2cb9af38",
   "metadata": {},
   "outputs": [
    {
     "data": {
      "text/html": [
       "<div>\n",
       "<style scoped>\n",
       "    .dataframe tbody tr th:only-of-type {\n",
       "        vertical-align: middle;\n",
       "    }\n",
       "\n",
       "    .dataframe tbody tr th {\n",
       "        vertical-align: top;\n",
       "    }\n",
       "\n",
       "    .dataframe thead th {\n",
       "        text-align: right;\n",
       "    }\n",
       "</style>\n",
       "<table border=\"1\" class=\"dataframe\">\n",
       "  <thead>\n",
       "    <tr style=\"text-align: right;\">\n",
       "      <th></th>\n",
       "      <th>ALABAMA</th>\n",
       "      <th>ALASKA</th>\n",
       "      <th>ARIZONA</th>\n",
       "      <th>ARKANSAS</th>\n",
       "      <th>CALIFORNIA</th>\n",
       "      <th>COLORADO</th>\n",
       "      <th>CONNECTICUT</th>\n",
       "      <th>DELAWARE</th>\n",
       "      <th>DISTRICT OF COLUMBIA</th>\n",
       "      <th>FLORIDA</th>\n",
       "      <th>...</th>\n",
       "      <th>SOUTH DAKOTA</th>\n",
       "      <th>TENNESSEE</th>\n",
       "      <th>TEXAS</th>\n",
       "      <th>UTAH</th>\n",
       "      <th>VERMONT</th>\n",
       "      <th>VIRGINIA</th>\n",
       "      <th>WASHINGTON</th>\n",
       "      <th>WEST VIRGINIA</th>\n",
       "      <th>WISCONSIN</th>\n",
       "      <th>WYOMING</th>\n",
       "    </tr>\n",
       "    <tr>\n",
       "      <th>YEAR</th>\n",
       "      <th></th>\n",
       "      <th></th>\n",
       "      <th></th>\n",
       "      <th></th>\n",
       "      <th></th>\n",
       "      <th></th>\n",
       "      <th></th>\n",
       "      <th></th>\n",
       "      <th></th>\n",
       "      <th></th>\n",
       "      <th></th>\n",
       "      <th></th>\n",
       "      <th></th>\n",
       "      <th></th>\n",
       "      <th></th>\n",
       "      <th></th>\n",
       "      <th></th>\n",
       "      <th></th>\n",
       "      <th></th>\n",
       "      <th></th>\n",
       "      <th></th>\n",
       "    </tr>\n",
       "  </thead>\n",
       "  <tbody>\n",
       "    <tr>\n",
       "      <th>1928</th>\n",
       "      <td>334.99</td>\n",
       "      <td>0.0</td>\n",
       "      <td>200.75</td>\n",
       "      <td>481.77</td>\n",
       "      <td>69.22</td>\n",
       "      <td>206.98</td>\n",
       "      <td>634.95</td>\n",
       "      <td>256.02</td>\n",
       "      <td>535.63</td>\n",
       "      <td>119.58</td>\n",
       "      <td>...</td>\n",
       "      <td>160.16</td>\n",
       "      <td>315.43</td>\n",
       "      <td>97.35</td>\n",
       "      <td>16.83</td>\n",
       "      <td>334.80</td>\n",
       "      <td>0.0</td>\n",
       "      <td>344.82</td>\n",
       "      <td>195.98</td>\n",
       "      <td>124.61</td>\n",
       "      <td>227.00</td>\n",
       "    </tr>\n",
       "    <tr>\n",
       "      <th>1929</th>\n",
       "      <td>111.93</td>\n",
       "      <td>0.0</td>\n",
       "      <td>54.88</td>\n",
       "      <td>67.22</td>\n",
       "      <td>72.80</td>\n",
       "      <td>74.24</td>\n",
       "      <td>614.82</td>\n",
       "      <td>239.82</td>\n",
       "      <td>94.20</td>\n",
       "      <td>78.01</td>\n",
       "      <td>...</td>\n",
       "      <td>167.77</td>\n",
       "      <td>33.04</td>\n",
       "      <td>71.28</td>\n",
       "      <td>68.90</td>\n",
       "      <td>105.31</td>\n",
       "      <td>0.0</td>\n",
       "      <td>248.60</td>\n",
       "      <td>380.14</td>\n",
       "      <td>1016.54</td>\n",
       "      <td>312.16</td>\n",
       "    </tr>\n",
       "    <tr>\n",
       "      <th>1930</th>\n",
       "      <td>157.00</td>\n",
       "      <td>0.0</td>\n",
       "      <td>466.31</td>\n",
       "      <td>53.44</td>\n",
       "      <td>760.24</td>\n",
       "      <td>1132.76</td>\n",
       "      <td>112.23</td>\n",
       "      <td>109.25</td>\n",
       "      <td>182.10</td>\n",
       "      <td>356.59</td>\n",
       "      <td>...</td>\n",
       "      <td>346.31</td>\n",
       "      <td>179.91</td>\n",
       "      <td>73.12</td>\n",
       "      <td>1044.79</td>\n",
       "      <td>236.69</td>\n",
       "      <td>0.0</td>\n",
       "      <td>631.64</td>\n",
       "      <td>157.70</td>\n",
       "      <td>748.58</td>\n",
       "      <td>341.55</td>\n",
       "    </tr>\n",
       "    <tr>\n",
       "      <th>1931</th>\n",
       "      <td>337.29</td>\n",
       "      <td>0.0</td>\n",
       "      <td>497.69</td>\n",
       "      <td>45.91</td>\n",
       "      <td>477.48</td>\n",
       "      <td>453.27</td>\n",
       "      <td>790.46</td>\n",
       "      <td>1003.28</td>\n",
       "      <td>832.99</td>\n",
       "      <td>260.79</td>\n",
       "      <td>...</td>\n",
       "      <td>212.36</td>\n",
       "      <td>134.79</td>\n",
       "      <td>39.56</td>\n",
       "      <td>29.72</td>\n",
       "      <td>318.40</td>\n",
       "      <td>0.0</td>\n",
       "      <td>197.43</td>\n",
       "      <td>291.38</td>\n",
       "      <td>506.57</td>\n",
       "      <td>60.69</td>\n",
       "    </tr>\n",
       "    <tr>\n",
       "      <th>1932</th>\n",
       "      <td>10.21</td>\n",
       "      <td>0.0</td>\n",
       "      <td>20.11</td>\n",
       "      <td>5.33</td>\n",
       "      <td>214.08</td>\n",
       "      <td>222.90</td>\n",
       "      <td>348.27</td>\n",
       "      <td>15.98</td>\n",
       "      <td>53.14</td>\n",
       "      <td>13.63</td>\n",
       "      <td>...</td>\n",
       "      <td>96.37</td>\n",
       "      <td>68.99</td>\n",
       "      <td>76.58</td>\n",
       "      <td>13.91</td>\n",
       "      <td>1146.08</td>\n",
       "      <td>53.4</td>\n",
       "      <td>631.93</td>\n",
       "      <td>599.65</td>\n",
       "      <td>935.31</td>\n",
       "      <td>242.10</td>\n",
       "    </tr>\n",
       "  </tbody>\n",
       "</table>\n",
       "<p>5 rows × 51 columns</p>\n",
       "</div>"
      ],
      "text/plain": [
       "      ALABAMA  ALASKA  ARIZONA  ARKANSAS  CALIFORNIA  COLORADO  CONNECTICUT  \\\n",
       "YEAR                                                                          \n",
       "1928   334.99     0.0   200.75    481.77       69.22    206.98       634.95   \n",
       "1929   111.93     0.0    54.88     67.22       72.80     74.24       614.82   \n",
       "1930   157.00     0.0   466.31     53.44      760.24   1132.76       112.23   \n",
       "1931   337.29     0.0   497.69     45.91      477.48    453.27       790.46   \n",
       "1932    10.21     0.0    20.11      5.33      214.08    222.90       348.27   \n",
       "\n",
       "      DELAWARE  DISTRICT OF COLUMBIA  FLORIDA  ...  SOUTH DAKOTA  TENNESSEE  \\\n",
       "YEAR                                           ...                            \n",
       "1928    256.02                535.63   119.58  ...        160.16     315.43   \n",
       "1929    239.82                 94.20    78.01  ...        167.77      33.04   \n",
       "1930    109.25                182.10   356.59  ...        346.31     179.91   \n",
       "1931   1003.28                832.99   260.79  ...        212.36     134.79   \n",
       "1932     15.98                 53.14    13.63  ...         96.37      68.99   \n",
       "\n",
       "      TEXAS     UTAH  VERMONT  VIRGINIA  WASHINGTON  WEST VIRGINIA  WISCONSIN  \\\n",
       "YEAR                                                                            \n",
       "1928  97.35    16.83   334.80       0.0      344.82         195.98     124.61   \n",
       "1929  71.28    68.90   105.31       0.0      248.60         380.14    1016.54   \n",
       "1930  73.12  1044.79   236.69       0.0      631.64         157.70     748.58   \n",
       "1931  39.56    29.72   318.40       0.0      197.43         291.38     506.57   \n",
       "1932  76.58    13.91  1146.08      53.4      631.93         599.65     935.31   \n",
       "\n",
       "      WYOMING  \n",
       "YEAR           \n",
       "1928   227.00  \n",
       "1929   312.16  \n",
       "1930   341.55  \n",
       "1931    60.69  \n",
       "1932   242.10  \n",
       "\n",
       "[5 rows x 51 columns]"
      ]
     },
     "execution_count": 14,
     "metadata": {},
     "output_type": "execute_result"
    }
   ],
   "source": [
    "annual.head()"
   ]
  },
  {
   "cell_type": "code",
   "execution_count": 15,
   "id": "88b14f50",
   "metadata": {},
   "outputs": [
    {
     "data": {
      "text/html": [
       "<div>\n",
       "<style scoped>\n",
       "    .dataframe tbody tr th:only-of-type {\n",
       "        vertical-align: middle;\n",
       "    }\n",
       "\n",
       "    .dataframe tbody tr th {\n",
       "        vertical-align: top;\n",
       "    }\n",
       "\n",
       "    .dataframe thead th {\n",
       "        text-align: right;\n",
       "    }\n",
       "</style>\n",
       "<table border=\"1\" class=\"dataframe\">\n",
       "  <thead>\n",
       "    <tr style=\"text-align: right;\">\n",
       "      <th></th>\n",
       "      <th>YEAR</th>\n",
       "      <th>ALABAMA</th>\n",
       "      <th>ALASKA</th>\n",
       "      <th>ARIZONA</th>\n",
       "      <th>ARKANSAS</th>\n",
       "      <th>CALIFORNIA</th>\n",
       "      <th>COLORADO</th>\n",
       "      <th>CONNECTICUT</th>\n",
       "      <th>DELAWARE</th>\n",
       "      <th>DISTRICT OF COLUMBIA</th>\n",
       "      <th>...</th>\n",
       "      <th>SOUTH DAKOTA</th>\n",
       "      <th>TENNESSEE</th>\n",
       "      <th>TEXAS</th>\n",
       "      <th>UTAH</th>\n",
       "      <th>VERMONT</th>\n",
       "      <th>VIRGINIA</th>\n",
       "      <th>WASHINGTON</th>\n",
       "      <th>WEST VIRGINIA</th>\n",
       "      <th>WISCONSIN</th>\n",
       "      <th>WYOMING</th>\n",
       "    </tr>\n",
       "  </thead>\n",
       "  <tbody>\n",
       "    <tr>\n",
       "      <th>0</th>\n",
       "      <td>1928</td>\n",
       "      <td>334.99</td>\n",
       "      <td>0.0</td>\n",
       "      <td>200.75</td>\n",
       "      <td>481.77</td>\n",
       "      <td>69.22</td>\n",
       "      <td>206.98</td>\n",
       "      <td>634.95</td>\n",
       "      <td>256.02</td>\n",
       "      <td>535.63</td>\n",
       "      <td>...</td>\n",
       "      <td>160.16</td>\n",
       "      <td>315.43</td>\n",
       "      <td>97.35</td>\n",
       "      <td>16.83</td>\n",
       "      <td>334.80</td>\n",
       "      <td>0.0</td>\n",
       "      <td>344.82</td>\n",
       "      <td>195.98</td>\n",
       "      <td>124.61</td>\n",
       "      <td>227.00</td>\n",
       "    </tr>\n",
       "    <tr>\n",
       "      <th>1</th>\n",
       "      <td>1929</td>\n",
       "      <td>111.93</td>\n",
       "      <td>0.0</td>\n",
       "      <td>54.88</td>\n",
       "      <td>67.22</td>\n",
       "      <td>72.80</td>\n",
       "      <td>74.24</td>\n",
       "      <td>614.82</td>\n",
       "      <td>239.82</td>\n",
       "      <td>94.20</td>\n",
       "      <td>...</td>\n",
       "      <td>167.77</td>\n",
       "      <td>33.04</td>\n",
       "      <td>71.28</td>\n",
       "      <td>68.90</td>\n",
       "      <td>105.31</td>\n",
       "      <td>0.0</td>\n",
       "      <td>248.60</td>\n",
       "      <td>380.14</td>\n",
       "      <td>1016.54</td>\n",
       "      <td>312.16</td>\n",
       "    </tr>\n",
       "    <tr>\n",
       "      <th>2</th>\n",
       "      <td>1930</td>\n",
       "      <td>157.00</td>\n",
       "      <td>0.0</td>\n",
       "      <td>466.31</td>\n",
       "      <td>53.44</td>\n",
       "      <td>760.24</td>\n",
       "      <td>1132.76</td>\n",
       "      <td>112.23</td>\n",
       "      <td>109.25</td>\n",
       "      <td>182.10</td>\n",
       "      <td>...</td>\n",
       "      <td>346.31</td>\n",
       "      <td>179.91</td>\n",
       "      <td>73.12</td>\n",
       "      <td>1044.79</td>\n",
       "      <td>236.69</td>\n",
       "      <td>0.0</td>\n",
       "      <td>631.64</td>\n",
       "      <td>157.70</td>\n",
       "      <td>748.58</td>\n",
       "      <td>341.55</td>\n",
       "    </tr>\n",
       "    <tr>\n",
       "      <th>3</th>\n",
       "      <td>1931</td>\n",
       "      <td>337.29</td>\n",
       "      <td>0.0</td>\n",
       "      <td>497.69</td>\n",
       "      <td>45.91</td>\n",
       "      <td>477.48</td>\n",
       "      <td>453.27</td>\n",
       "      <td>790.46</td>\n",
       "      <td>1003.28</td>\n",
       "      <td>832.99</td>\n",
       "      <td>...</td>\n",
       "      <td>212.36</td>\n",
       "      <td>134.79</td>\n",
       "      <td>39.56</td>\n",
       "      <td>29.72</td>\n",
       "      <td>318.40</td>\n",
       "      <td>0.0</td>\n",
       "      <td>197.43</td>\n",
       "      <td>291.38</td>\n",
       "      <td>506.57</td>\n",
       "      <td>60.69</td>\n",
       "    </tr>\n",
       "    <tr>\n",
       "      <th>4</th>\n",
       "      <td>1932</td>\n",
       "      <td>10.21</td>\n",
       "      <td>0.0</td>\n",
       "      <td>20.11</td>\n",
       "      <td>5.33</td>\n",
       "      <td>214.08</td>\n",
       "      <td>222.90</td>\n",
       "      <td>348.27</td>\n",
       "      <td>15.98</td>\n",
       "      <td>53.14</td>\n",
       "      <td>...</td>\n",
       "      <td>96.37</td>\n",
       "      <td>68.99</td>\n",
       "      <td>76.58</td>\n",
       "      <td>13.91</td>\n",
       "      <td>1146.08</td>\n",
       "      <td>53.4</td>\n",
       "      <td>631.93</td>\n",
       "      <td>599.65</td>\n",
       "      <td>935.31</td>\n",
       "      <td>242.10</td>\n",
       "    </tr>\n",
       "  </tbody>\n",
       "</table>\n",
       "<p>5 rows × 52 columns</p>\n",
       "</div>"
      ],
      "text/plain": [
       "   YEAR  ALABAMA  ALASKA  ARIZONA  ARKANSAS  CALIFORNIA  COLORADO  \\\n",
       "0  1928   334.99     0.0   200.75    481.77       69.22    206.98   \n",
       "1  1929   111.93     0.0    54.88     67.22       72.80     74.24   \n",
       "2  1930   157.00     0.0   466.31     53.44      760.24   1132.76   \n",
       "3  1931   337.29     0.0   497.69     45.91      477.48    453.27   \n",
       "4  1932    10.21     0.0    20.11      5.33      214.08    222.90   \n",
       "\n",
       "   CONNECTICUT  DELAWARE  DISTRICT OF COLUMBIA  ...  SOUTH DAKOTA  TENNESSEE  \\\n",
       "0       634.95    256.02                535.63  ...        160.16     315.43   \n",
       "1       614.82    239.82                 94.20  ...        167.77      33.04   \n",
       "2       112.23    109.25                182.10  ...        346.31     179.91   \n",
       "3       790.46   1003.28                832.99  ...        212.36     134.79   \n",
       "4       348.27     15.98                 53.14  ...         96.37      68.99   \n",
       "\n",
       "   TEXAS     UTAH  VERMONT  VIRGINIA  WASHINGTON  WEST VIRGINIA  WISCONSIN  \\\n",
       "0  97.35    16.83   334.80       0.0      344.82         195.98     124.61   \n",
       "1  71.28    68.90   105.31       0.0      248.60         380.14    1016.54   \n",
       "2  73.12  1044.79   236.69       0.0      631.64         157.70     748.58   \n",
       "3  39.56    29.72   318.40       0.0      197.43         291.38     506.57   \n",
       "4  76.58    13.91  1146.08      53.4      631.93         599.65     935.31   \n",
       "\n",
       "   WYOMING  \n",
       "0   227.00  \n",
       "1   312.16  \n",
       "2   341.55  \n",
       "3    60.69  \n",
       "4   242.10  \n",
       "\n",
       "[5 rows x 52 columns]"
      ]
     },
     "execution_count": 15,
     "metadata": {},
     "output_type": "execute_result"
    }
   ],
   "source": [
    "measles=annual.reset_index()\n",
    "measles.head()"
   ]
  },
  {
   "cell_type": "code",
   "execution_count": 16,
   "id": "c430c312",
   "metadata": {},
   "outputs": [],
   "source": [
    "measles=measles.melt(id_vars=\"YEAR\", value_name=\"incidence\", var_name=\"state\")"
   ]
  },
  {
   "cell_type": "code",
   "execution_count": 17,
   "id": "c44a5038",
   "metadata": {},
   "outputs": [
    {
     "data": {
      "text/html": [
       "<div>\n",
       "<style scoped>\n",
       "    .dataframe tbody tr th:only-of-type {\n",
       "        vertical-align: middle;\n",
       "    }\n",
       "\n",
       "    .dataframe tbody tr th {\n",
       "        vertical-align: top;\n",
       "    }\n",
       "\n",
       "    .dataframe thead th {\n",
       "        text-align: right;\n",
       "    }\n",
       "</style>\n",
       "<table border=\"1\" class=\"dataframe\">\n",
       "  <thead>\n",
       "    <tr style=\"text-align: right;\">\n",
       "      <th></th>\n",
       "      <th>YEAR</th>\n",
       "      <th>state</th>\n",
       "      <th>incidence</th>\n",
       "    </tr>\n",
       "  </thead>\n",
       "  <tbody>\n",
       "    <tr>\n",
       "      <th>0</th>\n",
       "      <td>1928</td>\n",
       "      <td>ALABAMA</td>\n",
       "      <td>334.99</td>\n",
       "    </tr>\n",
       "    <tr>\n",
       "      <th>1</th>\n",
       "      <td>1929</td>\n",
       "      <td>ALABAMA</td>\n",
       "      <td>111.93</td>\n",
       "    </tr>\n",
       "    <tr>\n",
       "      <th>2</th>\n",
       "      <td>1930</td>\n",
       "      <td>ALABAMA</td>\n",
       "      <td>157.00</td>\n",
       "    </tr>\n",
       "    <tr>\n",
       "      <th>3</th>\n",
       "      <td>1931</td>\n",
       "      <td>ALABAMA</td>\n",
       "      <td>337.29</td>\n",
       "    </tr>\n",
       "    <tr>\n",
       "      <th>4</th>\n",
       "      <td>1932</td>\n",
       "      <td>ALABAMA</td>\n",
       "      <td>10.21</td>\n",
       "    </tr>\n",
       "    <tr>\n",
       "      <th>5</th>\n",
       "      <td>1933</td>\n",
       "      <td>ALABAMA</td>\n",
       "      <td>65.22</td>\n",
       "    </tr>\n",
       "    <tr>\n",
       "      <th>6</th>\n",
       "      <td>1934</td>\n",
       "      <td>ALABAMA</td>\n",
       "      <td>590.27</td>\n",
       "    </tr>\n",
       "    <tr>\n",
       "      <th>7</th>\n",
       "      <td>1935</td>\n",
       "      <td>ALABAMA</td>\n",
       "      <td>265.34</td>\n",
       "    </tr>\n",
       "    <tr>\n",
       "      <th>8</th>\n",
       "      <td>1936</td>\n",
       "      <td>ALABAMA</td>\n",
       "      <td>20.78</td>\n",
       "    </tr>\n",
       "    <tr>\n",
       "      <th>9</th>\n",
       "      <td>1937</td>\n",
       "      <td>ALABAMA</td>\n",
       "      <td>22.46</td>\n",
       "    </tr>\n",
       "  </tbody>\n",
       "</table>\n",
       "</div>"
      ],
      "text/plain": [
       "   YEAR    state  incidence\n",
       "0  1928  ALABAMA     334.99\n",
       "1  1929  ALABAMA     111.93\n",
       "2  1930  ALABAMA     157.00\n",
       "3  1931  ALABAMA     337.29\n",
       "4  1932  ALABAMA      10.21\n",
       "5  1933  ALABAMA      65.22\n",
       "6  1934  ALABAMA     590.27\n",
       "7  1935  ALABAMA     265.34\n",
       "8  1936  ALABAMA      20.78\n",
       "9  1937  ALABAMA      22.46"
      ]
     },
     "execution_count": 17,
     "metadata": {},
     "output_type": "execute_result"
    }
   ],
   "source": [
    "measles.head(n=10)"
   ]
  },
  {
   "cell_type": "code",
   "execution_count": 18,
   "id": "58a47eb6",
   "metadata": {},
   "outputs": [],
   "source": [
    "colormap = alt.Scale(\n",
    "    domain=[0, 100, 200, 300, 1000, 3000],\n",
    "    range=[\n",
    "        \"#F0F8FF\",\n",
    "        \"cornflowerblue\",\n",
    "        \"mediumseagreen\",\n",
    "        \"#FFEE00\",\n",
    "        \"darkorange\",\n",
    "        \"firebrick\",\n",
    "    ],\n",
    "    type=\"sqrt\",\n",
    ")"
   ]
  },
  {
   "cell_type": "code",
   "execution_count": 20,
   "id": "d405b6a9",
   "metadata": {
    "scrolled": true
   },
   "outputs": [
    {
     "data": {
      "text/plain": [
       "DataTransformerRegistry.enable('json')"
      ]
     },
     "execution_count": 20,
     "metadata": {},
     "output_type": "execute_result"
    }
   ],
   "source": [
    "alt.data_transformers.enable('json')"
   ]
  },
  {
   "cell_type": "code",
   "execution_count": 21,
   "id": "c1496e3d",
   "metadata": {},
   "outputs": [
    {
     "data": {
      "text/html": [
       "<div>\n",
       "<style scoped>\n",
       "    .dataframe tbody tr th:only-of-type {\n",
       "        vertical-align: middle;\n",
       "    }\n",
       "\n",
       "    .dataframe tbody tr th {\n",
       "        vertical-align: top;\n",
       "    }\n",
       "\n",
       "    .dataframe thead th {\n",
       "        text-align: right;\n",
       "    }\n",
       "</style>\n",
       "<table border=\"1\" class=\"dataframe\">\n",
       "  <thead>\n",
       "    <tr style=\"text-align: right;\">\n",
       "      <th></th>\n",
       "      <th>YEAR</th>\n",
       "      <th>state</th>\n",
       "      <th>incidence</th>\n",
       "    </tr>\n",
       "  </thead>\n",
       "  <tbody>\n",
       "    <tr>\n",
       "      <th>0</th>\n",
       "      <td>1928</td>\n",
       "      <td>ALABAMA</td>\n",
       "      <td>334.99</td>\n",
       "    </tr>\n",
       "    <tr>\n",
       "      <th>1</th>\n",
       "      <td>1929</td>\n",
       "      <td>ALABAMA</td>\n",
       "      <td>111.93</td>\n",
       "    </tr>\n",
       "    <tr>\n",
       "      <th>2</th>\n",
       "      <td>1930</td>\n",
       "      <td>ALABAMA</td>\n",
       "      <td>157.00</td>\n",
       "    </tr>\n",
       "    <tr>\n",
       "      <th>3</th>\n",
       "      <td>1931</td>\n",
       "      <td>ALABAMA</td>\n",
       "      <td>337.29</td>\n",
       "    </tr>\n",
       "    <tr>\n",
       "      <th>4</th>\n",
       "      <td>1932</td>\n",
       "      <td>ALABAMA</td>\n",
       "      <td>10.21</td>\n",
       "    </tr>\n",
       "    <tr>\n",
       "      <th>...</th>\n",
       "      <td>...</td>\n",
       "      <td>...</td>\n",
       "      <td>...</td>\n",
       "    </tr>\n",
       "    <tr>\n",
       "      <th>3871</th>\n",
       "      <td>1999</td>\n",
       "      <td>WYOMING</td>\n",
       "      <td>0.00</td>\n",
       "    </tr>\n",
       "    <tr>\n",
       "      <th>3872</th>\n",
       "      <td>2000</td>\n",
       "      <td>WYOMING</td>\n",
       "      <td>0.00</td>\n",
       "    </tr>\n",
       "    <tr>\n",
       "      <th>3873</th>\n",
       "      <td>2001</td>\n",
       "      <td>WYOMING</td>\n",
       "      <td>0.00</td>\n",
       "    </tr>\n",
       "    <tr>\n",
       "      <th>3874</th>\n",
       "      <td>2002</td>\n",
       "      <td>WYOMING</td>\n",
       "      <td>0.00</td>\n",
       "    </tr>\n",
       "    <tr>\n",
       "      <th>3875</th>\n",
       "      <td>2003</td>\n",
       "      <td>WYOMING</td>\n",
       "      <td>0.00</td>\n",
       "    </tr>\n",
       "  </tbody>\n",
       "</table>\n",
       "<p>3876 rows × 3 columns</p>\n",
       "</div>"
      ],
      "text/plain": [
       "      YEAR    state  incidence\n",
       "0     1928  ALABAMA     334.99\n",
       "1     1929  ALABAMA     111.93\n",
       "2     1930  ALABAMA     157.00\n",
       "3     1931  ALABAMA     337.29\n",
       "4     1932  ALABAMA      10.21\n",
       "...    ...      ...        ...\n",
       "3871  1999  WYOMING       0.00\n",
       "3872  2000  WYOMING       0.00\n",
       "3873  2001  WYOMING       0.00\n",
       "3874  2002  WYOMING       0.00\n",
       "3875  2003  WYOMING       0.00\n",
       "\n",
       "[3876 rows x 3 columns]"
      ]
     },
     "execution_count": 21,
     "metadata": {},
     "output_type": "execute_result"
    }
   ],
   "source": [
    "measles"
   ]
  },
  {
   "cell_type": "code",
   "execution_count": 22,
   "id": "3e012690",
   "metadata": {},
   "outputs": [
    {
     "name": "stderr",
     "output_type": "stream",
     "text": [
      "C:\\Users\\zyang\\anaconda3\\envs\\geo_env\\lib\\site-packages\\altair\\utils\\core.py:317: FutureWarning: iteritems is deprecated and will be removed in a future version. Use .items instead.\n",
      "  for col_name, dtype in df.dtypes.iteritems():\n"
     ]
    },
    {
     "data": {
      "text/html": [
       "\n",
       "<div id=\"altair-viz-542305b345a749428702c7d8ff312935\"></div>\n",
       "<script type=\"text/javascript\">\n",
       "  var VEGA_DEBUG = (typeof VEGA_DEBUG == \"undefined\") ? {} : VEGA_DEBUG;\n",
       "  (function(spec, embedOpt){\n",
       "    let outputDiv = document.currentScript.previousElementSibling;\n",
       "    if (outputDiv.id !== \"altair-viz-542305b345a749428702c7d8ff312935\") {\n",
       "      outputDiv = document.getElementById(\"altair-viz-542305b345a749428702c7d8ff312935\");\n",
       "    }\n",
       "    const paths = {\n",
       "      \"vega\": \"https://cdn.jsdelivr.net/npm//vega@5?noext\",\n",
       "      \"vega-lib\": \"https://cdn.jsdelivr.net/npm//vega-lib?noext\",\n",
       "      \"vega-lite\": \"https://cdn.jsdelivr.net/npm//vega-lite@4.17.0?noext\",\n",
       "      \"vega-embed\": \"https://cdn.jsdelivr.net/npm//vega-embed@6?noext\",\n",
       "    };\n",
       "\n",
       "    function maybeLoadScript(lib, version) {\n",
       "      var key = `${lib.replace(\"-\", \"\")}_version`;\n",
       "      return (VEGA_DEBUG[key] == version) ?\n",
       "        Promise.resolve(paths[lib]) :\n",
       "        new Promise(function(resolve, reject) {\n",
       "          var s = document.createElement('script');\n",
       "          document.getElementsByTagName(\"head\")[0].appendChild(s);\n",
       "          s.async = true;\n",
       "          s.onload = () => {\n",
       "            VEGA_DEBUG[key] = version;\n",
       "            return resolve(paths[lib]);\n",
       "          };\n",
       "          s.onerror = () => reject(`Error loading script: ${paths[lib]}`);\n",
       "          s.src = paths[lib];\n",
       "        });\n",
       "    }\n",
       "\n",
       "    function showError(err) {\n",
       "      outputDiv.innerHTML = `<div class=\"error\" style=\"color:red;\">${err}</div>`;\n",
       "      throw err;\n",
       "    }\n",
       "\n",
       "    function displayChart(vegaEmbed) {\n",
       "      vegaEmbed(outputDiv, spec, embedOpt)\n",
       "        .catch(err => showError(`Javascript Error: ${err.message}<br>This usually means there's a typo in your chart specification. See the javascript console for the full traceback.`));\n",
       "    }\n",
       "\n",
       "    if(typeof define === \"function\" && define.amd) {\n",
       "      requirejs.config({paths});\n",
       "      require([\"vega-embed\"], displayChart, err => showError(`Error loading script: ${err.message}`));\n",
       "    } else {\n",
       "      maybeLoadScript(\"vega\", \"5\")\n",
       "        .then(() => maybeLoadScript(\"vega-lite\", \"4.17.0\"))\n",
       "        .then(() => maybeLoadScript(\"vega-embed\", \"6\"))\n",
       "        .catch(showError)\n",
       "        .then(() => displayChart(vegaEmbed));\n",
       "    }\n",
       "  })({\"config\": {\"view\": {\"continuousWidth\": 400, \"continuousHeight\": 300}}, \"data\": {\"url\": \"altair-data-c88ae29f5e52292f57ec56d169bfc4e9.json\", \"format\": {\"type\": \"json\"}}, \"mark\": \"rect\", \"encoding\": {\"color\": {\"field\": \"incidence\", \"scale\": {\"domain\": [0, 100, 200, 300, 1000, 3000], \"range\": [\"#F0F8FF\", \"cornflowerblue\", \"mediumseagreen\", \"#FFEE00\", \"darkorange\", \"firebrick\"], \"type\": \"sqrt\"}, \"sort\": \"ascending\", \"type\": \"quantitative\"}, \"tooltip\": [{\"field\": \"state\", \"type\": \"nominal\"}, {\"field\": \"YEAR\", \"type\": \"quantitative\"}, {\"field\": \"incidence\", \"type\": \"quantitative\"}], \"x\": {\"axis\": {\"ticks\": false, \"title\": null}, \"field\": \"YEAR\", \"type\": \"ordinal\"}, \"y\": {\"axis\": {\"ticks\": false, \"title\": null}, \"field\": \"state\", \"type\": \"nominal\"}}, \"height\": 500, \"width\": 700, \"$schema\": \"https://vega.github.io/schema/vega-lite/v4.17.0.json\"}, {\"mode\": \"vega-lite\"});\n",
       "</script>"
      ],
      "text/plain": [
       "alt.Chart(...)"
      ]
     },
     "execution_count": 22,
     "metadata": {},
     "output_type": "execute_result"
    }
   ],
   "source": [
    "chart = (\n",
    "   alt.Chart(measles)\n",
    "    .mark_rect()\n",
    "   .encode(\n",
    "       x=alt.X(\"YEAR:O\", axis=alt.Axis(title=None, ticks=False)),\n",
    "       y=alt.Y(\"state:N\", axis=alt.Axis(title=None, ticks=False)),\n",
    "       color=alt.Color(\"incidence:Q\", sort=\"ascending\", scale=colormap),\n",
    "       tooltip=[\"state\", \"YEAR\", \"incidence\"],\n",
    "   )\n",
    "   .properties(width=700, height=500)\n",
    ")\n",
    "\n",
    "chart "
   ]
  },
  {
   "cell_type": "code",
   "execution_count": 23,
   "id": "fdafaee4",
   "metadata": {},
   "outputs": [
    {
     "data": {
      "text/html": [
       "<div>\n",
       "<style scoped>\n",
       "    .dataframe tbody tr th:only-of-type {\n",
       "        vertical-align: middle;\n",
       "    }\n",
       "\n",
       "    .dataframe tbody tr th {\n",
       "        vertical-align: top;\n",
       "    }\n",
       "\n",
       "    .dataframe thead th {\n",
       "        text-align: right;\n",
       "    }\n",
       "</style>\n",
       "<table border=\"1\" class=\"dataframe\">\n",
       "  <thead>\n",
       "    <tr style=\"text-align: right;\">\n",
       "      <th></th>\n",
       "      <th>threshold</th>\n",
       "    </tr>\n",
       "  </thead>\n",
       "  <tbody>\n",
       "    <tr>\n",
       "      <th>0</th>\n",
       "      <td>1963</td>\n",
       "    </tr>\n",
       "  </tbody>\n",
       "</table>\n",
       "</div>"
      ],
      "text/plain": [
       "   threshold\n",
       "0       1963"
      ]
     },
     "execution_count": 23,
     "metadata": {},
     "output_type": "execute_result"
    }
   ],
   "source": [
    "threshold = pd.DataFrame([{\"threshold\": 1963}])\n",
    "threshold"
   ]
  },
  {
   "cell_type": "code",
   "execution_count": 24,
   "id": "e5663812",
   "metadata": {},
   "outputs": [
    {
     "name": "stderr",
     "output_type": "stream",
     "text": [
      "C:\\Users\\zyang\\anaconda3\\envs\\geo_env\\lib\\site-packages\\altair\\utils\\core.py:317: FutureWarning: iteritems is deprecated and will be removed in a future version. Use .items instead.\n",
      "  for col_name, dtype in df.dtypes.iteritems():\n"
     ]
    },
    {
     "data": {
      "text/html": [
       "\n",
       "<div id=\"altair-viz-8dfeeae1dce44d93a8e7b6f77553ae0f\"></div>\n",
       "<script type=\"text/javascript\">\n",
       "  var VEGA_DEBUG = (typeof VEGA_DEBUG == \"undefined\") ? {} : VEGA_DEBUG;\n",
       "  (function(spec, embedOpt){\n",
       "    let outputDiv = document.currentScript.previousElementSibling;\n",
       "    if (outputDiv.id !== \"altair-viz-8dfeeae1dce44d93a8e7b6f77553ae0f\") {\n",
       "      outputDiv = document.getElementById(\"altair-viz-8dfeeae1dce44d93a8e7b6f77553ae0f\");\n",
       "    }\n",
       "    const paths = {\n",
       "      \"vega\": \"https://cdn.jsdelivr.net/npm//vega@5?noext\",\n",
       "      \"vega-lib\": \"https://cdn.jsdelivr.net/npm//vega-lib?noext\",\n",
       "      \"vega-lite\": \"https://cdn.jsdelivr.net/npm//vega-lite@4.17.0?noext\",\n",
       "      \"vega-embed\": \"https://cdn.jsdelivr.net/npm//vega-embed@6?noext\",\n",
       "    };\n",
       "\n",
       "    function maybeLoadScript(lib, version) {\n",
       "      var key = `${lib.replace(\"-\", \"\")}_version`;\n",
       "      return (VEGA_DEBUG[key] == version) ?\n",
       "        Promise.resolve(paths[lib]) :\n",
       "        new Promise(function(resolve, reject) {\n",
       "          var s = document.createElement('script');\n",
       "          document.getElementsByTagName(\"head\")[0].appendChild(s);\n",
       "          s.async = true;\n",
       "          s.onload = () => {\n",
       "            VEGA_DEBUG[key] = version;\n",
       "            return resolve(paths[lib]);\n",
       "          };\n",
       "          s.onerror = () => reject(`Error loading script: ${paths[lib]}`);\n",
       "          s.src = paths[lib];\n",
       "        });\n",
       "    }\n",
       "\n",
       "    function showError(err) {\n",
       "      outputDiv.innerHTML = `<div class=\"error\" style=\"color:red;\">${err}</div>`;\n",
       "      throw err;\n",
       "    }\n",
       "\n",
       "    function displayChart(vegaEmbed) {\n",
       "      vegaEmbed(outputDiv, spec, embedOpt)\n",
       "        .catch(err => showError(`Javascript Error: ${err.message}<br>This usually means there's a typo in your chart specification. See the javascript console for the full traceback.`));\n",
       "    }\n",
       "\n",
       "    if(typeof define === \"function\" && define.amd) {\n",
       "      requirejs.config({paths});\n",
       "      require([\"vega-embed\"], displayChart, err => showError(`Error loading script: ${err.message}`));\n",
       "    } else {\n",
       "      maybeLoadScript(\"vega\", \"5\")\n",
       "        .then(() => maybeLoadScript(\"vega-lite\", \"4.17.0\"))\n",
       "        .then(() => maybeLoadScript(\"vega-embed\", \"6\"))\n",
       "        .catch(showError)\n",
       "        .then(() => displayChart(vegaEmbed));\n",
       "    }\n",
       "  })({\"config\": {\"view\": {\"continuousWidth\": 400, \"continuousHeight\": 300}}, \"layer\": [{\"data\": {\"url\": \"altair-data-c88ae29f5e52292f57ec56d169bfc4e9.json\", \"format\": {\"type\": \"json\"}}, \"mark\": \"rect\", \"encoding\": {\"color\": {\"field\": \"incidence\", \"scale\": {\"domain\": [0, 100, 200, 300, 1000, 3000], \"range\": [\"#F0F8FF\", \"cornflowerblue\", \"mediumseagreen\", \"#FFEE00\", \"darkorange\", \"firebrick\"], \"type\": \"sqrt\"}, \"sort\": \"ascending\", \"type\": \"quantitative\"}, \"tooltip\": [{\"field\": \"state\", \"type\": \"nominal\"}, {\"field\": \"YEAR\", \"type\": \"quantitative\"}, {\"field\": \"incidence\", \"type\": \"quantitative\"}], \"x\": {\"axis\": {\"ticks\": false, \"title\": null}, \"field\": \"YEAR\", \"type\": \"ordinal\"}, \"y\": {\"axis\": {\"ticks\": false, \"title\": null}, \"field\": \"state\", \"type\": \"nominal\"}}, \"height\": 500, \"width\": 700}, {\"data\": {\"url\": \"altair-data-d676c5169a80f978f8cf008b5d336e79.json\", \"format\": {\"type\": \"json\"}}, \"mark\": {\"type\": \"rule\", \"strokeWidth\": 4}, \"encoding\": {\"x\": {\"field\": \"threshold\", \"type\": \"ordinal\"}}}], \"$schema\": \"https://vega.github.io/schema/vega-lite/v4.17.0.json\"}, {\"mode\": \"vega-lite\"});\n",
       "</script>"
      ],
      "text/plain": [
       "alt.LayerChart(...)"
      ]
     },
     "execution_count": 24,
     "metadata": {},
     "output_type": "execute_result"
    }
   ],
   "source": [
    "rule = alt.Chart(threshold).mark_rule(strokeWidth=4).encode(x=\"threshold:O\")\n",
    "chart + rule"
   ]
  },
  {
   "cell_type": "code",
   "execution_count": 25,
   "id": "f324eaf7",
   "metadata": {},
   "outputs": [
    {
     "data": {
      "text/html": [
       "\n",
       "<div id=\"altair-viz-e5eb5a16147d4ffbab40a0c38d9e30dd\"></div>\n",
       "<script type=\"text/javascript\">\n",
       "  var VEGA_DEBUG = (typeof VEGA_DEBUG == \"undefined\") ? {} : VEGA_DEBUG;\n",
       "  (function(spec, embedOpt){\n",
       "    let outputDiv = document.currentScript.previousElementSibling;\n",
       "    if (outputDiv.id !== \"altair-viz-e5eb5a16147d4ffbab40a0c38d9e30dd\") {\n",
       "      outputDiv = document.getElementById(\"altair-viz-e5eb5a16147d4ffbab40a0c38d9e30dd\");\n",
       "    }\n",
       "    const paths = {\n",
       "      \"vega\": \"https://cdn.jsdelivr.net/npm//vega@5?noext\",\n",
       "      \"vega-lib\": \"https://cdn.jsdelivr.net/npm//vega-lib?noext\",\n",
       "      \"vega-lite\": \"https://cdn.jsdelivr.net/npm//vega-lite@4.17.0?noext\",\n",
       "      \"vega-embed\": \"https://cdn.jsdelivr.net/npm//vega-embed@6?noext\",\n",
       "    };\n",
       "\n",
       "    function maybeLoadScript(lib, version) {\n",
       "      var key = `${lib.replace(\"-\", \"\")}_version`;\n",
       "      return (VEGA_DEBUG[key] == version) ?\n",
       "        Promise.resolve(paths[lib]) :\n",
       "        new Promise(function(resolve, reject) {\n",
       "          var s = document.createElement('script');\n",
       "          document.getElementsByTagName(\"head\")[0].appendChild(s);\n",
       "          s.async = true;\n",
       "          s.onload = () => {\n",
       "            VEGA_DEBUG[key] = version;\n",
       "            return resolve(paths[lib]);\n",
       "          };\n",
       "          s.onerror = () => reject(`Error loading script: ${paths[lib]}`);\n",
       "          s.src = paths[lib];\n",
       "        });\n",
       "    }\n",
       "\n",
       "    function showError(err) {\n",
       "      outputDiv.innerHTML = `<div class=\"error\" style=\"color:red;\">${err}</div>`;\n",
       "      throw err;\n",
       "    }\n",
       "\n",
       "    function displayChart(vegaEmbed) {\n",
       "      vegaEmbed(outputDiv, spec, embedOpt)\n",
       "        .catch(err => showError(`Javascript Error: ${err.message}<br>This usually means there's a typo in your chart specification. See the javascript console for the full traceback.`));\n",
       "    }\n",
       "\n",
       "    if(typeof define === \"function\" && define.amd) {\n",
       "      requirejs.config({paths});\n",
       "      require([\"vega-embed\"], displayChart, err => showError(`Error loading script: ${err.message}`));\n",
       "    } else {\n",
       "      maybeLoadScript(\"vega\", \"5\")\n",
       "        .then(() => maybeLoadScript(\"vega-lite\", \"4.17.0\"))\n",
       "        .then(() => maybeLoadScript(\"vega-embed\", \"6\"))\n",
       "        .catch(showError)\n",
       "        .then(() => displayChart(vegaEmbed));\n",
       "    }\n",
       "  })({\"config\": {\"view\": {\"continuousWidth\": 400, \"continuousHeight\": 300}}, \"layer\": [{\"data\": {\"url\": \"altair-data-c88ae29f5e52292f57ec56d169bfc4e9.json\", \"format\": {\"type\": \"json\"}}, \"mark\": \"rect\", \"encoding\": {\"color\": {\"field\": \"incidence\", \"legend\": null, \"scale\": {\"scheme\": \"viridis\"}, \"sort\": \"ascending\", \"type\": \"quantitative\"}, \"tooltip\": [{\"field\": \"state\", \"type\": \"nominal\"}, {\"field\": \"YEAR\", \"type\": \"quantitative\"}, {\"field\": \"incidence\", \"type\": \"quantitative\"}], \"x\": {\"axis\": {\"ticks\": false, \"title\": null}, \"field\": \"YEAR\", \"type\": \"ordinal\"}, \"y\": {\"axis\": {\"ticks\": false, \"title\": null}, \"field\": \"state\", \"type\": \"nominal\"}}, \"height\": 450, \"width\": 700}, {\"data\": {\"url\": \"altair-data-d676c5169a80f978f8cf008b5d336e79.json\", \"format\": {\"type\": \"json\"}}, \"mark\": {\"type\": \"rule\", \"color\": \"white\", \"strokeWidth\": 4}, \"encoding\": {\"x\": {\"field\": \"threshold\", \"type\": \"ordinal\"}}}], \"$schema\": \"https://vega.github.io/schema/vega-lite/v4.17.0.json\"}, {\"mode\": \"vega-lite\"});\n",
       "</script>"
      ],
      "text/plain": [
       "alt.LayerChart(...)"
      ]
     },
     "execution_count": 25,
     "metadata": {},
     "output_type": "execute_result"
    }
   ],
   "source": [
    "chart = (\n",
    "    alt.Chart(measles)\n",
    "    .mark_rect()\n",
    "    .encode(\n",
    "        x=alt.X(\"YEAR:O\", axis=alt.Axis(title=None, ticks=False)),\n",
    "        y=alt.Y(\"state:N\", axis=alt.Axis(title=None, ticks=False)),\n",
    "        color=alt.Color(\n",
    "            \"incidence:Q\",\n",
    "            sort=\"ascending\",\n",
    "            scale=alt.Scale(scheme=\"viridis\"),\n",
    "            legend=None,\n",
    "        ),\n",
    "        tooltip=[\"state\", \"YEAR\", \"incidence\"],\n",
    "    )\n",
    "    .properties(width=700, height=450)\n",
    ")\n",
    "\n",
    "# Vertical line for vaccination year\n",
    "rule = (\n",
    "    alt.Chart(threshold).mark_rule(strokeWidth=4, color=\"white\").encode(x=\"threshold:O\")\n",
    ")\n",
    "\n",
    "chart + rule"
   ]
  },
  {
   "cell_type": "code",
   "execution_count": 26,
   "id": "9c6cdc3f",
   "metadata": {},
   "outputs": [
    {
     "data": {
      "text/html": [
       "\n",
       "<div id=\"altair-viz-fa9eb658c9a5490996e6d9d76ff0df0e\"></div>\n",
       "<script type=\"text/javascript\">\n",
       "  var VEGA_DEBUG = (typeof VEGA_DEBUG == \"undefined\") ? {} : VEGA_DEBUG;\n",
       "  (function(spec, embedOpt){\n",
       "    let outputDiv = document.currentScript.previousElementSibling;\n",
       "    if (outputDiv.id !== \"altair-viz-fa9eb658c9a5490996e6d9d76ff0df0e\") {\n",
       "      outputDiv = document.getElementById(\"altair-viz-fa9eb658c9a5490996e6d9d76ff0df0e\");\n",
       "    }\n",
       "    const paths = {\n",
       "      \"vega\": \"https://cdn.jsdelivr.net/npm//vega@5?noext\",\n",
       "      \"vega-lib\": \"https://cdn.jsdelivr.net/npm//vega-lib?noext\",\n",
       "      \"vega-lite\": \"https://cdn.jsdelivr.net/npm//vega-lite@4.17.0?noext\",\n",
       "      \"vega-embed\": \"https://cdn.jsdelivr.net/npm//vega-embed@6?noext\",\n",
       "    };\n",
       "\n",
       "    function maybeLoadScript(lib, version) {\n",
       "      var key = `${lib.replace(\"-\", \"\")}_version`;\n",
       "      return (VEGA_DEBUG[key] == version) ?\n",
       "        Promise.resolve(paths[lib]) :\n",
       "        new Promise(function(resolve, reject) {\n",
       "          var s = document.createElement('script');\n",
       "          document.getElementsByTagName(\"head\")[0].appendChild(s);\n",
       "          s.async = true;\n",
       "          s.onload = () => {\n",
       "            VEGA_DEBUG[key] = version;\n",
       "            return resolve(paths[lib]);\n",
       "          };\n",
       "          s.onerror = () => reject(`Error loading script: ${paths[lib]}`);\n",
       "          s.src = paths[lib];\n",
       "        });\n",
       "    }\n",
       "\n",
       "    function showError(err) {\n",
       "      outputDiv.innerHTML = `<div class=\"error\" style=\"color:red;\">${err}</div>`;\n",
       "      throw err;\n",
       "    }\n",
       "\n",
       "    function displayChart(vegaEmbed) {\n",
       "      vegaEmbed(outputDiv, spec, embedOpt)\n",
       "        .catch(err => showError(`Javascript Error: ${err.message}<br>This usually means there's a typo in your chart specification. See the javascript console for the full traceback.`));\n",
       "    }\n",
       "\n",
       "    if(typeof define === \"function\" && define.amd) {\n",
       "      requirejs.config({paths});\n",
       "      require([\"vega-embed\"], displayChart, err => showError(`Error loading script: ${err.message}`));\n",
       "    } else {\n",
       "      maybeLoadScript(\"vega\", \"5\")\n",
       "        .then(() => maybeLoadScript(\"vega-lite\", \"4.17.0\"))\n",
       "        .then(() => maybeLoadScript(\"vega-embed\", \"6\"))\n",
       "        .catch(showError)\n",
       "        .then(() => displayChart(vegaEmbed));\n",
       "    }\n",
       "  })({\"config\": {\"view\": {\"continuousWidth\": 400, \"continuousHeight\": 300}}, \"vconcat\": [{\"data\": {\"url\": \"altair-data-c88ae29f5e52292f57ec56d169bfc4e9.json\", \"format\": {\"type\": \"json\"}}, \"mark\": \"line\", \"encoding\": {\"x\": {\"axis\": {\"ticks\": false, \"title\": null}, \"field\": \"YEAR\", \"type\": \"ordinal\"}, \"y\": {\"aggregate\": \"mean\", \"axis\": {\"ticks\": false, \"title\": null}, \"field\": \"incidence\", \"type\": \"quantitative\"}}, \"height\": 200, \"width\": 700}, {\"layer\": [{\"data\": {\"url\": \"altair-data-c88ae29f5e52292f57ec56d169bfc4e9.json\", \"format\": {\"type\": \"json\"}}, \"mark\": \"rect\", \"encoding\": {\"color\": {\"field\": \"incidence\", \"legend\": null, \"scale\": {\"scheme\": \"viridis\"}, \"sort\": \"ascending\", \"type\": \"quantitative\"}, \"tooltip\": [{\"field\": \"state\", \"type\": \"nominal\"}, {\"field\": \"YEAR\", \"type\": \"quantitative\"}, {\"field\": \"incidence\", \"type\": \"quantitative\"}], \"x\": {\"axis\": {\"ticks\": false, \"title\": null}, \"field\": \"YEAR\", \"type\": \"ordinal\"}, \"y\": {\"axis\": {\"ticks\": false, \"title\": null}, \"field\": \"state\", \"type\": \"nominal\"}}, \"height\": 400, \"width\": 700}, {\"data\": {\"url\": \"altair-data-d676c5169a80f978f8cf008b5d336e79.json\", \"format\": {\"type\": \"json\"}}, \"mark\": {\"type\": \"rule\", \"color\": \"white\", \"strokeWidth\": 4}, \"encoding\": {\"x\": {\"field\": \"threshold\", \"type\": \"ordinal\"}}}]}], \"$schema\": \"https://vega.github.io/schema/vega-lite/v4.17.0.json\"}, {\"mode\": \"vega-lite\"});\n",
       "</script>"
      ],
      "text/plain": [
       "alt.VConcatChart(...)"
      ]
     },
     "execution_count": 26,
     "metadata": {},
     "output_type": "execute_result"
    }
   ],
   "source": [
    "chart = (\n",
    "    alt.Chart(measles)\n",
    "    .mark_rect()\n",
    "    .encode(\n",
    "        x=alt.X(\"YEAR:O\", axis=alt.Axis(title=None, ticks=False)),\n",
    "        y=alt.Y(\"state:N\", axis=alt.Axis(title=None, ticks=False)),\n",
    "        color=alt.Color(\n",
    "            \"incidence:Q\",\n",
    "            sort=\"ascending\",\n",
    "            scale=alt.Scale(scheme=\"viridis\"),\n",
    "            legend=None,\n",
    "        ),\n",
    "        tooltip=[\"state\", \"YEAR\", \"incidence\"],\n",
    "    )\n",
    "    .properties(width=700, height=400)\n",
    ")\n",
    "\n",
    "# The annual average\n",
    "annual_avg = (\n",
    "    alt.Chart(measles)\n",
    "    .mark_line()\n",
    "    .encode(\n",
    "        x=alt.X(\"YEAR:O\", axis=alt.Axis(title=None, ticks=False)),\n",
    "        y=alt.Y(\"mean(incidence):Q\", axis=alt.Axis(title=None, ticks=False)),\n",
    "    )\n",
    "    .properties(width=700, height=200)\n",
    ")\n",
    "\n",
    "# Add the vertical line \n",
    "rule = (\n",
    "    alt.Chart(threshold).mark_rule(strokeWidth=4, color=\"white\").encode(x=\"threshold:O\")\n",
    ")\n",
    "\n",
    "# Combine everything\n",
    "alt.vconcat(annual_avg, chart + rule)"
   ]
  },
  {
   "cell_type": "code",
   "execution_count": 32,
   "id": "6cb1b899",
   "metadata": {},
   "outputs": [
    {
     "name": "stderr",
     "output_type": "stream",
     "text": [
      "UsageError: Line magic function `%ls\"C:\\data\\ne_110m_admin_0_countries\"` not found.\n"
     ]
    }
   ],
   "source": [
    "%ls\"C:\\data\\ne_110m_admin_0_countries\""
   ]
  },
  {
   "cell_type": "code",
   "execution_count": 33,
   "id": "87b7c9fe",
   "metadata": {},
   "outputs": [],
   "source": [
    "import geopandas as gpd"
   ]
  },
  {
   "cell_type": "code",
   "execution_count": 35,
   "id": "d9445ead",
   "metadata": {},
   "outputs": [],
   "source": [
    "countries = gpd.read_file(r\"C:\\data\\ne_110m_admin_0_countries\")"
   ]
  },
  {
   "cell_type": "code",
   "execution_count": 36,
   "id": "dfb575f6",
   "metadata": {},
   "outputs": [
    {
     "data": {
      "text/html": [
       "<div>\n",
       "<style scoped>\n",
       "    .dataframe tbody tr th:only-of-type {\n",
       "        vertical-align: middle;\n",
       "    }\n",
       "\n",
       "    .dataframe tbody tr th {\n",
       "        vertical-align: top;\n",
       "    }\n",
       "\n",
       "    .dataframe thead th {\n",
       "        text-align: right;\n",
       "    }\n",
       "</style>\n",
       "<table border=\"1\" class=\"dataframe\">\n",
       "  <thead>\n",
       "    <tr style=\"text-align: right;\">\n",
       "      <th></th>\n",
       "      <th>iso_a3</th>\n",
       "      <th>name</th>\n",
       "      <th>continent</th>\n",
       "      <th>pop_est</th>\n",
       "      <th>gdp_md_est</th>\n",
       "      <th>geometry</th>\n",
       "    </tr>\n",
       "  </thead>\n",
       "  <tbody>\n",
       "    <tr>\n",
       "      <th>0</th>\n",
       "      <td>AFG</td>\n",
       "      <td>Afghanistan</td>\n",
       "      <td>Asia</td>\n",
       "      <td>34124811.0</td>\n",
       "      <td>64080.0</td>\n",
       "      <td>POLYGON ((61.21082 35.65007, 62.23065 35.27066...</td>\n",
       "    </tr>\n",
       "    <tr>\n",
       "      <th>1</th>\n",
       "      <td>AGO</td>\n",
       "      <td>Angola</td>\n",
       "      <td>Africa</td>\n",
       "      <td>29310273.0</td>\n",
       "      <td>189000.0</td>\n",
       "      <td>MULTIPOLYGON (((23.90415 -11.72228, 24.07991 -...</td>\n",
       "    </tr>\n",
       "    <tr>\n",
       "      <th>2</th>\n",
       "      <td>ALB</td>\n",
       "      <td>Albania</td>\n",
       "      <td>Europe</td>\n",
       "      <td>3047987.0</td>\n",
       "      <td>33900.0</td>\n",
       "      <td>POLYGON ((21.02004 40.84273, 20.99999 40.58000...</td>\n",
       "    </tr>\n",
       "    <tr>\n",
       "      <th>3</th>\n",
       "      <td>ARE</td>\n",
       "      <td>United Arab Emirates</td>\n",
       "      <td>Asia</td>\n",
       "      <td>6072475.0</td>\n",
       "      <td>667200.0</td>\n",
       "      <td>POLYGON ((51.57952 24.24550, 51.75744 24.29407...</td>\n",
       "    </tr>\n",
       "    <tr>\n",
       "      <th>4</th>\n",
       "      <td>ARG</td>\n",
       "      <td>Argentina</td>\n",
       "      <td>South America</td>\n",
       "      <td>44293293.0</td>\n",
       "      <td>879400.0</td>\n",
       "      <td>MULTIPOLYGON (((-66.95992 -54.89681, -67.56244...</td>\n",
       "    </tr>\n",
       "  </tbody>\n",
       "</table>\n",
       "</div>"
      ],
      "text/plain": [
       "  iso_a3                  name      continent     pop_est  gdp_md_est  \\\n",
       "0    AFG           Afghanistan           Asia  34124811.0     64080.0   \n",
       "1    AGO                Angola         Africa  29310273.0    189000.0   \n",
       "2    ALB               Albania         Europe   3047987.0     33900.0   \n",
       "3    ARE  United Arab Emirates           Asia   6072475.0    667200.0   \n",
       "4    ARG             Argentina  South America  44293293.0    879400.0   \n",
       "\n",
       "                                            geometry  \n",
       "0  POLYGON ((61.21082 35.65007, 62.23065 35.27066...  \n",
       "1  MULTIPOLYGON (((23.90415 -11.72228, 24.07991 -...  \n",
       "2  POLYGON ((21.02004 40.84273, 20.99999 40.58000...  \n",
       "3  POLYGON ((51.57952 24.24550, 51.75744 24.29407...  \n",
       "4  MULTIPOLYGON (((-66.95992 -54.89681, -67.56244...  "
      ]
     },
     "execution_count": 36,
     "metadata": {},
     "output_type": "execute_result"
    }
   ],
   "source": [
    "countries.head()"
   ]
  },
  {
   "cell_type": "code",
   "execution_count": 37,
   "id": "f5ad680e",
   "metadata": {},
   "outputs": [
    {
     "data": {
      "text/plain": [
       "geopandas.geodataframe.GeoDataFrame"
      ]
     },
     "execution_count": 37,
     "metadata": {},
     "output_type": "execute_result"
    }
   ],
   "source": [
    "type(countries) "
   ]
  },
  {
   "cell_type": "code",
   "execution_count": 38,
   "id": "76d78907",
   "metadata": {},
   "outputs": [
    {
     "data": {
      "text/plain": [
       "0    POLYGON ((61.21082 35.65007, 62.23065 35.27066...\n",
       "1    MULTIPOLYGON (((23.90415 -11.72228, 24.07991 -...\n",
       "2    POLYGON ((21.02004 40.84273, 20.99999 40.58000...\n",
       "3    POLYGON ((51.57952 24.24550, 51.75744 24.29407...\n",
       "4    MULTIPOLYGON (((-66.95992 -54.89681, -67.56244...\n",
       "5    POLYGON ((43.58275 41.09214, 44.97248 41.24813...\n",
       "6    MULTIPOLYGON (((-59.57209 -80.04018, -59.86585...\n",
       "7    POLYGON ((68.93500 -48.62500, 69.58000 -48.940...\n",
       "8    MULTIPOLYGON (((145.39798 -40.79255, 146.36412...\n",
       "9    POLYGON ((16.97967 48.12350, 16.90375 47.71487...\n",
       "Name: geometry, dtype: geometry"
      ]
     },
     "execution_count": 38,
     "metadata": {},
     "output_type": "execute_result"
    }
   ],
   "source": [
    "countries['geometry'].head(n=10)"
   ]
  },
  {
   "cell_type": "code",
   "execution_count": 39,
   "id": "313d70b3",
   "metadata": {},
   "outputs": [
    {
     "data": {
      "text/plain": [
       "7.383089462"
      ]
     },
     "execution_count": 39,
     "metadata": {},
     "output_type": "execute_result"
    }
   ],
   "source": [
    "countries['pop_est'].sum()/1e9"
   ]
  },
  {
   "cell_type": "code",
   "execution_count": 40,
   "id": "9cf2866b",
   "metadata": {},
   "outputs": [
    {
     "data": {
      "text/plain": [
       "<pandas.core.groupby.generic.DataFrameGroupBy object at 0x0000016757F23EB0>"
      ]
     },
     "execution_count": 40,
     "metadata": {},
     "output_type": "execute_result"
    }
   ],
   "source": [
    "grouped = countries.groupby('continent')\n",
    "grouped "
   ]
  },
  {
   "cell_type": "code",
   "execution_count": 41,
   "id": "e1e9801e",
   "metadata": {},
   "outputs": [],
   "source": [
    "pop_by_continent = grouped['pop_est'].sum()"
   ]
  },
  {
   "cell_type": "code",
   "execution_count": 42,
   "id": "d3ed3367",
   "metadata": {},
   "outputs": [],
   "source": [
    "pop_by_continent.sort_values(ascending=False, inplace=True)\n"
   ]
  },
  {
   "cell_type": "code",
   "execution_count": 43,
   "id": "9af66c1f",
   "metadata": {},
   "outputs": [
    {
     "data": {
      "text/plain": [
       "continent\n",
       "Asia                       4.389145e+00\n",
       "Africa                     1.219176e+00\n",
       "Europe                     7.463985e-01\n",
       "North America              5.730421e-01\n",
       "South America              4.185407e-01\n",
       "Oceania                    3.678284e-02\n",
       "Antarctica                 4.050000e-06\n",
       "Seven seas (open ocean)    1.400000e-07\n",
       "Name: pop_est, dtype: float64"
      ]
     },
     "execution_count": 43,
     "metadata": {},
     "output_type": "execute_result"
    }
   ],
   "source": [
    "pop_by_continent/1e9"
   ]
  },
  {
   "cell_type": "code",
   "execution_count": 44,
   "id": "189cfa5d",
   "metadata": {},
   "outputs": [
    {
     "data": {
      "text/html": [
       "<div>\n",
       "<style scoped>\n",
       "    .dataframe tbody tr th:only-of-type {\n",
       "        vertical-align: middle;\n",
       "    }\n",
       "\n",
       "    .dataframe tbody tr th {\n",
       "        vertical-align: top;\n",
       "    }\n",
       "\n",
       "    .dataframe thead th {\n",
       "        text-align: right;\n",
       "    }\n",
       "</style>\n",
       "<table border=\"1\" class=\"dataframe\">\n",
       "  <thead>\n",
       "    <tr style=\"text-align: right;\">\n",
       "      <th></th>\n",
       "      <th>iso_a3</th>\n",
       "      <th>name</th>\n",
       "      <th>continent</th>\n",
       "      <th>pop_est</th>\n",
       "      <th>gdp_md_est</th>\n",
       "      <th>geometry</th>\n",
       "    </tr>\n",
       "  </thead>\n",
       "  <tbody>\n",
       "    <tr>\n",
       "      <th>168</th>\n",
       "      <td>USA</td>\n",
       "      <td>United States of America</td>\n",
       "      <td>North America</td>\n",
       "      <td>326625791.0</td>\n",
       "      <td>18560000.0</td>\n",
       "      <td>MULTIPOLYGON (((-122.84000 49.00000, -120.0000...</td>\n",
       "    </tr>\n",
       "  </tbody>\n",
       "</table>\n",
       "</div>"
      ],
      "text/plain": [
       "    iso_a3                      name      continent      pop_est  gdp_md_est  \\\n",
       "168    USA  United States of America  North America  326625791.0  18560000.0   \n",
       "\n",
       "                                              geometry  \n",
       "168  MULTIPOLYGON (((-122.84000 49.00000, -120.0000...  "
      ]
     },
     "execution_count": 44,
     "metadata": {},
     "output_type": "execute_result"
    }
   ],
   "source": [
    "is_USA = countries['name']=='United States of America'\n",
    "USA= countries.loc[is_USA]\n",
    "USA"
   ]
  },
  {
   "cell_type": "code",
   "execution_count": 45,
   "id": "c13eb236",
   "metadata": {},
   "outputs": [
    {
     "data": {
      "image/svg+xml": [
       "<svg xmlns=\"http://www.w3.org/2000/svg\" xmlns:xlink=\"http://www.w3.org/1999/xlink\" width=\"113.21256665112259\" height=\"100.0\" viewBox=\"-175.9841686270069 14.723131975884407 113.21256665112259 60.82768962517303\" preserveAspectRatio=\"xMinYMin meet\"><g transform=\"matrix(1,0,0,-1,0,90.27395357694184)\"><g><path fill-rule=\"evenodd\" fill=\"#66cc99\" stroke=\"#555555\" stroke-width=\"2.0\" opacity=\"0.6\" d=\"M -122.84000000000005,49.00000000000014 L -120.0,49.00000000000006 L -117.03121000000002,49.00000000000006 L -116.04818000000002,49.00000000000014 L -112.99999999999997,49.00000000000014 L -110.05,49.00000000000006 L -107.04999999999998,49.00000000000006 L -104.04826000000004,48.9998600000001 L -100.65000000000006,49.00000000000014 L -97.22872000000478,49.000699999999966 L -95.15906950917204,49.00000000000006 L -95.15609000000003,49.38424999999998 L -94.81758000000002,49.389050000000026 L -94.64000000000004,48.839999999999975 L -94.32914000000002,48.67073999999997 L -93.63087000000004,48.609260000000035 L -92.60999999999996,48.44999999999999 L -91.64000000000001,48.140000000000015 L -90.83000000000004,48.27000000000007 L -89.60000000000005,48.01000000000013 L -89.27291744663665,48.019808254582784 L -88.3781141832867,48.30291758889368 L -87.43979262330029,47.940000000000026 L -86.46199083122823,47.55333801939196 L -85.6523632474034,47.22021881773054 L -84.87607988151493,46.90008331968241 L -84.77923824739989,46.637101955749074 L -84.54374874544584,46.538684190449175 L -84.60490000000004,46.43960000000001 L -84.33670000000004,46.408770000000146 L -84.14211951367335,46.51222585711568 L -84.09185126416145,46.27541860613829 L -83.89076534700573,46.11692698829907 L -83.61613094759056,46.116926988298985 L -83.46955074739469,45.994686387712505 L -83.59285071484305,45.81689362241258 L -82.55092464875824,45.34751658790549 L -82.33776312543114,44.44000000000011 L -82.13764238150395,43.57108755144003 L -82.42999999999998,42.98000000000005 L -82.90000000000003,42.43000000000001 L -83.11999999999998,42.08000000000001 L -83.14199968131263,41.97568105729286 L -83.02981014680702,41.832795722005955 L -82.69008928092026,41.675105088867355 L -82.4392777167916,41.675105088867355 L -81.27774654816713,42.20902598730689 L -80.24744767934791,42.36619985612259 L -78.93936214874378,42.86361135514795 L -78.91999999999999,42.965 L -79.01000000000005,43.26999999999998 L -79.17167355011185,43.46633942318425 L -78.72027991404235,43.6250894231849 L -77.7378850979577,43.62905558936333 L -76.82003414580555,43.62878428809378 L -76.50000000000003,44.018458893758634 L -76.37499999999997,44.09630999999996 L -75.31821,44.81645 L -74.86700000000005,45.00048000000015 L -73.34783000000004,45.007379999999955 L -71.50505999999993,45.008200000000045 L -71.405,45.255000000000166 L -71.08482000000006,45.3052400000002 L -70.65999999999997,45.460000000000036 L -70.30499999999998,45.91500000000005 L -69.99996999999999,46.693070000000006 L -69.23721600000002,47.44778099999999 L -68.90500000000006,47.185000000000116 L -68.23443999999995,47.35486000000003 L -67.79046000000002,47.06636000000003 L -67.79134000000002,45.70281 L -67.13741000000002,45.13753 L -66.96465999999998,44.80970000000019 L -68.03251999999992,44.32520000000005 L -69.05999999999997,43.9800000000001 L -70.11616999999998,43.684050000000184 L -70.64547563341105,43.09023834896399 L -70.81488999999999,42.865299999999905 L -70.82500000000002,42.33499999999995 L -70.49499999999989,41.805000000000035 L -70.07999999999998,41.78 L -70.185,42.145000000000124 L -69.8849699999999,41.92283000000006 L -69.96502999999998,41.63717000000011 L -70.64000000000001,41.474999999999994 L -71.12039000000007,41.4944500000002 L -71.85999999999993,41.32000000000011 L -72.29499999999996,41.27000000000004 L -72.87643000000006,41.220650000000006 L -73.71000000000004,40.931102351654516 L -72.2412599999999,41.11948000000018 L -71.94499999999991,40.93000000000012 L -73.34499999999991,40.63000000000011 L -73.98200000000006,40.6279999999999 L -73.95232499999992,40.75075000000007 L -74.25671000000003,40.473510000000005 L -73.9624399999999,40.42763000000005 L -74.17838,39.70926 L -74.9060399999999,38.939539999999994 L -74.98041,39.1964000000001 L -75.20002,39.24845000000013 L -75.52805000000001,39.49850000000012 L -75.31999999999994,38.96000000000009 L -75.07183476478986,38.782032230179226 L -75.05672999999999,38.40412000000006 L -75.37746999999999,38.01550999999998 L -75.94022999999993,37.21689000000012 L -76.03126999999998,37.25660000000002 L -75.72204999999988,37.93705000000014 L -76.23286999999999,38.31921499999996 L -76.35000000000002,39.150000000000006 L -76.54272499999999,38.71761500000014 L -76.32933000000006,38.08326000000008 L -76.98999793161352,38.239991766913334 L -76.30161999999999,37.91794499999989 L -76.25873999999999,36.96640000000005 L -75.97179999999992,36.897260000000045 L -75.86803999999992,36.55125000000007 L -75.72748999999993,35.55074000000016 L -76.36317999999994,34.808540000000164 L -77.39763499999987,34.51201000000003 L -78.05496000000002,33.92546999999999 L -78.55434999999991,33.86133000000015 L -79.06067000000002,33.49395000000001 L -79.20357000000001,33.158390000000026 L -80.3013249999999,32.50935500000011 L -80.86498,32.03330000000008 L -81.33629000000002,31.440489999999983 L -81.49041999999997,30.729990000000157 L -81.31371000000001,30.035520000000048 L -80.97999999999999,29.18000000000015 L -80.53558499999986,28.47213000000005 L -80.52999999999989,28.04000000000005 L -80.05653928497762,26.88000000000008 L -80.08801499999998,26.205765000000014 L -80.13155999999995,25.816775000000035 L -80.38103000000001,25.20616000000004 L -80.67999999999998,25.080000000000013 L -81.17213000000001,25.201260000000076 L -81.33000000000004,25.639999999999958 L -81.70999999999987,25.870000000000033 L -82.23999999999998,26.73000000000016 L -82.70515000000003,27.495040000000103 L -82.85525999999999,27.886240000000072 L -82.65,28.550000000000097 L -82.92999999999998,29.10000000000005 L -83.70959000000002,29.9365600000001 L -84.1,30.09000000000006 L -85.10881999999992,29.6361500000001 L -85.28784000000005,29.68612000000016 L -85.7731,30.152610000000152 L -86.39999999999986,30.400000000000148 L -87.53035999999994,30.274330000000077 L -88.41781999999998,30.384899999999988 L -89.18048999999993,30.31598000000008 L -89.59383117841983,30.159994004836875 L -89.413735,29.894190000000037 L -89.43,29.488639999999947 L -89.21767,29.29108000000008 L -89.40822999999997,29.15961000000007 L -89.77927999999991,29.307140000000174 L -90.15462999999994,29.1174300000001 L -90.88022499999997,29.14853500000015 L -91.62678499999996,29.677000000000163 L -92.49905999999999,29.55230000000006 L -93.22636999999997,29.783750000000026 L -93.84841999999992,29.71363000000011 L -94.69,29.48000000000016 L -95.60025999999993,28.738630000000086 L -96.59403999999998,28.307480000000083 L -97.1399999999999,27.830000000000098 L -97.36999999999998,27.38000000000008 L -97.37999999999997,26.690000000000083 L -97.32999999999998,26.21000000000012 L -97.1399999999999,25.870000000000033 L -97.52999999999992,25.84000000000009 L -98.23999999999995,26.06000000000006 L -99.01999999999995,26.370000000000033 L -99.30000000000001,26.840000000000032 L -99.51999999999994,27.54000000000005 L -100.10999999999999,28.110000000000156 L -100.45584000000002,28.69612000000012 L -100.95759999999999,29.380710000000164 L -101.66239999999999,29.779300000000063 L -102.48000000000002,29.75999999999999 L -103.11000000000001,28.97 L -103.94,29.27000000000004 L -104.45696999999991,29.57196000000002 L -104.70575,30.121730000000042 L -105.03737000000004,30.644019999999927 L -105.63159000000002,31.08383000000009 L -106.14290000000001,31.399950000000075 L -106.5075899999999,31.754519999999985 L -108.24000000000001,31.754853718166373 L -108.24193999999994,31.342220000000054 L -109.03500000000003,31.341940000000136 L -111.02361000000005,31.33471999999992 L -113.30498,32.03914000000012 L -114.815,32.52528000000001 L -114.72138999999994,32.72082999999989 L -115.99134999999998,32.61239000000009 L -117.12775999999987,32.535339999999934 L -117.29593769127396,33.04622461520384 L -117.94400000000003,33.621236431201424 L -118.41060227589749,33.74090922312442 L -118.51989482279978,34.02778157757578 L -119.08099999999997,34.07799999999989 L -119.43884064201667,34.34847717828424 L -120.36777999999993,34.447110000000094 L -120.62286,34.60855000000004 L -120.74432999999993,35.15686000000014 L -121.71456999999995,36.161529999999885 L -122.54746999999993,37.551760000000144 L -122.51201000000005,37.78339000000008 L -122.95319000000002,38.11371000000014 L -123.72720000000007,38.951660000000146 L -123.86516999999999,39.76699000000005 L -124.39806999999996,40.313199999999966 L -124.17885999999994,41.142020000000144 L -124.21370000000003,41.99964000000017 L -124.53283999999998,42.76599000000013 L -124.14214,43.708380000000005 L -124.020535,44.61589499999994 L -123.8989299999999,45.52341000000004 L -124.079635,46.86475000000007 L -124.3956699999999,47.72017000000014 L -124.68721008300781,48.18443298339858 L -124.56610107421875,48.37971496582034 L -123.12,48.04000000000008 L -122.58735999999988,47.09600000000009 L -122.34000000000005,47.36000000000004 L -122.49999999999994,48.18000000000009 L -122.84000000000005,49.00000000000014 z\" /><path fill-rule=\"evenodd\" fill=\"#66cc99\" stroke=\"#555555\" stroke-width=\"2.0\" opacity=\"0.6\" d=\"M -140.98598761037567,69.71199839952632 L -140.986,69.71200000000002 L -140.9925,66.00003000000004 L -140.99777999999998,60.30638999999999 L -140.01299999999998,60.276820000000015 L -139.039,60.0 L -138.34089,59.56211000000002 L -137.4525,58.90499999999997 L -136.47972000000007,59.46389000000008 L -135.47583000000003,59.787780000000026 L -134.94500000000008,59.27056000000016 L -134.27111000000005,58.86111000000008 L -133.35556000000003,58.41028000000006 L -132.73042000000004,57.69288999999998 L -131.70780999999997,56.55212000000003 L -130.00778000000003,55.91583000000011 L -129.98000000000002,55.28499999999997 L -130.53610999999995,54.80278000000001 L -130.53610895273678,54.802754476799336 L -130.53611018946734,54.80275340434943 L -131.08581823797215,55.17890615500207 L -131.9672114671423,55.497775580459006 L -132.25001074285956,56.3699962428974 L -133.53918108435641,57.17888743756217 L -134.07806292029602,58.12306753196694 L -135.03821103227904,58.187714748763966 L -136.62806230995477,58.212209377670405 L -137.80000627968602,58.499995429103734 L -139.867787041413,59.53776154238918 L -140.82527381713302,59.72751740176511 L -142.57444353556446,60.08444651960494 L -143.9588809948799,59.99918040632343 L -145.9255568168279,60.45860972761423 L -147.11437394914668,60.88465607364466 L -148.22430620012764,60.672989406977194 L -148.01806555885085,59.97832896589367 L -148.57082251686086,59.91417267520333 L -149.72785783587585,59.70565827090559 L -150.60824337461645,59.36821116803944 L -151.71639278868332,59.15582103131993 L -151.85943315326725,59.744984035879554 L -151.4097190012472,60.72580272077934 L -150.3469414947325,61.033587551509896 L -150.62111080625706,61.2844249538544 L -151.89583919981686,60.72719798445124 L -152.57832984109558,60.061657212964235 L -154.01917212625767,59.35027944603431 L -153.2875113596532,58.86472768821983 L -154.23249243875847,58.14637360293057 L -155.30749142151024,57.727794501366276 L -156.30833472392308,57.422774359763594 L -156.5560973785464,56.97998484967067 L -158.1172165598678,56.46360809999422 L -158.43332129619716,55.994153550838575 L -159.60332739971744,55.56668610292016 L -160.28971961163433,55.643580634170604 L -161.2230476552578,55.36473460552352 L -162.23776607974105,55.02418691672014 L -163.0694465810464,54.68973704692712 L -164.7855692210272,54.404173082082195 L -164.9422263255201,54.57222483989537 L -163.84833960676568,55.039431464246064 L -162.87000139061598,55.34804311789324 L -161.8041749745961,55.89498647727038 L -160.56360470278122,56.00805451112498 L -160.07055986228448,56.4180553249287 L -158.68444291891953,57.016675116597895 L -158.46109737855406,57.21692129172882 L -157.72277035218394,57.57000051536309 L -157.55027442119365,58.32832632103026 L -157.041674974577,58.91888458926175 L -158.19473120830557,58.61580231386978 L -158.51721798402306,58.78778148053735 L -159.05860612692882,58.42418610293163 L -159.7116670400174,58.93139028587629 L -159.9812888255002,58.57254914004167 L -160.3552711659965,59.07112335879367 L -161.35500342511511,58.670837714260784 L -161.96889360252635,58.671664537177406 L -162.05498653872468,59.26692536074748 L -161.87417070213542,59.63362132429063 L -162.51805904849215,59.98972361921386 L -163.81834143782024,59.79805573184342 L -164.66221757714655,60.2674844427826 L -165.34638770247483,60.50749563256235 L -165.35083187565192,61.07389516869753 L -166.12137915755605,61.50001902937626 L -165.7344518707706,62.07499685327184 L -164.91917863671793,62.63307648380797 L -164.56250790103934,63.146378485762995 L -163.7533324859971,63.2194489610238 L -163.0672244944579,63.059458726648046 L -162.26055538638178,63.541935736741124 L -161.53444983624865,63.45581696232679 L -160.7725066803211,63.76610810002322 L -160.95833513084264,64.22279857040272 L -161.51806840721218,64.40278758407527 L -160.77777767641484,64.78860382756645 L -161.39192623598768,64.77723501246237 L -162.45305009666893,64.55944468856816 L -162.75778601789418,64.33860545516876 L -163.5463942128843,64.55916046819053 L -164.96082984114517,64.4469450954688 L -166.4252882558645,64.68667206487066 L -166.84500423893914,65.08889557561449 L -168.11056006576715,65.66999705673678 L -166.70527116602196,66.08831777613935 L -164.4747096425755,66.57666006129753 L -163.65251176659567,66.57666006129753 L -163.78860165103626,66.0772073431967 L -161.67777442121013,66.11611969671245 L -162.48971452538007,66.73556509059514 L -163.7197169667912,67.11639455837005 L -164.43099138085654,67.61633820257774 L -165.39028683170676,68.04277212185028 L -166.76444068099607,68.35887685817971 L -166.2047074046267,68.8830309109162 L -164.4308105133435,68.91553538682777 L -163.16861365461452,69.37111481391284 L -162.93056616926202,69.8580618353993 L -161.90889726463558,70.33332998318767 L -160.93479651593367,70.44768992784961 L -159.03917578838713,70.89164215766888 L -158.11972286683397,70.82472117785107 L -156.5808245513981,71.35776357694178 L -155.0677902903243,71.14777639432364 L -154.3441652089412,70.69640859647015 L -153.9000062733926,70.88998851183564 L -152.21000606993528,70.82999217394487 L -152.27000240782615,70.6000062120298 L -150.7399924387445,70.43001658800566 L -149.72000301816752,70.53001048449048 L -147.61336157935705,70.21403493924183 L -145.68998980022536,70.12000967068678 L -144.92001095907642,69.98999176704052 L -143.58944618042517,70.15251414659835 L -142.07251034871354,69.85193817817267 L -140.98598752156073,69.71199839952632 L -140.98598761037567,69.71199839952632 z\" /><path fill-rule=\"evenodd\" fill=\"#66cc99\" stroke=\"#555555\" stroke-width=\"2.0\" opacity=\"0.6\" d=\"M -155.54211,19.083480000000037 L -155.68816999999996,18.916190000000057 L -155.93665000000001,19.05938999999998 L -155.90805999999995,19.338880000000046 L -156.07347000000001,19.702940000000012 L -156.02368,19.814219999999978 L -155.85008,19.97729000000004 L -155.91907,20.173949999999962 L -155.86108000000002,20.267210000000034 L -155.78504999999996,20.248699999999985 L -155.40213999999997,20.079750000000047 L -155.22452000000004,19.99302 L -155.06226000000004,19.85910000000007 L -154.80741,19.508710000000065 L -154.83146999999997,19.453280000000035 L -155.22217000000003,19.239720000000062 L -155.54211,19.083480000000037 z\" /><path fill-rule=\"evenodd\" fill=\"#66cc99\" stroke=\"#555555\" stroke-width=\"2.0\" opacity=\"0.6\" d=\"M -156.07925999999998,20.643969999999996 L -156.41445000000002,20.572409999999962 L -156.58673,20.782999999999987 L -156.70166999999998,20.864299999999957 L -156.71055,20.926759999999973 L -156.61257999999998,21.012489999999957 L -156.25711,20.917449999999974 L -155.99566000000004,20.764039999999994 L -156.07925999999998,20.643969999999996 z\" /><path fill-rule=\"evenodd\" fill=\"#66cc99\" stroke=\"#555555\" stroke-width=\"2.0\" opacity=\"0.6\" d=\"M -156.75824,21.17683999999997 L -156.78932999999995,21.068730000000016 L -157.32521000000003,21.097770000000025 L -157.25027,21.219580000000008 L -156.75824,21.17683999999997 z\" /><path fill-rule=\"evenodd\" fill=\"#66cc99\" stroke=\"#555555\" stroke-width=\"2.0\" opacity=\"0.6\" d=\"M -157.65283000000005,21.32217000000003 L -157.70702999999997,21.26442 L -157.77860000000004,21.277290000000022 L -158.12667000000005,21.31244000000001 L -158.2538,21.539190000000048 L -158.29264999999998,21.579120000000017 L -158.02519999999998,21.71696000000003 L -157.94161000000003,21.652720000000016 L -157.65283000000005,21.32217000000003 z\" /><path fill-rule=\"evenodd\" fill=\"#66cc99\" stroke=\"#555555\" stroke-width=\"2.0\" opacity=\"0.6\" d=\"M -159.34512000000004,21.98199999999997 L -159.46372000000002,21.882990000000035 L -159.80050999999997,22.06532999999996 L -159.74877000000004,22.13820000000004 L -159.5962,22.23618000000002 L -159.36568999999997,22.214939999999956 L -159.34512000000004,21.98199999999997 z\" /><path fill-rule=\"evenodd\" fill=\"#66cc99\" stroke=\"#555555\" stroke-width=\"2.0\" opacity=\"0.6\" d=\"M -153.0063140533369,57.11584219016592 L -154.00509029845813,56.73467682558109 L -154.51640275777007,56.992748928446645 L -154.67099280497115,57.46119578717253 L -153.76277950744145,57.81657461204372 L -153.22872941792116,57.96896841087246 L -152.5647906158351,57.901427313867 L -152.14114722390642,57.59105866152203 L -153.0063140533369,57.11584219016592 z\" /><path fill-rule=\"evenodd\" fill=\"#66cc99\" stroke=\"#555555\" stroke-width=\"2.0\" opacity=\"0.6\" d=\"M -165.57916419173358,59.909986884187504 L -166.19277014876727,59.75444082298904 L -166.848337368822,59.94140615502101 L -167.45527706609005,60.21306915957942 L -166.46779212142462,60.38416982689782 L -165.67442969466367,60.29360687930628 L -165.57916419173358,59.909986884187504 z\" /><path fill-rule=\"evenodd\" fill=\"#66cc99\" stroke=\"#555555\" stroke-width=\"2.0\" opacity=\"0.6\" d=\"M -171.7316568675394,63.78251536727595 L -171.11443356024532,63.59219106714494 L -170.4911124339407,63.69497549097355 L -169.68250545965356,63.43111562769121 L -168.68943946030066,63.29750621200054 L -168.7719408844547,63.18859813094548 L -169.52943986720513,62.976931464277925 L -170.29055620021597,63.194437567794495 L -170.67138566799096,63.375821845138915 L -171.55306311753876,63.31778921167512 L -171.79111060289125,63.40584585230053 L -171.7316568675394,63.78251536727595 z\" /></g></g></svg>"
      ],
      "text/plain": [
       "<shapely.geometry.multipolygon.MultiPolygon at 0x16758313fa0>"
      ]
     },
     "execution_count": 45,
     "metadata": {},
     "output_type": "execute_result"
    }
   ],
   "source": [
    "USA.squeeze().geometry"
   ]
  },
  {
   "cell_type": "code",
   "execution_count": 46,
   "id": "6cfafb4b",
   "metadata": {},
   "outputs": [
    {
     "name": "stdout",
     "output_type": "stream",
     "text": [
      "The typr of the USA is:  <class 'pandas.core.series.Series'>\n"
     ]
    },
    {
     "name": "stderr",
     "output_type": "stream",
     "text": [
      "C:\\Users\\zyang\\anaconda3\\envs\\geo_env\\lib\\site-packages\\pandas\\core\\dtypes\\inference.py:387: ShapelyDeprecationWarning: Iteration over multi-part geometries is deprecated and will be removed in Shapely 2.0. Use the `geoms` property to access the constituent parts of a multi-part geometry.\n",
      "  iter(obj)  # Can iterate over it.\n",
      "C:\\Users\\zyang\\anaconda3\\envs\\geo_env\\lib\\site-packages\\pandas\\core\\dtypes\\inference.py:388: ShapelyDeprecationWarning: __len__ for multi-part geometries is deprecated and will be removed in Shapely 2.0. Check the length of the `geoms` property instead to get the  number of parts of a multi-part geometry.\n",
      "  len(obj)  # Has a length associated with it.\n",
      "C:\\Users\\zyang\\anaconda3\\envs\\geo_env\\lib\\site-packages\\pandas\\io\\formats\\printing.py:117: ShapelyDeprecationWarning: Iteration over multi-part geometries is deprecated and will be removed in Shapely 2.0. Use the `geoms` property to access the constituent parts of a multi-part geometry.\n",
      "  s = iter(seq)\n",
      "C:\\Users\\zyang\\anaconda3\\envs\\geo_env\\lib\\site-packages\\pandas\\io\\formats\\printing.py:121: ShapelyDeprecationWarning: __len__ for multi-part geometries is deprecated and will be removed in Shapely 2.0. Check the length of the `geoms` property instead to get the  number of parts of a multi-part geometry.\n",
      "  for i in range(min(nitems, len(seq)))\n",
      "C:\\Users\\zyang\\anaconda3\\envs\\geo_env\\lib\\site-packages\\pandas\\io\\formats\\printing.py:125: ShapelyDeprecationWarning: __len__ for multi-part geometries is deprecated and will be removed in Shapely 2.0. Check the length of the `geoms` property instead to get the  number of parts of a multi-part geometry.\n",
      "  if nitems < len(seq):\n"
     ]
    },
    {
     "data": {
      "text/plain": [
       "iso_a3                                                      USA\n",
       "name                                   United States of America\n",
       "continent                                         North America\n",
       "pop_est                                             326625791.0\n",
       "gdp_md_est                                           18560000.0\n",
       "geometry      (POLYGON ((-122.84000000000005 49.000000000000...\n",
       "Name: 168, dtype: object"
      ]
     },
     "execution_count": 46,
     "metadata": {},
     "output_type": "execute_result"
    }
   ],
   "source": [
    "USA=USA.squeeze()\n",
    "print(\"The typr of the USA is: \", type(USA))\n",
    "USA"
   ]
  },
  {
   "cell_type": "code",
   "execution_count": 47,
   "id": "edde4e1a",
   "metadata": {},
   "outputs": [
    {
     "data": {
      "text/plain": [
       "shapely.geometry.multipolygon.MultiPolygon"
      ]
     },
     "execution_count": 47,
     "metadata": {},
     "output_type": "execute_result"
    }
   ],
   "source": [
    "type(USA.geometry)"
   ]
  },
  {
   "cell_type": "code",
   "execution_count": 48,
   "id": "40bdd402",
   "metadata": {},
   "outputs": [
    {
     "data": {
      "image/svg+xml": [
       "<svg xmlns=\"http://www.w3.org/2000/svg\" xmlns:xlink=\"http://www.w3.org/1999/xlink\" width=\"113.21256665112259\" height=\"100.0\" viewBox=\"-175.9841686270069 14.723131975884407 113.21256665112259 60.82768962517303\" preserveAspectRatio=\"xMinYMin meet\"><g transform=\"matrix(1,0,0,-1,0,90.27395357694184)\"><g><path fill-rule=\"evenodd\" fill=\"#66cc99\" stroke=\"#555555\" stroke-width=\"2.0\" opacity=\"0.6\" d=\"M -122.84000000000005,49.00000000000014 L -120.0,49.00000000000006 L -117.03121000000002,49.00000000000006 L -116.04818000000002,49.00000000000014 L -112.99999999999997,49.00000000000014 L -110.05,49.00000000000006 L -107.04999999999998,49.00000000000006 L -104.04826000000004,48.9998600000001 L -100.65000000000006,49.00000000000014 L -97.22872000000478,49.000699999999966 L -95.15906950917204,49.00000000000006 L -95.15609000000003,49.38424999999998 L -94.81758000000002,49.389050000000026 L -94.64000000000004,48.839999999999975 L -94.32914000000002,48.67073999999997 L -93.63087000000004,48.609260000000035 L -92.60999999999996,48.44999999999999 L -91.64000000000001,48.140000000000015 L -90.83000000000004,48.27000000000007 L -89.60000000000005,48.01000000000013 L -89.27291744663665,48.019808254582784 L -88.3781141832867,48.30291758889368 L -87.43979262330029,47.940000000000026 L -86.46199083122823,47.55333801939196 L -85.6523632474034,47.22021881773054 L -84.87607988151493,46.90008331968241 L -84.77923824739989,46.637101955749074 L -84.54374874544584,46.538684190449175 L -84.60490000000004,46.43960000000001 L -84.33670000000004,46.408770000000146 L -84.14211951367335,46.51222585711568 L -84.09185126416145,46.27541860613829 L -83.89076534700573,46.11692698829907 L -83.61613094759056,46.116926988298985 L -83.46955074739469,45.994686387712505 L -83.59285071484305,45.81689362241258 L -82.55092464875824,45.34751658790549 L -82.33776312543114,44.44000000000011 L -82.13764238150395,43.57108755144003 L -82.42999999999998,42.98000000000005 L -82.90000000000003,42.43000000000001 L -83.11999999999998,42.08000000000001 L -83.14199968131263,41.97568105729286 L -83.02981014680702,41.832795722005955 L -82.69008928092026,41.675105088867355 L -82.4392777167916,41.675105088867355 L -81.27774654816713,42.20902598730689 L -80.24744767934791,42.36619985612259 L -78.93936214874378,42.86361135514795 L -78.91999999999999,42.965 L -79.01000000000005,43.26999999999998 L -79.17167355011185,43.46633942318425 L -78.72027991404235,43.6250894231849 L -77.7378850979577,43.62905558936333 L -76.82003414580555,43.62878428809378 L -76.50000000000003,44.018458893758634 L -76.37499999999997,44.09630999999996 L -75.31821,44.81645 L -74.86700000000005,45.00048000000015 L -73.34783000000004,45.007379999999955 L -71.50505999999993,45.008200000000045 L -71.405,45.255000000000166 L -71.08482000000006,45.3052400000002 L -70.65999999999997,45.460000000000036 L -70.30499999999998,45.91500000000005 L -69.99996999999999,46.693070000000006 L -69.23721600000002,47.44778099999999 L -68.90500000000006,47.185000000000116 L -68.23443999999995,47.35486000000003 L -67.79046000000002,47.06636000000003 L -67.79134000000002,45.70281 L -67.13741000000002,45.13753 L -66.96465999999998,44.80970000000019 L -68.03251999999992,44.32520000000005 L -69.05999999999997,43.9800000000001 L -70.11616999999998,43.684050000000184 L -70.64547563341105,43.09023834896399 L -70.81488999999999,42.865299999999905 L -70.82500000000002,42.33499999999995 L -70.49499999999989,41.805000000000035 L -70.07999999999998,41.78 L -70.185,42.145000000000124 L -69.8849699999999,41.92283000000006 L -69.96502999999998,41.63717000000011 L -70.64000000000001,41.474999999999994 L -71.12039000000007,41.4944500000002 L -71.85999999999993,41.32000000000011 L -72.29499999999996,41.27000000000004 L -72.87643000000006,41.220650000000006 L -73.71000000000004,40.931102351654516 L -72.2412599999999,41.11948000000018 L -71.94499999999991,40.93000000000012 L -73.34499999999991,40.63000000000011 L -73.98200000000006,40.6279999999999 L -73.95232499999992,40.75075000000007 L -74.25671000000003,40.473510000000005 L -73.9624399999999,40.42763000000005 L -74.17838,39.70926 L -74.9060399999999,38.939539999999994 L -74.98041,39.1964000000001 L -75.20002,39.24845000000013 L -75.52805000000001,39.49850000000012 L -75.31999999999994,38.96000000000009 L -75.07183476478986,38.782032230179226 L -75.05672999999999,38.40412000000006 L -75.37746999999999,38.01550999999998 L -75.94022999999993,37.21689000000012 L -76.03126999999998,37.25660000000002 L -75.72204999999988,37.93705000000014 L -76.23286999999999,38.31921499999996 L -76.35000000000002,39.150000000000006 L -76.54272499999999,38.71761500000014 L -76.32933000000006,38.08326000000008 L -76.98999793161352,38.239991766913334 L -76.30161999999999,37.91794499999989 L -76.25873999999999,36.96640000000005 L -75.97179999999992,36.897260000000045 L -75.86803999999992,36.55125000000007 L -75.72748999999993,35.55074000000016 L -76.36317999999994,34.808540000000164 L -77.39763499999987,34.51201000000003 L -78.05496000000002,33.92546999999999 L -78.55434999999991,33.86133000000015 L -79.06067000000002,33.49395000000001 L -79.20357000000001,33.158390000000026 L -80.3013249999999,32.50935500000011 L -80.86498,32.03330000000008 L -81.33629000000002,31.440489999999983 L -81.49041999999997,30.729990000000157 L -81.31371000000001,30.035520000000048 L -80.97999999999999,29.18000000000015 L -80.53558499999986,28.47213000000005 L -80.52999999999989,28.04000000000005 L -80.05653928497762,26.88000000000008 L -80.08801499999998,26.205765000000014 L -80.13155999999995,25.816775000000035 L -80.38103000000001,25.20616000000004 L -80.67999999999998,25.080000000000013 L -81.17213000000001,25.201260000000076 L -81.33000000000004,25.639999999999958 L -81.70999999999987,25.870000000000033 L -82.23999999999998,26.73000000000016 L -82.70515000000003,27.495040000000103 L -82.85525999999999,27.886240000000072 L -82.65,28.550000000000097 L -82.92999999999998,29.10000000000005 L -83.70959000000002,29.9365600000001 L -84.1,30.09000000000006 L -85.10881999999992,29.6361500000001 L -85.28784000000005,29.68612000000016 L -85.7731,30.152610000000152 L -86.39999999999986,30.400000000000148 L -87.53035999999994,30.274330000000077 L -88.41781999999998,30.384899999999988 L -89.18048999999993,30.31598000000008 L -89.59383117841983,30.159994004836875 L -89.413735,29.894190000000037 L -89.43,29.488639999999947 L -89.21767,29.29108000000008 L -89.40822999999997,29.15961000000007 L -89.77927999999991,29.307140000000174 L -90.15462999999994,29.1174300000001 L -90.88022499999997,29.14853500000015 L -91.62678499999996,29.677000000000163 L -92.49905999999999,29.55230000000006 L -93.22636999999997,29.783750000000026 L -93.84841999999992,29.71363000000011 L -94.69,29.48000000000016 L -95.60025999999993,28.738630000000086 L -96.59403999999998,28.307480000000083 L -97.1399999999999,27.830000000000098 L -97.36999999999998,27.38000000000008 L -97.37999999999997,26.690000000000083 L -97.32999999999998,26.21000000000012 L -97.1399999999999,25.870000000000033 L -97.52999999999992,25.84000000000009 L -98.23999999999995,26.06000000000006 L -99.01999999999995,26.370000000000033 L -99.30000000000001,26.840000000000032 L -99.51999999999994,27.54000000000005 L -100.10999999999999,28.110000000000156 L -100.45584000000002,28.69612000000012 L -100.95759999999999,29.380710000000164 L -101.66239999999999,29.779300000000063 L -102.48000000000002,29.75999999999999 L -103.11000000000001,28.97 L -103.94,29.27000000000004 L -104.45696999999991,29.57196000000002 L -104.70575,30.121730000000042 L -105.03737000000004,30.644019999999927 L -105.63159000000002,31.08383000000009 L -106.14290000000001,31.399950000000075 L -106.5075899999999,31.754519999999985 L -108.24000000000001,31.754853718166373 L -108.24193999999994,31.342220000000054 L -109.03500000000003,31.341940000000136 L -111.02361000000005,31.33471999999992 L -113.30498,32.03914000000012 L -114.815,32.52528000000001 L -114.72138999999994,32.72082999999989 L -115.99134999999998,32.61239000000009 L -117.12775999999987,32.535339999999934 L -117.29593769127396,33.04622461520384 L -117.94400000000003,33.621236431201424 L -118.41060227589749,33.74090922312442 L -118.51989482279978,34.02778157757578 L -119.08099999999997,34.07799999999989 L -119.43884064201667,34.34847717828424 L -120.36777999999993,34.447110000000094 L -120.62286,34.60855000000004 L -120.74432999999993,35.15686000000014 L -121.71456999999995,36.161529999999885 L -122.54746999999993,37.551760000000144 L -122.51201000000005,37.78339000000008 L -122.95319000000002,38.11371000000014 L -123.72720000000007,38.951660000000146 L -123.86516999999999,39.76699000000005 L -124.39806999999996,40.313199999999966 L -124.17885999999994,41.142020000000144 L -124.21370000000003,41.99964000000017 L -124.53283999999998,42.76599000000013 L -124.14214,43.708380000000005 L -124.020535,44.61589499999994 L -123.8989299999999,45.52341000000004 L -124.079635,46.86475000000007 L -124.3956699999999,47.72017000000014 L -124.68721008300781,48.18443298339858 L -124.56610107421875,48.37971496582034 L -123.12,48.04000000000008 L -122.58735999999988,47.09600000000009 L -122.34000000000005,47.36000000000004 L -122.49999999999994,48.18000000000009 L -122.84000000000005,49.00000000000014 z\" /><path fill-rule=\"evenodd\" fill=\"#66cc99\" stroke=\"#555555\" stroke-width=\"2.0\" opacity=\"0.6\" d=\"M -140.98598761037567,69.71199839952632 L -140.986,69.71200000000002 L -140.9925,66.00003000000004 L -140.99777999999998,60.30638999999999 L -140.01299999999998,60.276820000000015 L -139.039,60.0 L -138.34089,59.56211000000002 L -137.4525,58.90499999999997 L -136.47972000000007,59.46389000000008 L -135.47583000000003,59.787780000000026 L -134.94500000000008,59.27056000000016 L -134.27111000000005,58.86111000000008 L -133.35556000000003,58.41028000000006 L -132.73042000000004,57.69288999999998 L -131.70780999999997,56.55212000000003 L -130.00778000000003,55.91583000000011 L -129.98000000000002,55.28499999999997 L -130.53610999999995,54.80278000000001 L -130.53610895273678,54.802754476799336 L -130.53611018946734,54.80275340434943 L -131.08581823797215,55.17890615500207 L -131.9672114671423,55.497775580459006 L -132.25001074285956,56.3699962428974 L -133.53918108435641,57.17888743756217 L -134.07806292029602,58.12306753196694 L -135.03821103227904,58.187714748763966 L -136.62806230995477,58.212209377670405 L -137.80000627968602,58.499995429103734 L -139.867787041413,59.53776154238918 L -140.82527381713302,59.72751740176511 L -142.57444353556446,60.08444651960494 L -143.9588809948799,59.99918040632343 L -145.9255568168279,60.45860972761423 L -147.11437394914668,60.88465607364466 L -148.22430620012764,60.672989406977194 L -148.01806555885085,59.97832896589367 L -148.57082251686086,59.91417267520333 L -149.72785783587585,59.70565827090559 L -150.60824337461645,59.36821116803944 L -151.71639278868332,59.15582103131993 L -151.85943315326725,59.744984035879554 L -151.4097190012472,60.72580272077934 L -150.3469414947325,61.033587551509896 L -150.62111080625706,61.2844249538544 L -151.89583919981686,60.72719798445124 L -152.57832984109558,60.061657212964235 L -154.01917212625767,59.35027944603431 L -153.2875113596532,58.86472768821983 L -154.23249243875847,58.14637360293057 L -155.30749142151024,57.727794501366276 L -156.30833472392308,57.422774359763594 L -156.5560973785464,56.97998484967067 L -158.1172165598678,56.46360809999422 L -158.43332129619716,55.994153550838575 L -159.60332739971744,55.56668610292016 L -160.28971961163433,55.643580634170604 L -161.2230476552578,55.36473460552352 L -162.23776607974105,55.02418691672014 L -163.0694465810464,54.68973704692712 L -164.7855692210272,54.404173082082195 L -164.9422263255201,54.57222483989537 L -163.84833960676568,55.039431464246064 L -162.87000139061598,55.34804311789324 L -161.8041749745961,55.89498647727038 L -160.56360470278122,56.00805451112498 L -160.07055986228448,56.4180553249287 L -158.68444291891953,57.016675116597895 L -158.46109737855406,57.21692129172882 L -157.72277035218394,57.57000051536309 L -157.55027442119365,58.32832632103026 L -157.041674974577,58.91888458926175 L -158.19473120830557,58.61580231386978 L -158.51721798402306,58.78778148053735 L -159.05860612692882,58.42418610293163 L -159.7116670400174,58.93139028587629 L -159.9812888255002,58.57254914004167 L -160.3552711659965,59.07112335879367 L -161.35500342511511,58.670837714260784 L -161.96889360252635,58.671664537177406 L -162.05498653872468,59.26692536074748 L -161.87417070213542,59.63362132429063 L -162.51805904849215,59.98972361921386 L -163.81834143782024,59.79805573184342 L -164.66221757714655,60.2674844427826 L -165.34638770247483,60.50749563256235 L -165.35083187565192,61.07389516869753 L -166.12137915755605,61.50001902937626 L -165.7344518707706,62.07499685327184 L -164.91917863671793,62.63307648380797 L -164.56250790103934,63.146378485762995 L -163.7533324859971,63.2194489610238 L -163.0672244944579,63.059458726648046 L -162.26055538638178,63.541935736741124 L -161.53444983624865,63.45581696232679 L -160.7725066803211,63.76610810002322 L -160.95833513084264,64.22279857040272 L -161.51806840721218,64.40278758407527 L -160.77777767641484,64.78860382756645 L -161.39192623598768,64.77723501246237 L -162.45305009666893,64.55944468856816 L -162.75778601789418,64.33860545516876 L -163.5463942128843,64.55916046819053 L -164.96082984114517,64.4469450954688 L -166.4252882558645,64.68667206487066 L -166.84500423893914,65.08889557561449 L -168.11056006576715,65.66999705673678 L -166.70527116602196,66.08831777613935 L -164.4747096425755,66.57666006129753 L -163.65251176659567,66.57666006129753 L -163.78860165103626,66.0772073431967 L -161.67777442121013,66.11611969671245 L -162.48971452538007,66.73556509059514 L -163.7197169667912,67.11639455837005 L -164.43099138085654,67.61633820257774 L -165.39028683170676,68.04277212185028 L -166.76444068099607,68.35887685817971 L -166.2047074046267,68.8830309109162 L -164.4308105133435,68.91553538682777 L -163.16861365461452,69.37111481391284 L -162.93056616926202,69.8580618353993 L -161.90889726463558,70.33332998318767 L -160.93479651593367,70.44768992784961 L -159.03917578838713,70.89164215766888 L -158.11972286683397,70.82472117785107 L -156.5808245513981,71.35776357694178 L -155.0677902903243,71.14777639432364 L -154.3441652089412,70.69640859647015 L -153.9000062733926,70.88998851183564 L -152.21000606993528,70.82999217394487 L -152.27000240782615,70.6000062120298 L -150.7399924387445,70.43001658800566 L -149.72000301816752,70.53001048449048 L -147.61336157935705,70.21403493924183 L -145.68998980022536,70.12000967068678 L -144.92001095907642,69.98999176704052 L -143.58944618042517,70.15251414659835 L -142.07251034871354,69.85193817817267 L -140.98598752156073,69.71199839952632 L -140.98598761037567,69.71199839952632 z\" /><path fill-rule=\"evenodd\" fill=\"#66cc99\" stroke=\"#555555\" stroke-width=\"2.0\" opacity=\"0.6\" d=\"M -155.54211,19.083480000000037 L -155.68816999999996,18.916190000000057 L -155.93665000000001,19.05938999999998 L -155.90805999999995,19.338880000000046 L -156.07347000000001,19.702940000000012 L -156.02368,19.814219999999978 L -155.85008,19.97729000000004 L -155.91907,20.173949999999962 L -155.86108000000002,20.267210000000034 L -155.78504999999996,20.248699999999985 L -155.40213999999997,20.079750000000047 L -155.22452000000004,19.99302 L -155.06226000000004,19.85910000000007 L -154.80741,19.508710000000065 L -154.83146999999997,19.453280000000035 L -155.22217000000003,19.239720000000062 L -155.54211,19.083480000000037 z\" /><path fill-rule=\"evenodd\" fill=\"#66cc99\" stroke=\"#555555\" stroke-width=\"2.0\" opacity=\"0.6\" d=\"M -156.07925999999998,20.643969999999996 L -156.41445000000002,20.572409999999962 L -156.58673,20.782999999999987 L -156.70166999999998,20.864299999999957 L -156.71055,20.926759999999973 L -156.61257999999998,21.012489999999957 L -156.25711,20.917449999999974 L -155.99566000000004,20.764039999999994 L -156.07925999999998,20.643969999999996 z\" /><path fill-rule=\"evenodd\" fill=\"#66cc99\" stroke=\"#555555\" stroke-width=\"2.0\" opacity=\"0.6\" d=\"M -156.75824,21.17683999999997 L -156.78932999999995,21.068730000000016 L -157.32521000000003,21.097770000000025 L -157.25027,21.219580000000008 L -156.75824,21.17683999999997 z\" /><path fill-rule=\"evenodd\" fill=\"#66cc99\" stroke=\"#555555\" stroke-width=\"2.0\" opacity=\"0.6\" d=\"M -157.65283000000005,21.32217000000003 L -157.70702999999997,21.26442 L -157.77860000000004,21.277290000000022 L -158.12667000000005,21.31244000000001 L -158.2538,21.539190000000048 L -158.29264999999998,21.579120000000017 L -158.02519999999998,21.71696000000003 L -157.94161000000003,21.652720000000016 L -157.65283000000005,21.32217000000003 z\" /><path fill-rule=\"evenodd\" fill=\"#66cc99\" stroke=\"#555555\" stroke-width=\"2.0\" opacity=\"0.6\" d=\"M -159.34512000000004,21.98199999999997 L -159.46372000000002,21.882990000000035 L -159.80050999999997,22.06532999999996 L -159.74877000000004,22.13820000000004 L -159.5962,22.23618000000002 L -159.36568999999997,22.214939999999956 L -159.34512000000004,21.98199999999997 z\" /><path fill-rule=\"evenodd\" fill=\"#66cc99\" stroke=\"#555555\" stroke-width=\"2.0\" opacity=\"0.6\" d=\"M -153.0063140533369,57.11584219016592 L -154.00509029845813,56.73467682558109 L -154.51640275777007,56.992748928446645 L -154.67099280497115,57.46119578717253 L -153.76277950744145,57.81657461204372 L -153.22872941792116,57.96896841087246 L -152.5647906158351,57.901427313867 L -152.14114722390642,57.59105866152203 L -153.0063140533369,57.11584219016592 z\" /><path fill-rule=\"evenodd\" fill=\"#66cc99\" stroke=\"#555555\" stroke-width=\"2.0\" opacity=\"0.6\" d=\"M -165.57916419173358,59.909986884187504 L -166.19277014876727,59.75444082298904 L -166.848337368822,59.94140615502101 L -167.45527706609005,60.21306915957942 L -166.46779212142462,60.38416982689782 L -165.67442969466367,60.29360687930628 L -165.57916419173358,59.909986884187504 z\" /><path fill-rule=\"evenodd\" fill=\"#66cc99\" stroke=\"#555555\" stroke-width=\"2.0\" opacity=\"0.6\" d=\"M -171.7316568675394,63.78251536727595 L -171.11443356024532,63.59219106714494 L -170.4911124339407,63.69497549097355 L -169.68250545965356,63.43111562769121 L -168.68943946030066,63.29750621200054 L -168.7719408844547,63.18859813094548 L -169.52943986720513,62.976931464277925 L -170.29055620021597,63.194437567794495 L -170.67138566799096,63.375821845138915 L -171.55306311753876,63.31778921167512 L -171.79111060289125,63.40584585230053 L -171.7316568675394,63.78251536727595 z\" /></g></g></svg>"
      ],
      "text/plain": [
       "<shapely.geometry.multipolygon.MultiPolygon at 0x16758313fa0>"
      ]
     },
     "execution_count": 48,
     "metadata": {},
     "output_type": "execute_result"
    }
   ],
   "source": [
    "USA.geometry"
   ]
  },
  {
   "cell_type": "code",
   "execution_count": 49,
   "id": "d6f291fb",
   "metadata": {},
   "outputs": [
    {
     "data": {
      "text/plain": [
       "<Geographic 2D CRS: GEOGCS[\"WGS 84\",DATUM[\"WGS_1984\",SPHEROID[\"WGS 84\" ...>\n",
       "Name: WGS 84\n",
       "Axis Info [ellipsoidal]:\n",
       "- lon[east]: Longitude (Degree)\n",
       "- lat[north]: Latitude (Degree)\n",
       "Area of Use:\n",
       "- undefined\n",
       "Datum: World Geodetic System 1984\n",
       "- Ellipsoid: WGS 84\n",
       "- Prime Meridian: Greenwich"
      ]
     },
     "execution_count": 49,
     "metadata": {},
     "output_type": "execute_result"
    }
   ],
   "source": [
    "countries.crs"
   ]
  },
  {
   "cell_type": "code",
   "execution_count": 51,
   "id": "241509f3",
   "metadata": {},
   "outputs": [
    {
     "data": {
      "text/plain": [
       "Text(0.5, 1.0, 'Equirectangular Projection')"
      ]
     },
     "execution_count": 51,
     "metadata": {},
     "output_type": "execute_result"
    },
    {
     "data": {
      "image/png": "[encoded data removed]",
      "text/plain": [
       "<Figure size 1000x600 with 1 Axes>"
      ]
     },
     "metadata": {},
     "output_type": "display_data"
    }
   ],
   "source": [
    "fig,ax =plt.subplots(figsize=(10,6))\n",
    "ax=countries.plot(ax=ax, facecolor=\"none\", edgecolor=\"black\")\n",
    "ax.set_title(\"Equirectangular Projection\")"
   ]
  },
  {
   "cell_type": "code",
   "execution_count": null,
   "id": "1a06fcfa",
   "metadata": {},
   "outputs": [],
   "source": []
  }
 ],
 "metadata": {
  "kernelspec": {
   "display_name": "Python 3 (ipykernel)",
   "language": "python",
   "name": "python3"
  },
  "language_info": {
   "codemirror_mode": {
    "name": "ipython",
    "version": 3
   },
   "file_extension": ".py",
   "mimetype": "text/x-python",
   "name": "python",
   "nbconvert_exporter": "python",
   "pygments_lexer": "ipython3",
   "version": "3.10.6"
  }
 },
 "nbformat": 4,
 "nbformat_minor": 5
}
