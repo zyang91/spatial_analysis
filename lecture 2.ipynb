{
 "cells": [
  {
   "cell_type": "code",
   "execution_count": null,
   "id": "0",
   "metadata": {},
   "outputs": [],
   "source": [
    "import pandas as pd\n",
    "from matplotlib import pyplot as plt"
   ]
  },
  {
   "cell_type": "code",
   "execution_count": null,
   "id": "1",
   "metadata": {},
   "outputs": [],
   "source": [
    "%matplotlib inline"
   ]
  },
  {
   "cell_type": "code",
   "execution_count": null,
   "id": "2",
   "metadata": {},
   "outputs": [],
   "source": [
    "home_values = pd.read_csv(\n",
    "    \"C:\\data\\zillow\\Metro_zhvi_uc_sfrcondo_tier_0.33_0.67_sm_sa_month.csv\"\n",
    ")\n",
    "rent_values = pd.read_csv(\n",
    "    \"C:\\data\\zillow\\Metro_ZORI_AllHomesPlusMultifamily_Smoothed.csv\"\n",
    ")"
   ]
  },
  {
   "cell_type": "code",
   "execution_count": null,
   "id": "3",
   "metadata": {},
   "outputs": [],
   "source": [
    "rent_values.head()"
   ]
  },
  {
   "cell_type": "code",
   "execution_count": null,
   "id": "4",
   "metadata": {},
   "outputs": [],
   "source": [
    "home_values.head()"
   ]
  },
  {
   "cell_type": "code",
   "execution_count": null,
   "id": "5",
   "metadata": {},
   "outputs": [],
   "source": [
    "valid_cities = [\n",
    "    \"New York, NY\",\n",
    "    \"Chicago, IL\",\n",
    "    \"Los Angeles-Long Beach-Anaheim, CA\",\n",
    "    \"Philadelphia, PA\",\n",
    "    \"Houston, TX\",\n",
    "    \"Phoenix, AZ\",\n",
    "]"
   ]
  },
  {
   "cell_type": "code",
   "execution_count": null,
   "id": "6",
   "metadata": {},
   "outputs": [],
   "source": [
    "selection = home_values[\"RegionName\"].isin(valid_cities)\n",
    "home_value_trimmed = home_values.loc[selection]"
   ]
  },
  {
   "cell_type": "code",
   "execution_count": null,
   "id": "7",
   "metadata": {},
   "outputs": [],
   "source": [
    "selection = rent_values[\"RegionName\"].isin(valid_cities)\n",
    "rent_value_trimmed = rent_values.loc[selection]"
   ]
  },
  {
   "cell_type": "code",
   "execution_count": null,
   "id": "8",
   "metadata": {},
   "outputs": [],
   "source": [
    "rent_value_trimmed"
   ]
  },
  {
   "cell_type": "code",
   "execution_count": null,
   "id": "9",
   "metadata": {},
   "outputs": [],
   "source": [
    "x = [\"SizeRank\", \"RegionID\", \"RegionType\", \"StateName\"]\n",
    "home_value_final = home_value_trimmed.drop(x, axis=1)"
   ]
  },
  {
   "cell_type": "code",
   "execution_count": null,
   "id": "10",
   "metadata": {},
   "outputs": [],
   "source": [
    "columns = [\"SizeRank\", \"RegionID\"]\n",
    "rent_value_final = rent_value_trimmed.drop(columns, axis=1)"
   ]
  },
  {
   "cell_type": "code",
   "execution_count": null,
   "id": "11",
   "metadata": {},
   "outputs": [],
   "source": [
    "rent_value_final"
   ]
  },
  {
   "cell_type": "code",
   "execution_count": null,
   "id": "12",
   "metadata": {},
   "outputs": [],
   "source": [
    "home_value_final"
   ]
  },
  {
   "cell_type": "code",
   "execution_count": null,
   "id": "13",
   "metadata": {},
   "outputs": [],
   "source": [
    "ZHVI = pd.melt(\n",
    "    home_value_final, id_vars=[\"RegionName\"], value_name=\"ZHVI\", var_name=\"Date\"\n",
    ")"
   ]
  },
  {
   "cell_type": "code",
   "execution_count": null,
   "id": "14",
   "metadata": {},
   "outputs": [],
   "source": [
    "ZRI = pd.melt(\n",
    "    rent_value_final, id_vars=[\"RegionName\"], value_name=\"ZRI\", var_name=\"Date\"\n",
    ")"
   ]
  },
  {
   "cell_type": "code",
   "execution_count": null,
   "id": "15",
   "metadata": {},
   "outputs": [],
   "source": [
    "ZRI.tail()"
   ]
  },
  {
   "cell_type": "code",
   "execution_count": null,
   "id": "16",
   "metadata": {},
   "outputs": [],
   "source": [
    "ZHVI.head()"
   ]
  },
  {
   "cell_type": "code",
   "execution_count": null,
   "id": "17",
   "metadata": {},
   "outputs": [],
   "source": [
    "zillow_data = pd.merge(ZRI, ZHVI, on=[\"Date\", \"RegionName\"], how=\"outer\")"
   ]
  },
  {
   "cell_type": "code",
   "execution_count": null,
   "id": "18",
   "metadata": {},
   "outputs": [],
   "source": [
    "zillow_data = zillow_data.sort_values(\"Date\", ascending=True)\n",
    "\n",
    "zillow_data"
   ]
  },
  {
   "cell_type": "code",
   "execution_count": null,
   "id": "19",
   "metadata": {},
   "outputs": [],
   "source": [
    "zillow_data[\"Date\"] = pd.to_datetime(zillow_data[\"Date\"])"
   ]
  },
  {
   "cell_type": "code",
   "execution_count": null,
   "id": "20",
   "metadata": {},
   "outputs": [],
   "source": [
    "zillow_data[\"Date\"].head()"
   ]
  },
  {
   "cell_type": "code",
   "execution_count": null,
   "id": "21",
   "metadata": {},
   "outputs": [],
   "source": [
    "zillow_data[\"Month\"] = zillow_data[\"Date\"].dt.month"
   ]
  },
  {
   "cell_type": "code",
   "execution_count": null,
   "id": "22",
   "metadata": {},
   "outputs": [],
   "source": [
    "zillow_data[\"Year\"] = zillow_data[\"Date\"].dt.year"
   ]
  },
  {
   "cell_type": "code",
   "execution_count": null,
   "id": "23",
   "metadata": {},
   "outputs": [],
   "source": [
    "zillow_data.head()"
   ]
  },
  {
   "cell_type": "code",
   "execution_count": null,
   "id": "24",
   "metadata": {},
   "outputs": [],
   "source": [
    "annual_ZHVI = zillow_data.groupby([\"RegionName\", \"Year\"])[\"ZHVI\"].mean()\n",
    "annual_ZRI = zillow_data.groupby([\"RegionName\", \"Year\"])[\"ZRI\"].mean()"
   ]
  },
  {
   "cell_type": "code",
   "execution_count": null,
   "id": "25",
   "metadata": {},
   "outputs": [],
   "source": [
    "print(type(annual_ZHVI))"
   ]
  },
  {
   "cell_type": "code",
   "execution_count": null,
   "id": "26",
   "metadata": {},
   "outputs": [],
   "source": [
    "annual_ZHVI.head()"
   ]
  },
  {
   "cell_type": "code",
   "execution_count": null,
   "id": "27",
   "metadata": {},
   "outputs": [],
   "source": [
    "annual_ZRI.head()"
   ]
  },
  {
   "cell_type": "code",
   "execution_count": null,
   "id": "28",
   "metadata": {},
   "outputs": [],
   "source": [
    "annual_ZHVI = annual_ZHVI.reset_index()\n",
    "annual_ZRI = annual_ZRI.reset_index()"
   ]
  },
  {
   "cell_type": "code",
   "execution_count": null,
   "id": "29",
   "metadata": {},
   "outputs": [],
   "source": [
    "annual_ZHVI.head(n=50)"
   ]
  },
  {
   "cell_type": "code",
   "execution_count": null,
   "id": "30",
   "metadata": {},
   "outputs": [],
   "source": [
    "with plt.style.context(\"ggplot\"):\n",
    "    fig, ax = plt.subplots(figsize=(10, 6))\n",
    "    for city in annual_ZHVI[\"RegionName\"].unique():\n",
    "        selection = annual_ZHVI[\"RegionName\"] == city\n",
    "        df = annual_ZHVI.loc[selection]\n",
    "        ax.plot(df[\"Year\"], df[\"ZHVI\"] / 1000, label=city, linewidth=5)\n",
    "    ax.set_ylim(50, 850)\n",
    "    ax.legend(loc=0, ncol=2, fontsize=10)\n",
    "    ax.set_ylabel(\"Zillow Home Value Index\\n(in thousands of dollars)\")\n",
    "    ax.set_xlabel(\"Year\")"
   ]
  },
  {
   "cell_type": "code",
   "execution_count": null,
   "id": "31",
   "metadata": {},
   "outputs": [],
   "source": [
    "with plt.style.context(\"ggplot\"):\n",
    "    fig, ax = plt.subplots(figsize=(10, 6))\n",
    "    for city in annual_ZRI[\"RegionName\"].unique():\n",
    "        selection = annual_ZRI[\"RegionName\"] == city\n",
    "        df = annual_ZRI.loc[selection]\n",
    "        ax.plot(df[\"Year\"], df[\"ZRI\"], label=city, linewidth=5)\n",
    "    ax.set_ylim(1000, 3300)\n",
    "    ax.legend(loc=0, ncol=2, fontsize=10)\n",
    "    ax.set_ylabel(\"Zillow Rent Index(in dollars)\")\n",
    "    ax.set_xlabel(\"Year\")"
   ]
  },
  {
   "cell_type": "code",
   "execution_count": null,
   "id": "32",
   "metadata": {},
   "outputs": [],
   "source": []
  }
 ],
 "metadata": {
  "kernelspec": {
   "display_name": "Python 3 (ipykernel)",
   "language": "python",
   "name": "python3"
  },
  "language_info": {
   "codemirror_mode": {
    "name": "ipython",
    "version": 3
   },
   "file_extension": ".py",
   "mimetype": "text/x-python",
   "name": "python",
   "nbconvert_exporter": "python",
   "pygments_lexer": "ipython3",
   "version": "3.10.6"
  }
 },
 "nbformat": 4,
 "nbformat_minor": 5
}
