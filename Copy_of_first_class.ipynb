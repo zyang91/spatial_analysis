{
 "cells": [
  {
   "cell_type": "markdown",
   "id": "0",
   "metadata": {
    "id": "l4ZuEaKl7uKq"
   },
   "source": [
    " [![Open In Colab](https://colab.research.google.com/assets/colab-badge.svg)](https://colab.research.google.com/github/zyang91/spatial_analysis/blob/main/first_class.ipynb#scrollTo=l4ZuEaKl7uKq)"
   ]
  },
  {
   "cell_type": "code",
   "execution_count": null,
   "id": "1",
   "metadata": {
    "id": "3311373d"
   },
   "outputs": [],
   "source": [
    "import pandas as pd"
   ]
  },
  {
   "cell_type": "code",
   "execution_count": null,
   "id": "2",
   "metadata": {
    "id": "64a61336"
   },
   "outputs": [],
   "source": [
    "city_names = pd.Series([\"San Francisco\", \"San Jose\", \"Binghamton\"])"
   ]
  },
  {
   "cell_type": "code",
   "execution_count": null,
   "id": "3",
   "metadata": {
    "id": "7e7c4237"
   },
   "outputs": [],
   "source": [
    "population = pd.Series([850000, 1010085, 487900])"
   ]
  },
  {
   "cell_type": "code",
   "execution_count": null,
   "id": "4",
   "metadata": {
    "id": "adb6b9c3",
    "outputId": "f8f612d7-7560-45a6-8c53-83844c6741a0"
   },
   "outputs": [],
   "source": [
    "city_names"
   ]
  },
  {
   "cell_type": "code",
   "execution_count": null,
   "id": "5",
   "metadata": {
    "id": "449eed06"
   },
   "outputs": [],
   "source": [
    "cities_df = pd.DataFrame({\"City Name\": city_names, \"population\": population})"
   ]
  },
  {
   "cell_type": "code",
   "execution_count": null,
   "id": "6",
   "metadata": {
    "id": "4c43e7f5",
    "outputId": "42c5376f-42b5-4661-9e71-04e35a4e00b9"
   },
   "outputs": [],
   "source": [
    "cities_df"
   ]
  },
  {
   "cell_type": "code",
   "execution_count": null,
   "id": "7",
   "metadata": {
    "id": "88232f7f",
    "outputId": "3b243e15-7563-4d34-cee1-db494473b4b4"
   },
   "outputs": [],
   "source": [
    "cities_df[\"City Name\"]"
   ]
  },
  {
   "cell_type": "code",
   "execution_count": null,
   "id": "8",
   "metadata": {
    "id": "debe163f",
    "outputId": "390d35e4-b05a-4c6a-918a-2e6b80f7fe1e"
   },
   "outputs": [],
   "source": [
    "cities_df[\"population\"]"
   ]
  },
  {
   "cell_type": "code",
   "execution_count": null,
   "id": "9",
   "metadata": {
    "id": "73890025"
   },
   "outputs": [],
   "source": [
    "cities_list = [\"San Francisco\", \"San Jose\", \"Binghamton\"]"
   ]
  },
  {
   "cell_type": "code",
   "execution_count": null,
   "id": "10",
   "metadata": {
    "id": "200bd4b1",
    "outputId": "2a4d0496-d066-4832-a611-c526c44b473d"
   },
   "outputs": [],
   "source": [
    "cities_list[:2]"
   ]
  },
  {
   "cell_type": "code",
   "execution_count": null,
   "id": "11",
   "metadata": {
    "id": "394b85a4",
    "outputId": "5c689c49-9a74-4984-ba07-c5ba8e1a07bf"
   },
   "outputs": [],
   "source": [
    "cities_df"
   ]
  },
  {
   "cell_type": "code",
   "execution_count": null,
   "id": "12",
   "metadata": {
    "id": "de481f25",
    "outputId": "b6ef59ff-be37-40b7-bd48-bb45422b9541"
   },
   "outputs": [],
   "source": [
    "cities_df[:2]"
   ]
  },
  {
   "cell_type": "code",
   "execution_count": null,
   "id": "13",
   "metadata": {
    "id": "0634145c",
    "outputId": "9f5b96ac-0c0a-4894-a532-229f993c3618"
   },
   "outputs": [],
   "source": [
    "cities_df[:1]"
   ]
  },
  {
   "cell_type": "code",
   "execution_count": null,
   "id": "14",
   "metadata": {
    "id": "199e87c1",
    "outputId": "cd8fc75d-101e-4706-e000-69cffbcd1bdf"
   },
   "outputs": [],
   "source": [
    "cities_df[\"population\"].median()"
   ]
  },
  {
   "cell_type": "code",
   "execution_count": null,
   "id": "15",
   "metadata": {
    "id": "ef05402b"
   },
   "outputs": [],
   "source": [
    "city = pd.Series([\"Binghamton\", \"Vestal\", \"JC\"])"
   ]
  },
  {
   "cell_type": "code",
   "execution_count": null,
   "id": "16",
   "metadata": {
    "id": "2247cf48"
   },
   "outputs": [],
   "source": [
    "population = pd.Series([50000, 45000, 30000])"
   ]
  },
  {
   "cell_type": "code",
   "execution_count": null,
   "id": "17",
   "metadata": {
    "id": "bb40dec7",
    "outputId": "b9b60f3e-f23c-4729-c3fb-8060119b9ece"
   },
   "outputs": [],
   "source": [
    "city"
   ]
  },
  {
   "cell_type": "code",
   "execution_count": null,
   "id": "18",
   "metadata": {
    "id": "fb1095a6"
   },
   "outputs": [],
   "source": [
    "city_df = pd.DataFrame({\"city name\": city, \"population\": population})"
   ]
  },
  {
   "cell_type": "code",
   "execution_count": null,
   "id": "19",
   "metadata": {
    "id": "dabcb032",
    "outputId": "8e048599-3903-4be2-8a2a-6aeaa37cf274"
   },
   "outputs": [],
   "source": [
    "city_df"
   ]
  },
  {
   "cell_type": "code",
   "execution_count": null,
   "id": "20",
   "metadata": {
    "id": "13b28f7b",
    "outputId": "8a2fad94-5042-4000-ab15-27373df3a4ef"
   },
   "outputs": [],
   "source": [
    "city_df[\"population\"].median()"
   ]
  },
  {
   "cell_type": "code",
   "execution_count": null,
   "id": "21",
   "metadata": {
    "id": "38866367"
   },
   "outputs": [],
   "source": [
    "import numpy as np"
   ]
  },
  {
   "cell_type": "code",
   "execution_count": null,
   "id": "22",
   "metadata": {
    "id": "e7698557",
    "outputId": "d68fbd25-a63d-4021-f6ed-58d2f2d43fd2"
   },
   "outputs": [],
   "source": [
    "np.median(city_df[\"population\"])"
   ]
  },
  {
   "cell_type": "code",
   "execution_count": null,
   "id": "23",
   "metadata": {
    "id": "1a8b276a"
   },
   "outputs": [],
   "source": [
    "def get_large_city(population):\n",
    "    return population >= 40000"
   ]
  },
  {
   "cell_type": "code",
   "execution_count": null,
   "id": "24",
   "metadata": {
    "id": "8e350edf"
   },
   "outputs": [],
   "source": [
    "large_city_sel = city_df[\"population\"].apply(get_large_city)"
   ]
  },
  {
   "cell_type": "code",
   "execution_count": null,
   "id": "25",
   "metadata": {
    "id": "6239964b",
    "outputId": "904653bb-71e5-4463-cad1-a00175afbb08"
   },
   "outputs": [],
   "source": [
    "large_city_sel"
   ]
  },
  {
   "cell_type": "code",
   "execution_count": null,
   "id": "26",
   "metadata": {
    "id": "01c91378"
   },
   "outputs": [],
   "source": [
    "city_df[\"large city\"] = large_city_sel"
   ]
  },
  {
   "cell_type": "code",
   "execution_count": null,
   "id": "27",
   "metadata": {
    "id": "27456dc0"
   },
   "outputs": [],
   "source": [
    "small_city = lambda population: population < 40000"
   ]
  },
  {
   "cell_type": "code",
   "execution_count": null,
   "id": "28",
   "metadata": {
    "id": "bab395e4"
   },
   "outputs": [],
   "source": [
    "city_df[\"small city\"] = city_df[\"population\"].apply(small_city)"
   ]
  },
  {
   "cell_type": "code",
   "execution_count": null,
   "id": "29",
   "metadata": {
    "id": "621d524e",
    "outputId": "38fa18b9-5f47-40a4-f580-5f91db7a3119"
   },
   "outputs": [],
   "source": [
    "city_df"
   ]
  },
  {
   "cell_type": "code",
   "execution_count": null,
   "id": "30",
   "metadata": {
    "id": "7e09c4de",
    "outputId": "86237160-0bc7-4f89-c676-20333763e93e"
   },
   "outputs": [],
   "source": [
    "city_df[\"large city\"]"
   ]
  },
  {
   "cell_type": "code",
   "execution_count": null,
   "id": "31",
   "metadata": {
    "id": "0a7b3d21",
    "outputId": "7e8b1f6a-1e16-469a-cf53-437857f7d8d5"
   },
   "outputs": [],
   "source": [
    "city_df.loc[city_df[\"large city\"]]"
   ]
  },
  {
   "cell_type": "code",
   "execution_count": null,
   "id": "32",
   "metadata": {
    "id": "7e64bff7",
    "outputId": "4115c1e9-d2ee-4949-b794-a5a267eb1066"
   },
   "outputs": [],
   "source": [
    "city_df[\"population\"] > 45000"
   ]
  },
  {
   "cell_type": "code",
   "execution_count": null,
   "id": "33",
   "metadata": {
    "id": "9cfd79de",
    "outputId": "963fbe4b-84e1-46f4-ca3e-83721ba1e9c8"
   },
   "outputs": [],
   "source": [
    "city_df.loc[city_df[\"population\"] < 45000]"
   ]
  },
  {
   "cell_type": "code",
   "execution_count": null,
   "id": "34",
   "metadata": {
    "id": "d8a742f2",
    "outputId": "4e7a373c-da70-4375-a739-1257ee97333f"
   },
   "outputs": [],
   "source": [
    "city_df.loc[~large_city_sel]"
   ]
  },
  {
   "cell_type": "code",
   "execution_count": null,
   "id": "35",
   "metadata": {
    "id": "6b53bbf2",
    "outputId": "0ffbb437-e002-496a-a402-3d20033837e9"
   },
   "outputs": [],
   "source": [
    "city_df.query(\"population<45000\")"
   ]
  },
  {
   "cell_type": "code",
   "execution_count": null,
   "id": "36",
   "metadata": {
    "id": "18b93c4c"
   },
   "outputs": [],
   "source": [
    "census_df = pd.read_csv(\"C:\\data\\census\\ACS_19_1YR_B25003.csv\")"
   ]
  },
  {
   "cell_type": "code",
   "execution_count": null,
   "id": "37",
   "metadata": {
    "id": "d3ada747",
    "outputId": "08722bc9-f3e2-46db-b43d-abe9a034aca6"
   },
   "outputs": [],
   "source": [
    "census_df.head(n=5)"
   ]
  },
  {
   "cell_type": "code",
   "execution_count": null,
   "id": "38",
   "metadata": {
    "id": "dc11d7d4"
   },
   "outputs": [],
   "source": [
    "columns = [\"GEO.display-label\", \"HD01_VD01\", \"HD01_VD03\"]\n",
    "census_df = census_df[columns]"
   ]
  },
  {
   "cell_type": "code",
   "execution_count": null,
   "id": "39",
   "metadata": {
    "id": "fd59f47e",
    "outputId": "4b561870-8c09-43aa-f2de-2defa4d30cf6"
   },
   "outputs": [],
   "source": [
    "census_df.head()"
   ]
  },
  {
   "cell_type": "code",
   "execution_count": null,
   "id": "40",
   "metadata": {
    "id": "64336ad4"
   },
   "outputs": [],
   "source": [
    "census_df.columns = [\"City\", \"Total\", \"Rentals\"]"
   ]
  },
  {
   "cell_type": "code",
   "execution_count": null,
   "id": "41",
   "metadata": {
    "id": "38ccfbca",
    "outputId": "081d05dc-1142-4c4a-df08-1056544ab5ec"
   },
   "outputs": [],
   "source": [
    "census_df.head(n=5)"
   ]
  },
  {
   "cell_type": "code",
   "execution_count": null,
   "id": "42",
   "metadata": {
    "id": "297c7ea4"
   },
   "outputs": [],
   "source": [
    "census_df[\"Rental Rate\"] = census_df[\"Rentals\"] / census_df[\"Total\"] * 100"
   ]
  },
  {
   "cell_type": "code",
   "execution_count": null,
   "id": "43",
   "metadata": {
    "id": "dc171463",
    "outputId": "8d886da9-04cc-499b-ee2b-903c63933167"
   },
   "outputs": [],
   "source": [
    "census_df.head()"
   ]
  },
  {
   "cell_type": "code",
   "execution_count": null,
   "id": "44",
   "metadata": {
    "id": "0b129f8b",
    "outputId": "410ee6b1-2e43-4530-c957-490f2045023f"
   },
   "outputs": [],
   "source": [
    "len(census_df)"
   ]
  },
  {
   "cell_type": "code",
   "execution_count": null,
   "id": "45",
   "metadata": {
    "id": "3ab69773"
   },
   "outputs": [],
   "source": [
    "top_cities_list = [\n",
    "    \"Philadelphia city, Pennsylvania\",\n",
    "    \"New York city, New York\",\n",
    "    \"Los Angeles city, California\",\n",
    "    \"Houston city, Texas\",\n",
    "    \"Chicago city, Illinois\",\n",
    "    \"Phoenix city, Arizona\",\n",
    "]"
   ]
  },
  {
   "cell_type": "code",
   "execution_count": null,
   "id": "46",
   "metadata": {
    "id": "7c9489ba",
    "outputId": "f51f01a4-ccd8-44c0-8531-b6d297aade52"
   },
   "outputs": [],
   "source": [
    "census_df[\"City\"].isin(top_cities_list)"
   ]
  },
  {
   "cell_type": "code",
   "execution_count": null,
   "id": "47",
   "metadata": {
    "id": "86f055ac",
    "outputId": "415d50f2-2a95-45ab-b1c6-c8f28b382575"
   },
   "outputs": [],
   "source": [
    "census_df.loc[census_df[\"City\"].isin(top_cities_list)]"
   ]
  },
  {
   "cell_type": "code",
   "execution_count": null,
   "id": "48",
   "metadata": {
    "id": "6f621738",
    "outputId": "eae604ee-86f3-46ef-e5ff-def944f25863"
   },
   "outputs": [],
   "source": [
    "census_df.query(\"City in @top_cities_list\")"
   ]
  },
  {
   "cell_type": "code",
   "execution_count": null,
   "id": "49",
   "metadata": {
    "id": "abf1dc04"
   },
   "outputs": [],
   "source": [
    "year_str = \"19\""
   ]
  },
  {
   "cell_type": "code",
   "execution_count": null,
   "id": "50",
   "metadata": {
    "id": "19d9cc18"
   },
   "outputs": [],
   "source": [
    "path = f\"C:\\data\\census\\ACS_{year_str}_1YR_B25003.csv\""
   ]
  },
  {
   "cell_type": "code",
   "execution_count": null,
   "id": "51",
   "metadata": {
    "id": "f5e73ff6",
    "outputId": "80ab4a05-41c1-4fb7-bc57-c76bf66c794b"
   },
   "outputs": [],
   "source": [
    "print(path)"
   ]
  },
  {
   "cell_type": "code",
   "execution_count": null,
   "id": "52",
   "metadata": {
    "id": "09d838f6",
    "outputId": "e9452cb7-dacb-4553-970e-a5f144d1321e"
   },
   "outputs": [],
   "source": [
    "all_rental_data = []\n",
    "start_year = 2005\n",
    "stop_year = 2019\n",
    "for year in range(start_year, stop_year + 1):\n",
    "    print(f\"loading data for year= {year}...\")"
   ]
  },
  {
   "cell_type": "code",
   "execution_count": null,
   "id": "53",
   "metadata": {
    "id": "9be8a37e",
    "outputId": "9e7dcfb3-90e5-4316-a0cd-84ae8754f133"
   },
   "outputs": [],
   "source": [
    "all_rental_data = []\n",
    "start_year = 2005\n",
    "stop_year = 2019\n",
    "for year in range(start_year, stop_year + 1):\n",
    "\n",
    "    # ---------------------------------------------\n",
    "    # Step 0: Print out year\n",
    "    # The variable year changes for each iteration of the loop\n",
    "    # ----------------------------------------------\n",
    "    print(f\"Loading data for year = {year}...\")\n",
    "\n",
    "    # ---------------------------------\n",
    "    # Step 1: Read data for this year\n",
    "    # ---------------------------------\n",
    "    year_str = str(year)  # convert integer value of \"year\" to a string\n",
    "    year_str = year_str[2:]  # extract the last two digits of the year string\n",
    "    rental_df = pd.read_csv(f\"C:\\data\\census\\ACS_{year_str}_1YR_B25003.csv\")\n",
    "\n",
    "    # ---------------------------------\n",
    "    # Step 2: Columns we want\n",
    "    # ---------------------------------\n",
    "    columns = [\"GEO.display-label\", \"HD01_VD01\", \"HD01_VD03\"]\n",
    "    rental_df = rental_df[columns]\n",
    "\n",
    "    # ---------------------------------\n",
    "    # Step 3: Rename columns\n",
    "    # ---------------------------------\n",
    "    rental_df.columns = [\"City\", \"Total\", \"Rentals\"]\n",
    "\n",
    "    # ----------------------------------\n",
    "    # Step 4: Calculate the rental rate\n",
    "    # ----------------------------------\n",
    "    rental_df[\"Rental Rate\"] = rental_df[\"Rentals\"] / rental_df[\"Total\"] * 100\n",
    "\n",
    "    # ----------------------------------\n",
    "    # Step 5: Select the cities we want\n",
    "    # ----------------------------------\n",
    "    selection = rental_df[\"City\"].isin(top_cities_list)\n",
    "    top_cities_df = rental_df.loc[selection].copy()\n",
    "\n",
    "    # ----------------------------------\n",
    "    # Step 6: Add a column for the year\n",
    "    # ----------------------------------\n",
    "    top_cities_df[\"Year\"] = year\n",
    "\n",
    "    # -----------------------------------\n",
    "    # Step 7: Save this dataframe in the list\n",
    "    # -----------------------------------\n",
    "    all_rental_data.append(top_cities_df)\n",
    "\n",
    "# ---------------------------------------------------\n",
    "# Step 8: After the for loop, combine all of the\n",
    "# data frames into one along the row axis\n",
    "# ---------------------------------------------------\n",
    "all_rental_data = pd.concat(all_rental_data, axis=0)"
   ]
  },
  {
   "cell_type": "code",
   "execution_count": null,
   "id": "54",
   "metadata": {
    "id": "71381417",
    "outputId": "30bdcfc8-37b1-43b9-dd64-830367551be4"
   },
   "outputs": [],
   "source": [
    "type(all_rental_data)"
   ]
  },
  {
   "cell_type": "code",
   "execution_count": null,
   "id": "55",
   "metadata": {
    "id": "3d1e5e52",
    "outputId": "30e1baeb-92b9-4f08-ba13-f48bb6785929"
   },
   "outputs": [],
   "source": [
    "all_rental_data.head()"
   ]
  },
  {
   "cell_type": "code",
   "execution_count": null,
   "id": "56",
   "metadata": {
    "id": "0dff7472",
    "outputId": "5a394c9a-b18d-49b9-b3d3-5b1ef6346931"
   },
   "outputs": [],
   "source": [
    "all_rental_data.tail()"
   ]
  },
  {
   "cell_type": "code",
   "execution_count": null,
   "id": "57",
   "metadata": {
    "id": "ce301dd6",
    "outputId": "850fec84-a357-49c6-ef09-e3eccb2a1809"
   },
   "outputs": [],
   "source": [
    "len(all_rental_data)"
   ]
  },
  {
   "cell_type": "code",
   "execution_count": null,
   "id": "58",
   "metadata": {
    "id": "23ab683f"
   },
   "outputs": [],
   "source": [
    "from matplotlib import pyplot as plt"
   ]
  },
  {
   "cell_type": "code",
   "execution_count": null,
   "id": "59",
   "metadata": {
    "id": "c2d2e3e9",
    "outputId": "885676b4-991d-475f-ce24-198c534275ae"
   },
   "outputs": [],
   "source": [
    "all_rental_data[\"City\"].unique()"
   ]
  },
  {
   "cell_type": "code",
   "execution_count": null,
   "id": "60",
   "metadata": {
    "id": "6e831033",
    "outputId": "007a951b-4129-4f3a-d979-14459f40ec0f"
   },
   "outputs": [],
   "source": [
    "with plt.style.context(\"ggplot\"):\n",
    "    fig, ax = plt.subplots(figsize=(10, 6))\n",
    "    for city in all_rental_data[\"City\"].unique():\n",
    "        print(city)\n",
    "        this_city = all_rental_data[\"City\"] == city\n",
    "        city_df = all_rental_data.loc[this_city]\n",
    "        ax.plot(city_df[\"Year\"], city_df[\"Rental Rate\"], label=city, linewidth=4)\n",
    "    ax.legend(loc=0, ncol=3, fontsize=9)\n",
    "    ax.set_ylim(30, 72)\n",
    "    ax.set_ylabel(\"Rental Rate in Percentage\")\n",
    "    plt.show()"
   ]
  },
  {
   "cell_type": "code",
   "execution_count": null,
   "id": "61",
   "metadata": {
    "id": "29c516d6",
    "outputId": "2087b0e8-b53d-4e36-8ab5-0e6e8ab97573"
   },
   "outputs": [],
   "source": [
    "all_rental_data[\"City\"] == \"Philadelphia city, Pennsylvania\""
   ]
  },
  {
   "cell_type": "code",
   "execution_count": null,
   "id": "62",
   "metadata": {
    "id": "9a892a56",
    "outputId": "7da8d47d-8e77-4a1d-aa3c-7610d11a262d"
   },
   "outputs": [],
   "source": [
    "philly = all_rental_data.loc[\n",
    "    all_rental_data[\"City\"] == \"Philadelphia city, Pennsylvania\"\n",
    "]\n",
    "\n",
    "philly"
   ]
  },
  {
   "cell_type": "code",
   "execution_count": null,
   "id": "63",
   "metadata": {
    "id": "3a7c9e60",
    "outputId": "d0a4b742-8cbf-4f26-a80c-e7c52a0159ea"
   },
   "outputs": [],
   "source": [
    "philly.loc[393]"
   ]
  },
  {
   "cell_type": "code",
   "execution_count": null,
   "id": "64",
   "metadata": {
    "id": "a05b9da8",
    "outputId": "defb0246-5395-4953-a26a-fcfedf3e1917"
   },
   "outputs": [],
   "source": [
    "philly.iloc[2]"
   ]
  },
  {
   "cell_type": "code",
   "execution_count": null,
   "id": "65",
   "metadata": {
    "id": "681602bb",
    "outputId": "c653c94a-8eb6-4cae-b8c1-245c18649b27"
   },
   "outputs": [],
   "source": [
    "all_rental_data.loc[393]"
   ]
  },
  {
   "cell_type": "code",
   "execution_count": null,
   "id": "66",
   "metadata": {
    "id": "e532bce6",
    "outputId": "91a33f0f-8b0d-45cc-dbd4-65f33749c6ee"
   },
   "outputs": [],
   "source": [
    "philly.reset_index(drop=True)"
   ]
  },
  {
   "cell_type": "code",
   "execution_count": null,
   "id": "67",
   "metadata": {
    "id": "6ce48ac3",
    "outputId": "cd36e0b8-55c8-4021-810e-b2477f95ecfd"
   },
   "outputs": [],
   "source": [
    "philly_2005 = philly.loc[philly[\"Year\"] == 2005]\n",
    "\n",
    "\n",
    "philly_2005"
   ]
  },
  {
   "cell_type": "code",
   "execution_count": null,
   "id": "68",
   "metadata": {
    "id": "320b62c7",
    "outputId": "a8417df5-f876-4649-9bef-2906938b0708"
   },
   "outputs": [],
   "source": [
    "philly_2005[\"Rental Rate\"]"
   ]
  },
  {
   "cell_type": "code",
   "execution_count": null,
   "id": "69",
   "metadata": {
    "id": "f64a643a",
    "outputId": "3f4dd7f6-ba2c-4ee2-8500-08498c17dfb2"
   },
   "outputs": [],
   "source": [
    "philly_2005[\"Rental Rate\"].iloc[0]"
   ]
  },
  {
   "cell_type": "code",
   "execution_count": null,
   "id": "70",
   "metadata": {
    "id": "69db504e",
    "outputId": "2189c667-dd9e-43a5-c422-ac05f121c2bf"
   },
   "outputs": [],
   "source": [
    "len(philly_2005[\"Rental Rate\"])"
   ]
  },
  {
   "cell_type": "code",
   "execution_count": null,
   "id": "71",
   "metadata": {
    "id": "69560d6f"
   },
   "outputs": [],
   "source": [
    "philly_2019 = philly.loc[philly[\"Year\"] == 2019].squeeze()\n",
    "value_2019 = philly_2019[\"Rental Rate\"]"
   ]
  },
  {
   "cell_type": "code",
   "execution_count": null,
   "id": "72",
   "metadata": {
    "id": "49554343",
    "outputId": "8d7b8b9e-dd54-4cf5-8c6f-c034451ace73"
   },
   "outputs": [],
   "source": [
    "print(value_2019)"
   ]
  },
  {
   "cell_type": "code",
   "execution_count": null,
   "id": "73",
   "metadata": {
    "id": "82719685",
    "outputId": "e6916aac-a631-41c2-c50c-33c3bd949c8e"
   },
   "outputs": [],
   "source": [
    "philly_2005 = philly.loc[philly[\"Year\"] == 2005].squeeze()\n",
    "value_2005 = philly_2005[\"Rental Rate\"]\n",
    "value_2005"
   ]
  },
  {
   "cell_type": "code",
   "execution_count": null,
   "id": "74",
   "metadata": {
    "id": "16dd1fbc"
   },
   "outputs": [],
   "source": [
    "percent_change = (value_2019 - value_2005) / value_2005 * 100"
   ]
  },
  {
   "cell_type": "code",
   "execution_count": null,
   "id": "75",
   "metadata": {
    "id": "db8362b2",
    "outputId": "5fb60471-4bbe-40a5-e6bc-53c4d52f14c2"
   },
   "outputs": [],
   "source": [
    "print(f\"change in rental rate in Philadelphia from 2005 to 2019= {percent_change}\")"
   ]
  },
  {
   "cell_type": "code",
   "execution_count": null,
   "id": "76",
   "metadata": {
    "id": "43ef7666"
   },
   "outputs": [],
   "source": []
  }
 ],
 "metadata": {
  "colab": {
   "provenance": []
  },
  "kernelspec": {
   "display_name": "Python 3 (ipykernel)",
   "language": "python",
   "name": "python3"
  },
  "language_info": {
   "codemirror_mode": {
    "name": "ipython",
    "version": 3
   },
   "file_extension": ".py",
   "mimetype": "text/x-python",
   "name": "python",
   "nbconvert_exporter": "python",
   "pygments_lexer": "ipython3",
   "version": "3.10.6"
  }
 },
 "nbformat": 4,
 "nbformat_minor": 5
}
