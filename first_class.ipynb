{
 "cells": [
  {
   "attachments": {},
   "cell_type": "markdown",
   "id": "9afb3748",
   "metadata": {},
   "source": [
    "[![lite-badge](https://jupyterlite.rtfd.io/en/latest/_static/badge.svg)](https://jupyter.org/try-jupyter)\n",
    "[![Open In Colab](https://colab.research.google.com/assets/colab-badge.svg)](https://colab.research.google.com/github/zyang91/spatial_analysis/blob/main/first_class.ipynb#scrollTo=4c43e7f5)"
   ]
  },
  {
   "cell_type": "code",
   "execution_count": 1,
   "id": "3311373d",
   "metadata": {},
   "outputs": [],
   "source": [
    "import pandas as pd\n"
   ]
  },
  {
   "cell_type": "code",
   "execution_count": 3,
   "id": "64a61336",
   "metadata": {},
   "outputs": [],
   "source": [
    "city_names = pd.Series ([\"San Francisco\", \"San Jose\", \"Binghamton\"])"
   ]
  },
  {
   "cell_type": "code",
   "execution_count": 5,
   "id": "7e7c4237",
   "metadata": {},
   "outputs": [],
   "source": [
    "population = pd.Series([850000,1010085,487900])"
   ]
  },
  {
   "cell_type": "code",
   "execution_count": 6,
   "id": "adb6b9c3",
   "metadata": {},
   "outputs": [
    {
     "data": {
      "text/plain": [
       "0    San Francisco\n",
       "1         San Jose\n",
       "2       Binghamton\n",
       "dtype: object"
      ]
     },
     "execution_count": 6,
     "metadata": {},
     "output_type": "execute_result"
    }
   ],
   "source": [
    "city_names"
   ]
  },
  {
   "cell_type": "code",
   "execution_count": 8,
   "id": "449eed06",
   "metadata": {},
   "outputs": [],
   "source": [
    "cities_df= pd.DataFrame({\"City Name\":city_names, \"population\":population})"
   ]
  },
  {
   "cell_type": "code",
   "execution_count": 9,
   "id": "4c43e7f5",
   "metadata": {},
   "outputs": [
    {
     "data": {
      "text/html": [
       "<div>\n",
       "<style scoped>\n",
       "    .dataframe tbody tr th:only-of-type {\n",
       "        vertical-align: middle;\n",
       "    }\n",
       "\n",
       "    .dataframe tbody tr th {\n",
       "        vertical-align: top;\n",
       "    }\n",
       "\n",
       "    .dataframe thead th {\n",
       "        text-align: right;\n",
       "    }\n",
       "</style>\n",
       "<table border=\"1\" class=\"dataframe\">\n",
       "  <thead>\n",
       "    <tr style=\"text-align: right;\">\n",
       "      <th></th>\n",
       "      <th>City Name</th>\n",
       "      <th>population</th>\n",
       "    </tr>\n",
       "  </thead>\n",
       "  <tbody>\n",
       "    <tr>\n",
       "      <th>0</th>\n",
       "      <td>San Francisco</td>\n",
       "      <td>850000</td>\n",
       "    </tr>\n",
       "    <tr>\n",
       "      <th>1</th>\n",
       "      <td>San Jose</td>\n",
       "      <td>1010085</td>\n",
       "    </tr>\n",
       "    <tr>\n",
       "      <th>2</th>\n",
       "      <td>Binghamton</td>\n",
       "      <td>487900</td>\n",
       "    </tr>\n",
       "  </tbody>\n",
       "</table>\n",
       "</div>"
      ],
      "text/plain": [
       "       City Name  population\n",
       "0  San Francisco      850000\n",
       "1       San Jose     1010085\n",
       "2     Binghamton      487900"
      ]
     },
     "execution_count": 9,
     "metadata": {},
     "output_type": "execute_result"
    }
   ],
   "source": [
    "cities_df"
   ]
  },
  {
   "cell_type": "code",
   "execution_count": 11,
   "id": "88232f7f",
   "metadata": {},
   "outputs": [
    {
     "data": {
      "text/plain": [
       "0    San Francisco\n",
       "1         San Jose\n",
       "2       Binghamton\n",
       "Name: City Name, dtype: object"
      ]
     },
     "execution_count": 11,
     "metadata": {},
     "output_type": "execute_result"
    }
   ],
   "source": [
    "cities_df[\"City Name\"]"
   ]
  },
  {
   "cell_type": "code",
   "execution_count": 12,
   "id": "debe163f",
   "metadata": {},
   "outputs": [
    {
     "data": {
      "text/plain": [
       "0     850000\n",
       "1    1010085\n",
       "2     487900\n",
       "Name: population, dtype: int64"
      ]
     },
     "execution_count": 12,
     "metadata": {},
     "output_type": "execute_result"
    }
   ],
   "source": [
    "cities_df[\"population\"]"
   ]
  },
  {
   "cell_type": "code",
   "execution_count": 15,
   "id": "73890025",
   "metadata": {},
   "outputs": [],
   "source": [
    "cities_list=[\"San Francisco\",\"San Jose\",\"Binghamton\"]\n"
   ]
  },
  {
   "cell_type": "code",
   "execution_count": 16,
   "id": "200bd4b1",
   "metadata": {},
   "outputs": [
    {
     "data": {
      "text/plain": [
       "['San Francisco', 'San Jose']"
      ]
     },
     "execution_count": 16,
     "metadata": {},
     "output_type": "execute_result"
    }
   ],
   "source": [
    "cities_list[:2]"
   ]
  },
  {
   "cell_type": "code",
   "execution_count": 17,
   "id": "394b85a4",
   "metadata": {},
   "outputs": [
    {
     "data": {
      "text/html": [
       "<div>\n",
       "<style scoped>\n",
       "    .dataframe tbody tr th:only-of-type {\n",
       "        vertical-align: middle;\n",
       "    }\n",
       "\n",
       "    .dataframe tbody tr th {\n",
       "        vertical-align: top;\n",
       "    }\n",
       "\n",
       "    .dataframe thead th {\n",
       "        text-align: right;\n",
       "    }\n",
       "</style>\n",
       "<table border=\"1\" class=\"dataframe\">\n",
       "  <thead>\n",
       "    <tr style=\"text-align: right;\">\n",
       "      <th></th>\n",
       "      <th>City Name</th>\n",
       "      <th>population</th>\n",
       "    </tr>\n",
       "  </thead>\n",
       "  <tbody>\n",
       "    <tr>\n",
       "      <th>0</th>\n",
       "      <td>San Francisco</td>\n",
       "      <td>850000</td>\n",
       "    </tr>\n",
       "    <tr>\n",
       "      <th>1</th>\n",
       "      <td>San Jose</td>\n",
       "      <td>1010085</td>\n",
       "    </tr>\n",
       "    <tr>\n",
       "      <th>2</th>\n",
       "      <td>Binghamton</td>\n",
       "      <td>487900</td>\n",
       "    </tr>\n",
       "  </tbody>\n",
       "</table>\n",
       "</div>"
      ],
      "text/plain": [
       "       City Name  population\n",
       "0  San Francisco      850000\n",
       "1       San Jose     1010085\n",
       "2     Binghamton      487900"
      ]
     },
     "execution_count": 17,
     "metadata": {},
     "output_type": "execute_result"
    }
   ],
   "source": [
    "cities_df"
   ]
  },
  {
   "cell_type": "code",
   "execution_count": 18,
   "id": "de481f25",
   "metadata": {},
   "outputs": [
    {
     "data": {
      "text/html": [
       "<div>\n",
       "<style scoped>\n",
       "    .dataframe tbody tr th:only-of-type {\n",
       "        vertical-align: middle;\n",
       "    }\n",
       "\n",
       "    .dataframe tbody tr th {\n",
       "        vertical-align: top;\n",
       "    }\n",
       "\n",
       "    .dataframe thead th {\n",
       "        text-align: right;\n",
       "    }\n",
       "</style>\n",
       "<table border=\"1\" class=\"dataframe\">\n",
       "  <thead>\n",
       "    <tr style=\"text-align: right;\">\n",
       "      <th></th>\n",
       "      <th>City Name</th>\n",
       "      <th>population</th>\n",
       "    </tr>\n",
       "  </thead>\n",
       "  <tbody>\n",
       "    <tr>\n",
       "      <th>0</th>\n",
       "      <td>San Francisco</td>\n",
       "      <td>850000</td>\n",
       "    </tr>\n",
       "    <tr>\n",
       "      <th>1</th>\n",
       "      <td>San Jose</td>\n",
       "      <td>1010085</td>\n",
       "    </tr>\n",
       "  </tbody>\n",
       "</table>\n",
       "</div>"
      ],
      "text/plain": [
       "       City Name  population\n",
       "0  San Francisco      850000\n",
       "1       San Jose     1010085"
      ]
     },
     "execution_count": 18,
     "metadata": {},
     "output_type": "execute_result"
    }
   ],
   "source": [
    "cities_df[:2]"
   ]
  },
  {
   "cell_type": "code",
   "execution_count": 19,
   "id": "0634145c",
   "metadata": {},
   "outputs": [
    {
     "data": {
      "text/html": [
       "<div>\n",
       "<style scoped>\n",
       "    .dataframe tbody tr th:only-of-type {\n",
       "        vertical-align: middle;\n",
       "    }\n",
       "\n",
       "    .dataframe tbody tr th {\n",
       "        vertical-align: top;\n",
       "    }\n",
       "\n",
       "    .dataframe thead th {\n",
       "        text-align: right;\n",
       "    }\n",
       "</style>\n",
       "<table border=\"1\" class=\"dataframe\">\n",
       "  <thead>\n",
       "    <tr style=\"text-align: right;\">\n",
       "      <th></th>\n",
       "      <th>City Name</th>\n",
       "      <th>population</th>\n",
       "    </tr>\n",
       "  </thead>\n",
       "  <tbody>\n",
       "    <tr>\n",
       "      <th>0</th>\n",
       "      <td>San Francisco</td>\n",
       "      <td>850000</td>\n",
       "    </tr>\n",
       "  </tbody>\n",
       "</table>\n",
       "</div>"
      ],
      "text/plain": [
       "       City Name  population\n",
       "0  San Francisco      850000"
      ]
     },
     "execution_count": 19,
     "metadata": {},
     "output_type": "execute_result"
    }
   ],
   "source": [
    "cities_df[:1]"
   ]
  },
  {
   "cell_type": "code",
   "execution_count": 20,
   "id": "199e87c1",
   "metadata": {},
   "outputs": [
    {
     "data": {
      "text/plain": [
       "850000.0"
      ]
     },
     "execution_count": 20,
     "metadata": {},
     "output_type": "execute_result"
    }
   ],
   "source": [
    "cities_df[\"population\"].median()"
   ]
  },
  {
   "cell_type": "code",
   "execution_count": 28,
   "id": "ef05402b",
   "metadata": {},
   "outputs": [],
   "source": [
    "city= pd.Series([\"Binghamton\", \"Vestal\", \"JC\"])"
   ]
  },
  {
   "cell_type": "code",
   "execution_count": 29,
   "id": "2247cf48",
   "metadata": {},
   "outputs": [],
   "source": [
    "population=pd.Series([50000,45000,30000])"
   ]
  },
  {
   "cell_type": "code",
   "execution_count": 30,
   "id": "bb40dec7",
   "metadata": {},
   "outputs": [
    {
     "data": {
      "text/plain": [
       "0    Binghamton\n",
       "1        Vestal\n",
       "2            JC\n",
       "dtype: object"
      ]
     },
     "execution_count": 30,
     "metadata": {},
     "output_type": "execute_result"
    }
   ],
   "source": [
    "city"
   ]
  },
  {
   "cell_type": "code",
   "execution_count": 31,
   "id": "fb1095a6",
   "metadata": {},
   "outputs": [],
   "source": [
    "city_df=pd.DataFrame({\"city name\":city, \"population\":population})"
   ]
  },
  {
   "cell_type": "code",
   "execution_count": 32,
   "id": "dabcb032",
   "metadata": {},
   "outputs": [
    {
     "data": {
      "text/html": [
       "<div>\n",
       "<style scoped>\n",
       "    .dataframe tbody tr th:only-of-type {\n",
       "        vertical-align: middle;\n",
       "    }\n",
       "\n",
       "    .dataframe tbody tr th {\n",
       "        vertical-align: top;\n",
       "    }\n",
       "\n",
       "    .dataframe thead th {\n",
       "        text-align: right;\n",
       "    }\n",
       "</style>\n",
       "<table border=\"1\" class=\"dataframe\">\n",
       "  <thead>\n",
       "    <tr style=\"text-align: right;\">\n",
       "      <th></th>\n",
       "      <th>city name</th>\n",
       "      <th>population</th>\n",
       "    </tr>\n",
       "  </thead>\n",
       "  <tbody>\n",
       "    <tr>\n",
       "      <th>0</th>\n",
       "      <td>Binghamton</td>\n",
       "      <td>50000</td>\n",
       "    </tr>\n",
       "    <tr>\n",
       "      <th>1</th>\n",
       "      <td>Vestal</td>\n",
       "      <td>45000</td>\n",
       "    </tr>\n",
       "    <tr>\n",
       "      <th>2</th>\n",
       "      <td>JC</td>\n",
       "      <td>30000</td>\n",
       "    </tr>\n",
       "  </tbody>\n",
       "</table>\n",
       "</div>"
      ],
      "text/plain": [
       "    city name  population\n",
       "0  Binghamton       50000\n",
       "1      Vestal       45000\n",
       "2          JC       30000"
      ]
     },
     "execution_count": 32,
     "metadata": {},
     "output_type": "execute_result"
    }
   ],
   "source": [
    "city_df"
   ]
  },
  {
   "cell_type": "code",
   "execution_count": 33,
   "id": "13b28f7b",
   "metadata": {},
   "outputs": [
    {
     "data": {
      "text/plain": [
       "45000.0"
      ]
     },
     "execution_count": 33,
     "metadata": {},
     "output_type": "execute_result"
    }
   ],
   "source": [
    "city_df[\"population\"].median()"
   ]
  },
  {
   "cell_type": "code",
   "execution_count": 34,
   "id": "38866367",
   "metadata": {},
   "outputs": [],
   "source": [
    "import numpy as np"
   ]
  },
  {
   "cell_type": "code",
   "execution_count": 35,
   "id": "e7698557",
   "metadata": {},
   "outputs": [
    {
     "data": {
      "text/plain": [
       "45000.0"
      ]
     },
     "execution_count": 35,
     "metadata": {},
     "output_type": "execute_result"
    }
   ],
   "source": [
    "np.median(city_df[\"population\"])"
   ]
  },
  {
   "cell_type": "code",
   "execution_count": 36,
   "id": "1a8b276a",
   "metadata": {},
   "outputs": [],
   "source": [
    "def get_large_city(population):\n",
    "    return population>=40000"
   ]
  },
  {
   "cell_type": "code",
   "execution_count": 38,
   "id": "8e350edf",
   "metadata": {},
   "outputs": [],
   "source": [
    "large_city_sel= city_df[\"population\"].apply(get_large_city)"
   ]
  },
  {
   "cell_type": "code",
   "execution_count": 39,
   "id": "6239964b",
   "metadata": {},
   "outputs": [
    {
     "data": {
      "text/plain": [
       "0     True\n",
       "1     True\n",
       "2    False\n",
       "Name: population, dtype: bool"
      ]
     },
     "execution_count": 39,
     "metadata": {},
     "output_type": "execute_result"
    }
   ],
   "source": [
    "large_city_sel"
   ]
  },
  {
   "cell_type": "code",
   "execution_count": 41,
   "id": "01c91378",
   "metadata": {},
   "outputs": [],
   "source": [
    "city_df[\"large city\"]=large_city_sel"
   ]
  },
  {
   "cell_type": "code",
   "execution_count": 42,
   "id": "27456dc0",
   "metadata": {},
   "outputs": [],
   "source": [
    "small_city=lambda population:population<40000"
   ]
  },
  {
   "cell_type": "code",
   "execution_count": 46,
   "id": "bab395e4",
   "metadata": {},
   "outputs": [],
   "source": [
    "city_df[\"small city\"]= city_df[\"population\"].apply(small_city)"
   ]
  },
  {
   "cell_type": "code",
   "execution_count": 47,
   "id": "621d524e",
   "metadata": {},
   "outputs": [
    {
     "data": {
      "text/html": [
       "<div>\n",
       "<style scoped>\n",
       "    .dataframe tbody tr th:only-of-type {\n",
       "        vertical-align: middle;\n",
       "    }\n",
       "\n",
       "    .dataframe tbody tr th {\n",
       "        vertical-align: top;\n",
       "    }\n",
       "\n",
       "    .dataframe thead th {\n",
       "        text-align: right;\n",
       "    }\n",
       "</style>\n",
       "<table border=\"1\" class=\"dataframe\">\n",
       "  <thead>\n",
       "    <tr style=\"text-align: right;\">\n",
       "      <th></th>\n",
       "      <th>city name</th>\n",
       "      <th>population</th>\n",
       "      <th>large city</th>\n",
       "      <th>small city</th>\n",
       "    </tr>\n",
       "  </thead>\n",
       "  <tbody>\n",
       "    <tr>\n",
       "      <th>0</th>\n",
       "      <td>Binghamton</td>\n",
       "      <td>50000</td>\n",
       "      <td>True</td>\n",
       "      <td>False</td>\n",
       "    </tr>\n",
       "    <tr>\n",
       "      <th>1</th>\n",
       "      <td>Vestal</td>\n",
       "      <td>45000</td>\n",
       "      <td>True</td>\n",
       "      <td>False</td>\n",
       "    </tr>\n",
       "    <tr>\n",
       "      <th>2</th>\n",
       "      <td>JC</td>\n",
       "      <td>30000</td>\n",
       "      <td>False</td>\n",
       "      <td>True</td>\n",
       "    </tr>\n",
       "  </tbody>\n",
       "</table>\n",
       "</div>"
      ],
      "text/plain": [
       "    city name  population  large city  small city\n",
       "0  Binghamton       50000        True       False\n",
       "1      Vestal       45000        True       False\n",
       "2          JC       30000       False        True"
      ]
     },
     "execution_count": 47,
     "metadata": {},
     "output_type": "execute_result"
    }
   ],
   "source": [
    "city_df"
   ]
  },
  {
   "cell_type": "code",
   "execution_count": 48,
   "id": "7e09c4de",
   "metadata": {},
   "outputs": [
    {
     "data": {
      "text/plain": [
       "0     True\n",
       "1     True\n",
       "2    False\n",
       "Name: large city, dtype: bool"
      ]
     },
     "execution_count": 48,
     "metadata": {},
     "output_type": "execute_result"
    }
   ],
   "source": [
    "city_df[\"large city\"]"
   ]
  },
  {
   "cell_type": "code",
   "execution_count": 49,
   "id": "0a7b3d21",
   "metadata": {},
   "outputs": [
    {
     "data": {
      "text/html": [
       "<div>\n",
       "<style scoped>\n",
       "    .dataframe tbody tr th:only-of-type {\n",
       "        vertical-align: middle;\n",
       "    }\n",
       "\n",
       "    .dataframe tbody tr th {\n",
       "        vertical-align: top;\n",
       "    }\n",
       "\n",
       "    .dataframe thead th {\n",
       "        text-align: right;\n",
       "    }\n",
       "</style>\n",
       "<table border=\"1\" class=\"dataframe\">\n",
       "  <thead>\n",
       "    <tr style=\"text-align: right;\">\n",
       "      <th></th>\n",
       "      <th>city name</th>\n",
       "      <th>population</th>\n",
       "      <th>large city</th>\n",
       "      <th>small city</th>\n",
       "    </tr>\n",
       "  </thead>\n",
       "  <tbody>\n",
       "    <tr>\n",
       "      <th>0</th>\n",
       "      <td>Binghamton</td>\n",
       "      <td>50000</td>\n",
       "      <td>True</td>\n",
       "      <td>False</td>\n",
       "    </tr>\n",
       "    <tr>\n",
       "      <th>1</th>\n",
       "      <td>Vestal</td>\n",
       "      <td>45000</td>\n",
       "      <td>True</td>\n",
       "      <td>False</td>\n",
       "    </tr>\n",
       "  </tbody>\n",
       "</table>\n",
       "</div>"
      ],
      "text/plain": [
       "    city name  population  large city  small city\n",
       "0  Binghamton       50000        True       False\n",
       "1      Vestal       45000        True       False"
      ]
     },
     "execution_count": 49,
     "metadata": {},
     "output_type": "execute_result"
    }
   ],
   "source": [
    "city_df.loc[city_df[\"large city\"]]"
   ]
  },
  {
   "cell_type": "code",
   "execution_count": 50,
   "id": "7e64bff7",
   "metadata": {},
   "outputs": [
    {
     "data": {
      "text/plain": [
       "0     True\n",
       "1    False\n",
       "2    False\n",
       "Name: population, dtype: bool"
      ]
     },
     "execution_count": 50,
     "metadata": {},
     "output_type": "execute_result"
    }
   ],
   "source": [
    "city_df[\"population\"]>45000"
   ]
  },
  {
   "cell_type": "code",
   "execution_count": 51,
   "id": "9cfd79de",
   "metadata": {},
   "outputs": [
    {
     "data": {
      "text/html": [
       "<div>\n",
       "<style scoped>\n",
       "    .dataframe tbody tr th:only-of-type {\n",
       "        vertical-align: middle;\n",
       "    }\n",
       "\n",
       "    .dataframe tbody tr th {\n",
       "        vertical-align: top;\n",
       "    }\n",
       "\n",
       "    .dataframe thead th {\n",
       "        text-align: right;\n",
       "    }\n",
       "</style>\n",
       "<table border=\"1\" class=\"dataframe\">\n",
       "  <thead>\n",
       "    <tr style=\"text-align: right;\">\n",
       "      <th></th>\n",
       "      <th>city name</th>\n",
       "      <th>population</th>\n",
       "      <th>large city</th>\n",
       "      <th>small city</th>\n",
       "    </tr>\n",
       "  </thead>\n",
       "  <tbody>\n",
       "    <tr>\n",
       "      <th>2</th>\n",
       "      <td>JC</td>\n",
       "      <td>30000</td>\n",
       "      <td>False</td>\n",
       "      <td>True</td>\n",
       "    </tr>\n",
       "  </tbody>\n",
       "</table>\n",
       "</div>"
      ],
      "text/plain": [
       "  city name  population  large city  small city\n",
       "2        JC       30000       False        True"
      ]
     },
     "execution_count": 51,
     "metadata": {},
     "output_type": "execute_result"
    }
   ],
   "source": [
    "city_df.loc[city_df[\"population\"]<45000]"
   ]
  },
  {
   "cell_type": "code",
   "execution_count": 52,
   "id": "d8a742f2",
   "metadata": {},
   "outputs": [
    {
     "data": {
      "text/html": [
       "<div>\n",
       "<style scoped>\n",
       "    .dataframe tbody tr th:only-of-type {\n",
       "        vertical-align: middle;\n",
       "    }\n",
       "\n",
       "    .dataframe tbody tr th {\n",
       "        vertical-align: top;\n",
       "    }\n",
       "\n",
       "    .dataframe thead th {\n",
       "        text-align: right;\n",
       "    }\n",
       "</style>\n",
       "<table border=\"1\" class=\"dataframe\">\n",
       "  <thead>\n",
       "    <tr style=\"text-align: right;\">\n",
       "      <th></th>\n",
       "      <th>city name</th>\n",
       "      <th>population</th>\n",
       "      <th>large city</th>\n",
       "      <th>small city</th>\n",
       "    </tr>\n",
       "  </thead>\n",
       "  <tbody>\n",
       "    <tr>\n",
       "      <th>2</th>\n",
       "      <td>JC</td>\n",
       "      <td>30000</td>\n",
       "      <td>False</td>\n",
       "      <td>True</td>\n",
       "    </tr>\n",
       "  </tbody>\n",
       "</table>\n",
       "</div>"
      ],
      "text/plain": [
       "  city name  population  large city  small city\n",
       "2        JC       30000       False        True"
      ]
     },
     "execution_count": 52,
     "metadata": {},
     "output_type": "execute_result"
    }
   ],
   "source": [
    "city_df.loc[~large_city_sel]"
   ]
  },
  {
   "cell_type": "code",
   "execution_count": 53,
   "id": "6b53bbf2",
   "metadata": {},
   "outputs": [
    {
     "data": {
      "text/html": [
       "<div>\n",
       "<style scoped>\n",
       "    .dataframe tbody tr th:only-of-type {\n",
       "        vertical-align: middle;\n",
       "    }\n",
       "\n",
       "    .dataframe tbody tr th {\n",
       "        vertical-align: top;\n",
       "    }\n",
       "\n",
       "    .dataframe thead th {\n",
       "        text-align: right;\n",
       "    }\n",
       "</style>\n",
       "<table border=\"1\" class=\"dataframe\">\n",
       "  <thead>\n",
       "    <tr style=\"text-align: right;\">\n",
       "      <th></th>\n",
       "      <th>city name</th>\n",
       "      <th>population</th>\n",
       "      <th>large city</th>\n",
       "      <th>small city</th>\n",
       "    </tr>\n",
       "  </thead>\n",
       "  <tbody>\n",
       "    <tr>\n",
       "      <th>2</th>\n",
       "      <td>JC</td>\n",
       "      <td>30000</td>\n",
       "      <td>False</td>\n",
       "      <td>True</td>\n",
       "    </tr>\n",
       "  </tbody>\n",
       "</table>\n",
       "</div>"
      ],
      "text/plain": [
       "  city name  population  large city  small city\n",
       "2        JC       30000       False        True"
      ]
     },
     "execution_count": 53,
     "metadata": {},
     "output_type": "execute_result"
    }
   ],
   "source": [
    "city_df.query(\"population<45000\")"
   ]
  },
  {
   "cell_type": "code",
   "execution_count": 55,
   "id": "18b93c4c",
   "metadata": {},
   "outputs": [],
   "source": [
    "census_df=pd.read_csv(\"C:\\data\\census\\ACS_19_1YR_B25003.csv\")"
   ]
  },
  {
   "cell_type": "code",
   "execution_count": 56,
   "id": "d3ada747",
   "metadata": {},
   "outputs": [
    {
     "data": {
      "text/html": [
       "<div>\n",
       "<style scoped>\n",
       "    .dataframe tbody tr th:only-of-type {\n",
       "        vertical-align: middle;\n",
       "    }\n",
       "\n",
       "    .dataframe tbody tr th {\n",
       "        vertical-align: top;\n",
       "    }\n",
       "\n",
       "    .dataframe thead th {\n",
       "        text-align: right;\n",
       "    }\n",
       "</style>\n",
       "<table border=\"1\" class=\"dataframe\">\n",
       "  <thead>\n",
       "    <tr style=\"text-align: right;\">\n",
       "      <th></th>\n",
       "      <th>GEO.id</th>\n",
       "      <th>GEO.display-label</th>\n",
       "      <th>HD01_VD01</th>\n",
       "      <th>HD02_VD01</th>\n",
       "      <th>HD01_VD02</th>\n",
       "      <th>HD02_VD02</th>\n",
       "      <th>HD01_VD03</th>\n",
       "      <th>HD02_VD03</th>\n",
       "    </tr>\n",
       "  </thead>\n",
       "  <tbody>\n",
       "    <tr>\n",
       "      <th>0</th>\n",
       "      <td>1600000US0103076</td>\n",
       "      <td>Auburn city, Alabama</td>\n",
       "      <td>26156</td>\n",
       "      <td>2687</td>\n",
       "      <td>13095</td>\n",
       "      <td>1829</td>\n",
       "      <td>13061</td>\n",
       "      <td>2108</td>\n",
       "    </tr>\n",
       "    <tr>\n",
       "      <th>1</th>\n",
       "      <td>1600000US0107000</td>\n",
       "      <td>Birmingham city, Alabama</td>\n",
       "      <td>93300</td>\n",
       "      <td>3618</td>\n",
       "      <td>37788</td>\n",
       "      <td>2635</td>\n",
       "      <td>55512</td>\n",
       "      <td>2788</td>\n",
       "    </tr>\n",
       "    <tr>\n",
       "      <th>2</th>\n",
       "      <td>1600000US0121184</td>\n",
       "      <td>Dothan city, Alabama</td>\n",
       "      <td>27103</td>\n",
       "      <td>1044</td>\n",
       "      <td>15891</td>\n",
       "      <td>824</td>\n",
       "      <td>11212</td>\n",
       "      <td>817</td>\n",
       "    </tr>\n",
       "    <tr>\n",
       "      <th>3</th>\n",
       "      <td>1600000US0135896</td>\n",
       "      <td>Hoover city, Alabama</td>\n",
       "      <td>32461</td>\n",
       "      <td>1606</td>\n",
       "      <td>22391</td>\n",
       "      <td>1515</td>\n",
       "      <td>10070</td>\n",
       "      <td>1496</td>\n",
       "    </tr>\n",
       "    <tr>\n",
       "      <th>4</th>\n",
       "      <td>1600000US0137000</td>\n",
       "      <td>Huntsville city, Alabama</td>\n",
       "      <td>88930</td>\n",
       "      <td>2823</td>\n",
       "      <td>48728</td>\n",
       "      <td>2758</td>\n",
       "      <td>40202</td>\n",
       "      <td>2550</td>\n",
       "    </tr>\n",
       "  </tbody>\n",
       "</table>\n",
       "</div>"
      ],
      "text/plain": [
       "             GEO.id         GEO.display-label  HD01_VD01  HD02_VD01  \\\n",
       "0  1600000US0103076      Auburn city, Alabama      26156       2687   \n",
       "1  1600000US0107000  Birmingham city, Alabama      93300       3618   \n",
       "2  1600000US0121184      Dothan city, Alabama      27103       1044   \n",
       "3  1600000US0135896      Hoover city, Alabama      32461       1606   \n",
       "4  1600000US0137000  Huntsville city, Alabama      88930       2823   \n",
       "\n",
       "   HD01_VD02  HD02_VD02  HD01_VD03  HD02_VD03  \n",
       "0      13095       1829      13061       2108  \n",
       "1      37788       2635      55512       2788  \n",
       "2      15891        824      11212        817  \n",
       "3      22391       1515      10070       1496  \n",
       "4      48728       2758      40202       2550  "
      ]
     },
     "execution_count": 56,
     "metadata": {},
     "output_type": "execute_result"
    }
   ],
   "source": [
    "census_df.head(n=5)"
   ]
  },
  {
   "cell_type": "code",
   "execution_count": 57,
   "id": "dc11d7d4",
   "metadata": {},
   "outputs": [],
   "source": [
    "columns=[\"GEO.display-label\",\"HD01_VD01\",\"HD01_VD03\"]\n",
    "census_df=census_df[columns]"
   ]
  },
  {
   "cell_type": "code",
   "execution_count": 58,
   "id": "fd59f47e",
   "metadata": {},
   "outputs": [
    {
     "data": {
      "text/html": [
       "<div>\n",
       "<style scoped>\n",
       "    .dataframe tbody tr th:only-of-type {\n",
       "        vertical-align: middle;\n",
       "    }\n",
       "\n",
       "    .dataframe tbody tr th {\n",
       "        vertical-align: top;\n",
       "    }\n",
       "\n",
       "    .dataframe thead th {\n",
       "        text-align: right;\n",
       "    }\n",
       "</style>\n",
       "<table border=\"1\" class=\"dataframe\">\n",
       "  <thead>\n",
       "    <tr style=\"text-align: right;\">\n",
       "      <th></th>\n",
       "      <th>GEO.display-label</th>\n",
       "      <th>HD01_VD01</th>\n",
       "      <th>HD01_VD03</th>\n",
       "    </tr>\n",
       "  </thead>\n",
       "  <tbody>\n",
       "    <tr>\n",
       "      <th>0</th>\n",
       "      <td>Auburn city, Alabama</td>\n",
       "      <td>26156</td>\n",
       "      <td>13061</td>\n",
       "    </tr>\n",
       "    <tr>\n",
       "      <th>1</th>\n",
       "      <td>Birmingham city, Alabama</td>\n",
       "      <td>93300</td>\n",
       "      <td>55512</td>\n",
       "    </tr>\n",
       "    <tr>\n",
       "      <th>2</th>\n",
       "      <td>Dothan city, Alabama</td>\n",
       "      <td>27103</td>\n",
       "      <td>11212</td>\n",
       "    </tr>\n",
       "    <tr>\n",
       "      <th>3</th>\n",
       "      <td>Hoover city, Alabama</td>\n",
       "      <td>32461</td>\n",
       "      <td>10070</td>\n",
       "    </tr>\n",
       "    <tr>\n",
       "      <th>4</th>\n",
       "      <td>Huntsville city, Alabama</td>\n",
       "      <td>88930</td>\n",
       "      <td>40202</td>\n",
       "    </tr>\n",
       "  </tbody>\n",
       "</table>\n",
       "</div>"
      ],
      "text/plain": [
       "          GEO.display-label  HD01_VD01  HD01_VD03\n",
       "0      Auburn city, Alabama      26156      13061\n",
       "1  Birmingham city, Alabama      93300      55512\n",
       "2      Dothan city, Alabama      27103      11212\n",
       "3      Hoover city, Alabama      32461      10070\n",
       "4  Huntsville city, Alabama      88930      40202"
      ]
     },
     "execution_count": 58,
     "metadata": {},
     "output_type": "execute_result"
    }
   ],
   "source": [
    "census_df.head()"
   ]
  },
  {
   "cell_type": "code",
   "execution_count": 60,
   "id": "64336ad4",
   "metadata": {},
   "outputs": [],
   "source": [
    "census_df.columns=[\"City\",\"Total\",\"Rentals\"]"
   ]
  },
  {
   "cell_type": "code",
   "execution_count": 61,
   "id": "38ccfbca",
   "metadata": {},
   "outputs": [
    {
     "data": {
      "text/html": [
       "<div>\n",
       "<style scoped>\n",
       "    .dataframe tbody tr th:only-of-type {\n",
       "        vertical-align: middle;\n",
       "    }\n",
       "\n",
       "    .dataframe tbody tr th {\n",
       "        vertical-align: top;\n",
       "    }\n",
       "\n",
       "    .dataframe thead th {\n",
       "        text-align: right;\n",
       "    }\n",
       "</style>\n",
       "<table border=\"1\" class=\"dataframe\">\n",
       "  <thead>\n",
       "    <tr style=\"text-align: right;\">\n",
       "      <th></th>\n",
       "      <th>City</th>\n",
       "      <th>Total</th>\n",
       "      <th>Rentals</th>\n",
       "    </tr>\n",
       "  </thead>\n",
       "  <tbody>\n",
       "    <tr>\n",
       "      <th>0</th>\n",
       "      <td>Auburn city, Alabama</td>\n",
       "      <td>26156</td>\n",
       "      <td>13061</td>\n",
       "    </tr>\n",
       "    <tr>\n",
       "      <th>1</th>\n",
       "      <td>Birmingham city, Alabama</td>\n",
       "      <td>93300</td>\n",
       "      <td>55512</td>\n",
       "    </tr>\n",
       "    <tr>\n",
       "      <th>2</th>\n",
       "      <td>Dothan city, Alabama</td>\n",
       "      <td>27103</td>\n",
       "      <td>11212</td>\n",
       "    </tr>\n",
       "    <tr>\n",
       "      <th>3</th>\n",
       "      <td>Hoover city, Alabama</td>\n",
       "      <td>32461</td>\n",
       "      <td>10070</td>\n",
       "    </tr>\n",
       "    <tr>\n",
       "      <th>4</th>\n",
       "      <td>Huntsville city, Alabama</td>\n",
       "      <td>88930</td>\n",
       "      <td>40202</td>\n",
       "    </tr>\n",
       "  </tbody>\n",
       "</table>\n",
       "</div>"
      ],
      "text/plain": [
       "                       City  Total  Rentals\n",
       "0      Auburn city, Alabama  26156    13061\n",
       "1  Birmingham city, Alabama  93300    55512\n",
       "2      Dothan city, Alabama  27103    11212\n",
       "3      Hoover city, Alabama  32461    10070\n",
       "4  Huntsville city, Alabama  88930    40202"
      ]
     },
     "execution_count": 61,
     "metadata": {},
     "output_type": "execute_result"
    }
   ],
   "source": [
    "census_df.head(n=5)"
   ]
  },
  {
   "cell_type": "code",
   "execution_count": 62,
   "id": "297c7ea4",
   "metadata": {},
   "outputs": [],
   "source": [
    "census_df['Rental Rate']= census_df['Rentals']/census_df['Total']*100"
   ]
  },
  {
   "cell_type": "code",
   "execution_count": 63,
   "id": "dc171463",
   "metadata": {},
   "outputs": [
    {
     "data": {
      "text/html": [
       "<div>\n",
       "<style scoped>\n",
       "    .dataframe tbody tr th:only-of-type {\n",
       "        vertical-align: middle;\n",
       "    }\n",
       "\n",
       "    .dataframe tbody tr th {\n",
       "        vertical-align: top;\n",
       "    }\n",
       "\n",
       "    .dataframe thead th {\n",
       "        text-align: right;\n",
       "    }\n",
       "</style>\n",
       "<table border=\"1\" class=\"dataframe\">\n",
       "  <thead>\n",
       "    <tr style=\"text-align: right;\">\n",
       "      <th></th>\n",
       "      <th>City</th>\n",
       "      <th>Total</th>\n",
       "      <th>Rentals</th>\n",
       "      <th>Rental Rate</th>\n",
       "    </tr>\n",
       "  </thead>\n",
       "  <tbody>\n",
       "    <tr>\n",
       "      <th>0</th>\n",
       "      <td>Auburn city, Alabama</td>\n",
       "      <td>26156</td>\n",
       "      <td>13061</td>\n",
       "      <td>49.935005</td>\n",
       "    </tr>\n",
       "    <tr>\n",
       "      <th>1</th>\n",
       "      <td>Birmingham city, Alabama</td>\n",
       "      <td>93300</td>\n",
       "      <td>55512</td>\n",
       "      <td>59.498392</td>\n",
       "    </tr>\n",
       "    <tr>\n",
       "      <th>2</th>\n",
       "      <td>Dothan city, Alabama</td>\n",
       "      <td>27103</td>\n",
       "      <td>11212</td>\n",
       "      <td>41.368114</td>\n",
       "    </tr>\n",
       "    <tr>\n",
       "      <th>3</th>\n",
       "      <td>Hoover city, Alabama</td>\n",
       "      <td>32461</td>\n",
       "      <td>10070</td>\n",
       "      <td>31.021842</td>\n",
       "    </tr>\n",
       "    <tr>\n",
       "      <th>4</th>\n",
       "      <td>Huntsville city, Alabama</td>\n",
       "      <td>88930</td>\n",
       "      <td>40202</td>\n",
       "      <td>45.206342</td>\n",
       "    </tr>\n",
       "  </tbody>\n",
       "</table>\n",
       "</div>"
      ],
      "text/plain": [
       "                       City  Total  Rentals  Rental Rate\n",
       "0      Auburn city, Alabama  26156    13061    49.935005\n",
       "1  Birmingham city, Alabama  93300    55512    59.498392\n",
       "2      Dothan city, Alabama  27103    11212    41.368114\n",
       "3      Hoover city, Alabama  32461    10070    31.021842\n",
       "4  Huntsville city, Alabama  88930    40202    45.206342"
      ]
     },
     "execution_count": 63,
     "metadata": {},
     "output_type": "execute_result"
    }
   ],
   "source": [
    "census_df.head()"
   ]
  },
  {
   "cell_type": "code",
   "execution_count": 64,
   "id": "0b129f8b",
   "metadata": {},
   "outputs": [
    {
     "data": {
      "text/plain": [
       "634"
      ]
     },
     "execution_count": 64,
     "metadata": {},
     "output_type": "execute_result"
    }
   ],
   "source": [
    "len(census_df)"
   ]
  },
  {
   "cell_type": "code",
   "execution_count": 65,
   "id": "3ab69773",
   "metadata": {},
   "outputs": [],
   "source": [
    "top_cities_list = [\n",
    "    \"Philadelphia city, Pennsylvania\",\n",
    "    \"New York city, New York\",\n",
    "    \"Los Angeles city, California\",\n",
    "    \"Houston city, Texas\",\n",
    "    \"Chicago city, Illinois\",\n",
    "    \"Phoenix city, Arizona\",\n",
    "]"
   ]
  },
  {
   "cell_type": "code",
   "execution_count": 66,
   "id": "7c9489ba",
   "metadata": {},
   "outputs": [
    {
     "data": {
      "text/plain": [
       "0      False\n",
       "1      False\n",
       "2      False\n",
       "3      False\n",
       "4      False\n",
       "       ...  \n",
       "629    False\n",
       "630    False\n",
       "631    False\n",
       "632    False\n",
       "633    False\n",
       "Name: City, Length: 634, dtype: bool"
      ]
     },
     "execution_count": 66,
     "metadata": {},
     "output_type": "execute_result"
    }
   ],
   "source": [
    "census_df[\"City\"].isin(top_cities_list)"
   ]
  },
  {
   "cell_type": "code",
   "execution_count": 67,
   "id": "86f055ac",
   "metadata": {},
   "outputs": [
    {
     "data": {
      "text/html": [
       "<div>\n",
       "<style scoped>\n",
       "    .dataframe tbody tr th:only-of-type {\n",
       "        vertical-align: middle;\n",
       "    }\n",
       "\n",
       "    .dataframe tbody tr th {\n",
       "        vertical-align: top;\n",
       "    }\n",
       "\n",
       "    .dataframe thead th {\n",
       "        text-align: right;\n",
       "    }\n",
       "</style>\n",
       "<table border=\"1\" class=\"dataframe\">\n",
       "  <thead>\n",
       "    <tr style=\"text-align: right;\">\n",
       "      <th></th>\n",
       "      <th>City</th>\n",
       "      <th>Total</th>\n",
       "      <th>Rentals</th>\n",
       "      <th>Rental Rate</th>\n",
       "    </tr>\n",
       "  </thead>\n",
       "  <tbody>\n",
       "    <tr>\n",
       "      <th>19</th>\n",
       "      <td>Phoenix city, Arizona</td>\n",
       "      <td>586878</td>\n",
       "      <td>267225</td>\n",
       "      <td>45.533314</td>\n",
       "    </tr>\n",
       "    <tr>\n",
       "      <th>94</th>\n",
       "      <td>Los Angeles city, California</td>\n",
       "      <td>1398900</td>\n",
       "      <td>887785</td>\n",
       "      <td>63.463078</td>\n",
       "    </tr>\n",
       "    <tr>\n",
       "      <th>284</th>\n",
       "      <td>Chicago city, Illinois</td>\n",
       "      <td>1080345</td>\n",
       "      <td>603352</td>\n",
       "      <td>55.848086</td>\n",
       "    </tr>\n",
       "    <tr>\n",
       "      <th>439</th>\n",
       "      <td>New York city, New York</td>\n",
       "      <td>3211033</td>\n",
       "      <td>2188214</td>\n",
       "      <td>68.146730</td>\n",
       "    </tr>\n",
       "    <tr>\n",
       "      <th>487</th>\n",
       "      <td>Philadelphia city, Pennsylvania</td>\n",
       "      <td>619505</td>\n",
       "      <td>295783</td>\n",
       "      <td>47.745055</td>\n",
       "    </tr>\n",
       "    <tr>\n",
       "      <th>538</th>\n",
       "      <td>Houston city, Texas</td>\n",
       "      <td>876504</td>\n",
       "      <td>522942</td>\n",
       "      <td>59.662249</td>\n",
       "    </tr>\n",
       "  </tbody>\n",
       "</table>\n",
       "</div>"
      ],
      "text/plain": [
       "                                City    Total  Rentals  Rental Rate\n",
       "19             Phoenix city, Arizona   586878   267225    45.533314\n",
       "94      Los Angeles city, California  1398900   887785    63.463078\n",
       "284           Chicago city, Illinois  1080345   603352    55.848086\n",
       "439          New York city, New York  3211033  2188214    68.146730\n",
       "487  Philadelphia city, Pennsylvania   619505   295783    47.745055\n",
       "538              Houston city, Texas   876504   522942    59.662249"
      ]
     },
     "execution_count": 67,
     "metadata": {},
     "output_type": "execute_result"
    }
   ],
   "source": [
    "census_df.loc[census_df[\"City\"].isin(top_cities_list)]"
   ]
  },
  {
   "cell_type": "code",
   "execution_count": 68,
   "id": "6f621738",
   "metadata": {},
   "outputs": [
    {
     "data": {
      "text/html": [
       "<div>\n",
       "<style scoped>\n",
       "    .dataframe tbody tr th:only-of-type {\n",
       "        vertical-align: middle;\n",
       "    }\n",
       "\n",
       "    .dataframe tbody tr th {\n",
       "        vertical-align: top;\n",
       "    }\n",
       "\n",
       "    .dataframe thead th {\n",
       "        text-align: right;\n",
       "    }\n",
       "</style>\n",
       "<table border=\"1\" class=\"dataframe\">\n",
       "  <thead>\n",
       "    <tr style=\"text-align: right;\">\n",
       "      <th></th>\n",
       "      <th>City</th>\n",
       "      <th>Total</th>\n",
       "      <th>Rentals</th>\n",
       "      <th>Rental Rate</th>\n",
       "    </tr>\n",
       "  </thead>\n",
       "  <tbody>\n",
       "    <tr>\n",
       "      <th>19</th>\n",
       "      <td>Phoenix city, Arizona</td>\n",
       "      <td>586878</td>\n",
       "      <td>267225</td>\n",
       "      <td>45.533314</td>\n",
       "    </tr>\n",
       "    <tr>\n",
       "      <th>94</th>\n",
       "      <td>Los Angeles city, California</td>\n",
       "      <td>1398900</td>\n",
       "      <td>887785</td>\n",
       "      <td>63.463078</td>\n",
       "    </tr>\n",
       "    <tr>\n",
       "      <th>284</th>\n",
       "      <td>Chicago city, Illinois</td>\n",
       "      <td>1080345</td>\n",
       "      <td>603352</td>\n",
       "      <td>55.848086</td>\n",
       "    </tr>\n",
       "    <tr>\n",
       "      <th>439</th>\n",
       "      <td>New York city, New York</td>\n",
       "      <td>3211033</td>\n",
       "      <td>2188214</td>\n",
       "      <td>68.146730</td>\n",
       "    </tr>\n",
       "    <tr>\n",
       "      <th>487</th>\n",
       "      <td>Philadelphia city, Pennsylvania</td>\n",
       "      <td>619505</td>\n",
       "      <td>295783</td>\n",
       "      <td>47.745055</td>\n",
       "    </tr>\n",
       "    <tr>\n",
       "      <th>538</th>\n",
       "      <td>Houston city, Texas</td>\n",
       "      <td>876504</td>\n",
       "      <td>522942</td>\n",
       "      <td>59.662249</td>\n",
       "    </tr>\n",
       "  </tbody>\n",
       "</table>\n",
       "</div>"
      ],
      "text/plain": [
       "                                City    Total  Rentals  Rental Rate\n",
       "19             Phoenix city, Arizona   586878   267225    45.533314\n",
       "94      Los Angeles city, California  1398900   887785    63.463078\n",
       "284           Chicago city, Illinois  1080345   603352    55.848086\n",
       "439          New York city, New York  3211033  2188214    68.146730\n",
       "487  Philadelphia city, Pennsylvania   619505   295783    47.745055\n",
       "538              Houston city, Texas   876504   522942    59.662249"
      ]
     },
     "execution_count": 68,
     "metadata": {},
     "output_type": "execute_result"
    }
   ],
   "source": [
    "census_df.query(\"City in @top_cities_list\")"
   ]
  },
  {
   "cell_type": "code",
   "execution_count": 69,
   "id": "abf1dc04",
   "metadata": {},
   "outputs": [],
   "source": [
    "year_str=\"19\""
   ]
  },
  {
   "cell_type": "code",
   "execution_count": 70,
   "id": "19d9cc18",
   "metadata": {},
   "outputs": [],
   "source": [
    "path=f\"C:\\data\\census\\ACS_{year_str}_1YR_B25003.csv\""
   ]
  },
  {
   "cell_type": "code",
   "execution_count": 71,
   "id": "f5e73ff6",
   "metadata": {},
   "outputs": [
    {
     "name": "stdout",
     "output_type": "stream",
     "text": [
      "C:\\data\\census\\ACS_19_1YR_B25003.csv\n"
     ]
    }
   ],
   "source": [
    "print(path)"
   ]
  },
  {
   "cell_type": "code",
   "execution_count": 72,
   "id": "09d838f6",
   "metadata": {},
   "outputs": [
    {
     "name": "stdout",
     "output_type": "stream",
     "text": [
      "loading data for year= 2005...\n",
      "loading data for year= 2006...\n",
      "loading data for year= 2007...\n",
      "loading data for year= 2008...\n",
      "loading data for year= 2009...\n",
      "loading data for year= 2010...\n",
      "loading data for year= 2011...\n",
      "loading data for year= 2012...\n",
      "loading data for year= 2013...\n",
      "loading data for year= 2014...\n",
      "loading data for year= 2015...\n",
      "loading data for year= 2016...\n",
      "loading data for year= 2017...\n",
      "loading data for year= 2018...\n",
      "loading data for year= 2019...\n"
     ]
    }
   ],
   "source": [
    "all_rental_data=[]\n",
    "start_year=2005\n",
    "stop_year=2019\n",
    "for year in range(start_year, stop_year+ 1):\n",
    "    print(f\"loading data for year= {year}...\")"
   ]
  },
  {
   "cell_type": "code",
   "execution_count": 74,
   "id": "9be8a37e",
   "metadata": {},
   "outputs": [
    {
     "name": "stdout",
     "output_type": "stream",
     "text": [
      "Loading data for year = 2005...\n",
      "Loading data for year = 2006...\n",
      "Loading data for year = 2007...\n",
      "Loading data for year = 2008...\n",
      "Loading data for year = 2009...\n",
      "Loading data for year = 2010...\n",
      "Loading data for year = 2011...\n",
      "Loading data for year = 2012...\n",
      "Loading data for year = 2013...\n",
      "Loading data for year = 2014...\n",
      "Loading data for year = 2015...\n",
      "Loading data for year = 2016...\n",
      "Loading data for year = 2017...\n",
      "Loading data for year = 2018...\n",
      "Loading data for year = 2019...\n"
     ]
    }
   ],
   "source": [
    "all_rental_data = []\n",
    "start_year = 2005\n",
    "stop_year = 2019\n",
    "for year in range(start_year, stop_year + 1):\n",
    "    \n",
    "    #---------------------------------------------\n",
    "    # Step 0: Print out year \n",
    "    # The variable year changes for each iteration of the loop\n",
    "    #----------------------------------------------\n",
    "    print(f\"Loading data for year = {year}...\")\n",
    "    \n",
    "    #---------------------------------\n",
    "    # Step 1: Read data for this year\n",
    "    #---------------------------------\n",
    "    year_str = str(year) # convert integer value of \"year\" to a string\n",
    "    year_str = year_str[2:] # extract the last two digits of the year string\n",
    "    rental_df = pd.read_csv(f\"C:\\data\\census\\ACS_{year_str}_1YR_B25003.csv\")\n",
    "     \n",
    "    #---------------------------------\n",
    "    # Step 2: Columns we want\n",
    "    #---------------------------------\n",
    "    columns = ['GEO.display-label', 'HD01_VD01', 'HD01_VD03']\n",
    "    rental_df = rental_df[columns]\n",
    "\n",
    "    #---------------------------------\n",
    "    # Step 3: Rename columns\n",
    "    #---------------------------------\n",
    "    rental_df.columns = ['City', 'Total', 'Rentals']\n",
    "    \n",
    "    #----------------------------------\n",
    "    # Step 4: Calculate the rental rate\n",
    "    #----------------------------------\n",
    "    rental_df['Rental Rate'] = rental_df['Rentals'] / rental_df['Total'] * 100\n",
    "    \n",
    "    #----------------------------------\n",
    "    # Step 5: Select the cities we want\n",
    "    #----------------------------------\n",
    "    selection = rental_df['City'].isin(top_cities_list)\n",
    "    top_cities_df = rental_df.loc[selection].copy()\n",
    "    \n",
    "    #----------------------------------\n",
    "    # Step 6: Add a column for the year\n",
    "    #----------------------------------\n",
    "    top_cities_df['Year'] = year\n",
    "    \n",
    "    #-----------------------------------\n",
    "    # Step 7: Save this dataframe in the list\n",
    "    #-----------------------------------\n",
    "    all_rental_data.append(top_cities_df)\n",
    "\n",
    "#---------------------------------------------------\n",
    "# Step 8: After the for loop, combine all of the \n",
    "# data frames into one along the row axis\n",
    "#---------------------------------------------------\n",
    "all_rental_data = pd.concat(all_rental_data, axis=0)"
   ]
  },
  {
   "cell_type": "code",
   "execution_count": 75,
   "id": "71381417",
   "metadata": {},
   "outputs": [
    {
     "data": {
      "text/plain": [
       "pandas.core.frame.DataFrame"
      ]
     },
     "execution_count": 75,
     "metadata": {},
     "output_type": "execute_result"
    }
   ],
   "source": [
    "type(all_rental_data)"
   ]
  },
  {
   "cell_type": "code",
   "execution_count": 76,
   "id": "3d1e5e52",
   "metadata": {},
   "outputs": [
    {
     "data": {
      "text/html": [
       "<div>\n",
       "<style scoped>\n",
       "    .dataframe tbody tr th:only-of-type {\n",
       "        vertical-align: middle;\n",
       "    }\n",
       "\n",
       "    .dataframe tbody tr th {\n",
       "        vertical-align: top;\n",
       "    }\n",
       "\n",
       "    .dataframe thead th {\n",
       "        text-align: right;\n",
       "    }\n",
       "</style>\n",
       "<table border=\"1\" class=\"dataframe\">\n",
       "  <thead>\n",
       "    <tr style=\"text-align: right;\">\n",
       "      <th></th>\n",
       "      <th>City</th>\n",
       "      <th>Total</th>\n",
       "      <th>Rentals</th>\n",
       "      <th>Rental Rate</th>\n",
       "      <th>Year</th>\n",
       "    </tr>\n",
       "  </thead>\n",
       "  <tbody>\n",
       "    <tr>\n",
       "      <th>13</th>\n",
       "      <td>Phoenix city, Arizona</td>\n",
       "      <td>503753</td>\n",
       "      <td>204914</td>\n",
       "      <td>40.677475</td>\n",
       "      <td>2005</td>\n",
       "    </tr>\n",
       "    <tr>\n",
       "      <th>75</th>\n",
       "      <td>Los Angeles city, California</td>\n",
       "      <td>1284124</td>\n",
       "      <td>771325</td>\n",
       "      <td>60.066240</td>\n",
       "      <td>2005</td>\n",
       "    </tr>\n",
       "    <tr>\n",
       "      <th>218</th>\n",
       "      <td>Chicago city, Illinois</td>\n",
       "      <td>1020605</td>\n",
       "      <td>525620</td>\n",
       "      <td>51.500825</td>\n",
       "      <td>2005</td>\n",
       "    </tr>\n",
       "    <tr>\n",
       "      <th>349</th>\n",
       "      <td>New York city, New York</td>\n",
       "      <td>3026196</td>\n",
       "      <td>2023924</td>\n",
       "      <td>66.880136</td>\n",
       "      <td>2005</td>\n",
       "    </tr>\n",
       "    <tr>\n",
       "      <th>393</th>\n",
       "      <td>Philadelphia city, Pennsylvania</td>\n",
       "      <td>565433</td>\n",
       "      <td>244792</td>\n",
       "      <td>43.292839</td>\n",
       "      <td>2005</td>\n",
       "    </tr>\n",
       "  </tbody>\n",
       "</table>\n",
       "</div>"
      ],
      "text/plain": [
       "                                City    Total  Rentals  Rental Rate  Year\n",
       "13             Phoenix city, Arizona   503753   204914    40.677475  2005\n",
       "75      Los Angeles city, California  1284124   771325    60.066240  2005\n",
       "218           Chicago city, Illinois  1020605   525620    51.500825  2005\n",
       "349          New York city, New York  3026196  2023924    66.880136  2005\n",
       "393  Philadelphia city, Pennsylvania   565433   244792    43.292839  2005"
      ]
     },
     "execution_count": 76,
     "metadata": {},
     "output_type": "execute_result"
    }
   ],
   "source": [
    "all_rental_data.head()"
   ]
  },
  {
   "cell_type": "code",
   "execution_count": 77,
   "id": "0dff7472",
   "metadata": {},
   "outputs": [
    {
     "data": {
      "text/html": [
       "<div>\n",
       "<style scoped>\n",
       "    .dataframe tbody tr th:only-of-type {\n",
       "        vertical-align: middle;\n",
       "    }\n",
       "\n",
       "    .dataframe tbody tr th {\n",
       "        vertical-align: top;\n",
       "    }\n",
       "\n",
       "    .dataframe thead th {\n",
       "        text-align: right;\n",
       "    }\n",
       "</style>\n",
       "<table border=\"1\" class=\"dataframe\">\n",
       "  <thead>\n",
       "    <tr style=\"text-align: right;\">\n",
       "      <th></th>\n",
       "      <th>City</th>\n",
       "      <th>Total</th>\n",
       "      <th>Rentals</th>\n",
       "      <th>Rental Rate</th>\n",
       "      <th>Year</th>\n",
       "    </tr>\n",
       "  </thead>\n",
       "  <tbody>\n",
       "    <tr>\n",
       "      <th>94</th>\n",
       "      <td>Los Angeles city, California</td>\n",
       "      <td>1398900</td>\n",
       "      <td>887785</td>\n",
       "      <td>63.463078</td>\n",
       "      <td>2019</td>\n",
       "    </tr>\n",
       "    <tr>\n",
       "      <th>284</th>\n",
       "      <td>Chicago city, Illinois</td>\n",
       "      <td>1080345</td>\n",
       "      <td>603352</td>\n",
       "      <td>55.848086</td>\n",
       "      <td>2019</td>\n",
       "    </tr>\n",
       "    <tr>\n",
       "      <th>439</th>\n",
       "      <td>New York city, New York</td>\n",
       "      <td>3211033</td>\n",
       "      <td>2188214</td>\n",
       "      <td>68.146730</td>\n",
       "      <td>2019</td>\n",
       "    </tr>\n",
       "    <tr>\n",
       "      <th>487</th>\n",
       "      <td>Philadelphia city, Pennsylvania</td>\n",
       "      <td>619505</td>\n",
       "      <td>295783</td>\n",
       "      <td>47.745055</td>\n",
       "      <td>2019</td>\n",
       "    </tr>\n",
       "    <tr>\n",
       "      <th>538</th>\n",
       "      <td>Houston city, Texas</td>\n",
       "      <td>876504</td>\n",
       "      <td>522942</td>\n",
       "      <td>59.662249</td>\n",
       "      <td>2019</td>\n",
       "    </tr>\n",
       "  </tbody>\n",
       "</table>\n",
       "</div>"
      ],
      "text/plain": [
       "                                City    Total  Rentals  Rental Rate  Year\n",
       "94      Los Angeles city, California  1398900   887785    63.463078  2019\n",
       "284           Chicago city, Illinois  1080345   603352    55.848086  2019\n",
       "439          New York city, New York  3211033  2188214    68.146730  2019\n",
       "487  Philadelphia city, Pennsylvania   619505   295783    47.745055  2019\n",
       "538              Houston city, Texas   876504   522942    59.662249  2019"
      ]
     },
     "execution_count": 77,
     "metadata": {},
     "output_type": "execute_result"
    }
   ],
   "source": [
    "all_rental_data.tail()"
   ]
  },
  {
   "cell_type": "code",
   "execution_count": 78,
   "id": "ce301dd6",
   "metadata": {},
   "outputs": [
    {
     "data": {
      "text/plain": [
       "90"
      ]
     },
     "execution_count": 78,
     "metadata": {},
     "output_type": "execute_result"
    }
   ],
   "source": [
    "len(all_rental_data)"
   ]
  },
  {
   "cell_type": "code",
   "execution_count": 79,
   "id": "23ab683f",
   "metadata": {},
   "outputs": [],
   "source": [
    "from matplotlib import pyplot as plt"
   ]
  },
  {
   "cell_type": "code",
   "execution_count": 80,
   "id": "c2d2e3e9",
   "metadata": {},
   "outputs": [
    {
     "data": {
      "text/plain": [
       "array(['Phoenix city, Arizona', 'Los Angeles city, California',\n",
       "       'Chicago city, Illinois', 'New York city, New York',\n",
       "       'Philadelphia city, Pennsylvania', 'Houston city, Texas'],\n",
       "      dtype=object)"
      ]
     },
     "execution_count": 80,
     "metadata": {},
     "output_type": "execute_result"
    }
   ],
   "source": [
    "all_rental_data['City'].unique()"
   ]
  },
  {
   "cell_type": "code",
   "execution_count": 93,
   "id": "6e831033",
   "metadata": {},
   "outputs": [
    {
     "name": "stdout",
     "output_type": "stream",
     "text": [
      "Phoenix city, Arizona\n",
      "Los Angeles city, California\n",
      "Chicago city, Illinois\n",
      "New York city, New York\n",
      "Philadelphia city, Pennsylvania\n",
      "Houston city, Texas\n"
     ]
    },
    {
     "data": {
      "image/png": "[encoded data removed]",
      "text/plain": [
       "<Figure size 1000x600 with 1 Axes>"
      ]
     },
     "metadata": {},
     "output_type": "display_data"
    }
   ],
   "source": [
    "with plt.style.context('ggplot'):\n",
    "    fig,ax =plt.subplots(figsize=(10,6))\n",
    "    for city in all_rental_data['City'].unique():\n",
    "        print(city)\n",
    "        this_city=all_rental_data['City']==city\n",
    "        city_df=all_rental_data.loc[this_city]\n",
    "        ax.plot(city_df['Year'],city_df['Rental Rate'],label=city, linewidth=4)\n",
    "    ax.legend(loc=0, ncol=3, fontsize=9)\n",
    "    ax.set_ylim(30,72)\n",
    "    ax.set_ylabel(\"Rental Rate in Percentage\")\n",
    "    plt.show()"
   ]
  },
  {
   "cell_type": "code",
   "execution_count": 94,
   "id": "29c516d6",
   "metadata": {},
   "outputs": [
    {
     "data": {
      "text/plain": [
       "13     False\n",
       "75     False\n",
       "218    False\n",
       "349    False\n",
       "393     True\n",
       "       ...  \n",
       "94     False\n",
       "284    False\n",
       "439    False\n",
       "487     True\n",
       "538    False\n",
       "Name: City, Length: 90, dtype: bool"
      ]
     },
     "execution_count": 94,
     "metadata": {},
     "output_type": "execute_result"
    }
   ],
   "source": [
    "all_rental_data[\"City\"] == \"Philadelphia city, Pennsylvania\""
   ]
  },
  {
   "cell_type": "code",
   "execution_count": 95,
   "id": "9a892a56",
   "metadata": {},
   "outputs": [
    {
     "data": {
      "text/html": [
       "<div>\n",
       "<style scoped>\n",
       "    .dataframe tbody tr th:only-of-type {\n",
       "        vertical-align: middle;\n",
       "    }\n",
       "\n",
       "    .dataframe tbody tr th {\n",
       "        vertical-align: top;\n",
       "    }\n",
       "\n",
       "    .dataframe thead th {\n",
       "        text-align: right;\n",
       "    }\n",
       "</style>\n",
       "<table border=\"1\" class=\"dataframe\">\n",
       "  <thead>\n",
       "    <tr style=\"text-align: right;\">\n",
       "      <th></th>\n",
       "      <th>City</th>\n",
       "      <th>Total</th>\n",
       "      <th>Rentals</th>\n",
       "      <th>Rental Rate</th>\n",
       "      <th>Year</th>\n",
       "    </tr>\n",
       "  </thead>\n",
       "  <tbody>\n",
       "    <tr>\n",
       "      <th>393</th>\n",
       "      <td>Philadelphia city, Pennsylvania</td>\n",
       "      <td>565433</td>\n",
       "      <td>244792</td>\n",
       "      <td>43.292839</td>\n",
       "      <td>2005</td>\n",
       "    </tr>\n",
       "    <tr>\n",
       "      <th>400</th>\n",
       "      <td>Philadelphia city, Pennsylvania</td>\n",
       "      <td>554048</td>\n",
       "      <td>231323</td>\n",
       "      <td>41.751437</td>\n",
       "      <td>2006</td>\n",
       "    </tr>\n",
       "    <tr>\n",
       "      <th>408</th>\n",
       "      <td>Philadelphia city, Pennsylvania</td>\n",
       "      <td>562384</td>\n",
       "      <td>239363</td>\n",
       "      <td>42.562199</td>\n",
       "      <td>2007</td>\n",
       "    </tr>\n",
       "    <tr>\n",
       "      <th>415</th>\n",
       "      <td>Philadelphia city, Pennsylvania</td>\n",
       "      <td>578263</td>\n",
       "      <td>253084</td>\n",
       "      <td>43.766245</td>\n",
       "      <td>2008</td>\n",
       "    </tr>\n",
       "    <tr>\n",
       "      <th>419</th>\n",
       "      <td>Philadelphia city, Pennsylvania</td>\n",
       "      <td>569835</td>\n",
       "      <td>258459</td>\n",
       "      <td>45.356814</td>\n",
       "      <td>2009</td>\n",
       "    </tr>\n",
       "    <tr>\n",
       "      <th>427</th>\n",
       "      <td>Philadelphia city, Pennsylvania</td>\n",
       "      <td>575413</td>\n",
       "      <td>264129</td>\n",
       "      <td>45.902508</td>\n",
       "      <td>2010</td>\n",
       "    </tr>\n",
       "    <tr>\n",
       "      <th>434</th>\n",
       "      <td>Philadelphia city, Pennsylvania</td>\n",
       "      <td>576429</td>\n",
       "      <td>265126</td>\n",
       "      <td>45.994563</td>\n",
       "      <td>2011</td>\n",
       "    </tr>\n",
       "    <tr>\n",
       "      <th>437</th>\n",
       "      <td>Philadelphia city, Pennsylvania</td>\n",
       "      <td>579874</td>\n",
       "      <td>277323</td>\n",
       "      <td>47.824700</td>\n",
       "      <td>2012</td>\n",
       "    </tr>\n",
       "    <tr>\n",
       "      <th>449</th>\n",
       "      <td>Philadelphia city, Pennsylvania</td>\n",
       "      <td>582528</td>\n",
       "      <td>285430</td>\n",
       "      <td>48.998503</td>\n",
       "      <td>2013</td>\n",
       "    </tr>\n",
       "    <tr>\n",
       "      <th>454</th>\n",
       "      <td>Philadelphia city, Pennsylvania</td>\n",
       "      <td>577862</td>\n",
       "      <td>277301</td>\n",
       "      <td>47.987409</td>\n",
       "      <td>2014</td>\n",
       "    </tr>\n",
       "    <tr>\n",
       "      <th>458</th>\n",
       "      <td>Philadelphia city, Pennsylvania</td>\n",
       "      <td>581604</td>\n",
       "      <td>275397</td>\n",
       "      <td>47.351291</td>\n",
       "      <td>2015</td>\n",
       "    </tr>\n",
       "    <tr>\n",
       "      <th>465</th>\n",
       "      <td>Philadelphia city, Pennsylvania</td>\n",
       "      <td>580205</td>\n",
       "      <td>277707</td>\n",
       "      <td>47.863600</td>\n",
       "      <td>2016</td>\n",
       "    </tr>\n",
       "    <tr>\n",
       "      <th>474</th>\n",
       "      <td>Philadelphia city, Pennsylvania</td>\n",
       "      <td>606142</td>\n",
       "      <td>309279</td>\n",
       "      <td>51.024182</td>\n",
       "      <td>2017</td>\n",
       "    </tr>\n",
       "    <tr>\n",
       "      <th>486</th>\n",
       "      <td>Philadelphia city, Pennsylvania</td>\n",
       "      <td>608233</td>\n",
       "      <td>287543</td>\n",
       "      <td>47.275140</td>\n",
       "      <td>2018</td>\n",
       "    </tr>\n",
       "    <tr>\n",
       "      <th>487</th>\n",
       "      <td>Philadelphia city, Pennsylvania</td>\n",
       "      <td>619505</td>\n",
       "      <td>295783</td>\n",
       "      <td>47.745055</td>\n",
       "      <td>2019</td>\n",
       "    </tr>\n",
       "  </tbody>\n",
       "</table>\n",
       "</div>"
      ],
      "text/plain": [
       "                                City   Total  Rentals  Rental Rate  Year\n",
       "393  Philadelphia city, Pennsylvania  565433   244792    43.292839  2005\n",
       "400  Philadelphia city, Pennsylvania  554048   231323    41.751437  2006\n",
       "408  Philadelphia city, Pennsylvania  562384   239363    42.562199  2007\n",
       "415  Philadelphia city, Pennsylvania  578263   253084    43.766245  2008\n",
       "419  Philadelphia city, Pennsylvania  569835   258459    45.356814  2009\n",
       "427  Philadelphia city, Pennsylvania  575413   264129    45.902508  2010\n",
       "434  Philadelphia city, Pennsylvania  576429   265126    45.994563  2011\n",
       "437  Philadelphia city, Pennsylvania  579874   277323    47.824700  2012\n",
       "449  Philadelphia city, Pennsylvania  582528   285430    48.998503  2013\n",
       "454  Philadelphia city, Pennsylvania  577862   277301    47.987409  2014\n",
       "458  Philadelphia city, Pennsylvania  581604   275397    47.351291  2015\n",
       "465  Philadelphia city, Pennsylvania  580205   277707    47.863600  2016\n",
       "474  Philadelphia city, Pennsylvania  606142   309279    51.024182  2017\n",
       "486  Philadelphia city, Pennsylvania  608233   287543    47.275140  2018\n",
       "487  Philadelphia city, Pennsylvania  619505   295783    47.745055  2019"
      ]
     },
     "execution_count": 95,
     "metadata": {},
     "output_type": "execute_result"
    }
   ],
   "source": [
    "philly = all_rental_data.loc[\n",
    "    all_rental_data[\"City\"] == \"Philadelphia city, Pennsylvania\"\n",
    "]\n",
    "\n",
    "philly"
   ]
  },
  {
   "cell_type": "code",
   "execution_count": 96,
   "id": "3a7c9e60",
   "metadata": {},
   "outputs": [
    {
     "data": {
      "text/plain": [
       "City           Philadelphia city, Pennsylvania\n",
       "Total                                   565433\n",
       "Rentals                                 244792\n",
       "Rental Rate                          43.292839\n",
       "Year                                      2005\n",
       "Name: 393, dtype: object"
      ]
     },
     "execution_count": 96,
     "metadata": {},
     "output_type": "execute_result"
    }
   ],
   "source": [
    "philly.loc[393]"
   ]
  },
  {
   "cell_type": "code",
   "execution_count": 97,
   "id": "a05b9da8",
   "metadata": {},
   "outputs": [
    {
     "data": {
      "text/plain": [
       "City           Philadelphia city, Pennsylvania\n",
       "Total                                   562384\n",
       "Rentals                                 239363\n",
       "Rental Rate                          42.562199\n",
       "Year                                      2007\n",
       "Name: 408, dtype: object"
      ]
     },
     "execution_count": 97,
     "metadata": {},
     "output_type": "execute_result"
    }
   ],
   "source": [
    "philly.iloc[2]"
   ]
  },
  {
   "cell_type": "code",
   "execution_count": 98,
   "id": "681602bb",
   "metadata": {},
   "outputs": [
    {
     "data": {
      "text/plain": [
       "City           Philadelphia city, Pennsylvania\n",
       "Total                                   565433\n",
       "Rentals                                 244792\n",
       "Rental Rate                          43.292839\n",
       "Year                                      2005\n",
       "Name: 393, dtype: object"
      ]
     },
     "execution_count": 98,
     "metadata": {},
     "output_type": "execute_result"
    }
   ],
   "source": [
    "all_rental_data.loc[393]"
   ]
  },
  {
   "cell_type": "code",
   "execution_count": 99,
   "id": "e532bce6",
   "metadata": {},
   "outputs": [
    {
     "data": {
      "text/html": [
       "<div>\n",
       "<style scoped>\n",
       "    .dataframe tbody tr th:only-of-type {\n",
       "        vertical-align: middle;\n",
       "    }\n",
       "\n",
       "    .dataframe tbody tr th {\n",
       "        vertical-align: top;\n",
       "    }\n",
       "\n",
       "    .dataframe thead th {\n",
       "        text-align: right;\n",
       "    }\n",
       "</style>\n",
       "<table border=\"1\" class=\"dataframe\">\n",
       "  <thead>\n",
       "    <tr style=\"text-align: right;\">\n",
       "      <th></th>\n",
       "      <th>City</th>\n",
       "      <th>Total</th>\n",
       "      <th>Rentals</th>\n",
       "      <th>Rental Rate</th>\n",
       "      <th>Year</th>\n",
       "    </tr>\n",
       "  </thead>\n",
       "  <tbody>\n",
       "    <tr>\n",
       "      <th>0</th>\n",
       "      <td>Philadelphia city, Pennsylvania</td>\n",
       "      <td>565433</td>\n",
       "      <td>244792</td>\n",
       "      <td>43.292839</td>\n",
       "      <td>2005</td>\n",
       "    </tr>\n",
       "    <tr>\n",
       "      <th>1</th>\n",
       "      <td>Philadelphia city, Pennsylvania</td>\n",
       "      <td>554048</td>\n",
       "      <td>231323</td>\n",
       "      <td>41.751437</td>\n",
       "      <td>2006</td>\n",
       "    </tr>\n",
       "    <tr>\n",
       "      <th>2</th>\n",
       "      <td>Philadelphia city, Pennsylvania</td>\n",
       "      <td>562384</td>\n",
       "      <td>239363</td>\n",
       "      <td>42.562199</td>\n",
       "      <td>2007</td>\n",
       "    </tr>\n",
       "    <tr>\n",
       "      <th>3</th>\n",
       "      <td>Philadelphia city, Pennsylvania</td>\n",
       "      <td>578263</td>\n",
       "      <td>253084</td>\n",
       "      <td>43.766245</td>\n",
       "      <td>2008</td>\n",
       "    </tr>\n",
       "    <tr>\n",
       "      <th>4</th>\n",
       "      <td>Philadelphia city, Pennsylvania</td>\n",
       "      <td>569835</td>\n",
       "      <td>258459</td>\n",
       "      <td>45.356814</td>\n",
       "      <td>2009</td>\n",
       "    </tr>\n",
       "    <tr>\n",
       "      <th>5</th>\n",
       "      <td>Philadelphia city, Pennsylvania</td>\n",
       "      <td>575413</td>\n",
       "      <td>264129</td>\n",
       "      <td>45.902508</td>\n",
       "      <td>2010</td>\n",
       "    </tr>\n",
       "    <tr>\n",
       "      <th>6</th>\n",
       "      <td>Philadelphia city, Pennsylvania</td>\n",
       "      <td>576429</td>\n",
       "      <td>265126</td>\n",
       "      <td>45.994563</td>\n",
       "      <td>2011</td>\n",
       "    </tr>\n",
       "    <tr>\n",
       "      <th>7</th>\n",
       "      <td>Philadelphia city, Pennsylvania</td>\n",
       "      <td>579874</td>\n",
       "      <td>277323</td>\n",
       "      <td>47.824700</td>\n",
       "      <td>2012</td>\n",
       "    </tr>\n",
       "    <tr>\n",
       "      <th>8</th>\n",
       "      <td>Philadelphia city, Pennsylvania</td>\n",
       "      <td>582528</td>\n",
       "      <td>285430</td>\n",
       "      <td>48.998503</td>\n",
       "      <td>2013</td>\n",
       "    </tr>\n",
       "    <tr>\n",
       "      <th>9</th>\n",
       "      <td>Philadelphia city, Pennsylvania</td>\n",
       "      <td>577862</td>\n",
       "      <td>277301</td>\n",
       "      <td>47.987409</td>\n",
       "      <td>2014</td>\n",
       "    </tr>\n",
       "    <tr>\n",
       "      <th>10</th>\n",
       "      <td>Philadelphia city, Pennsylvania</td>\n",
       "      <td>581604</td>\n",
       "      <td>275397</td>\n",
       "      <td>47.351291</td>\n",
       "      <td>2015</td>\n",
       "    </tr>\n",
       "    <tr>\n",
       "      <th>11</th>\n",
       "      <td>Philadelphia city, Pennsylvania</td>\n",
       "      <td>580205</td>\n",
       "      <td>277707</td>\n",
       "      <td>47.863600</td>\n",
       "      <td>2016</td>\n",
       "    </tr>\n",
       "    <tr>\n",
       "      <th>12</th>\n",
       "      <td>Philadelphia city, Pennsylvania</td>\n",
       "      <td>606142</td>\n",
       "      <td>309279</td>\n",
       "      <td>51.024182</td>\n",
       "      <td>2017</td>\n",
       "    </tr>\n",
       "    <tr>\n",
       "      <th>13</th>\n",
       "      <td>Philadelphia city, Pennsylvania</td>\n",
       "      <td>608233</td>\n",
       "      <td>287543</td>\n",
       "      <td>47.275140</td>\n",
       "      <td>2018</td>\n",
       "    </tr>\n",
       "    <tr>\n",
       "      <th>14</th>\n",
       "      <td>Philadelphia city, Pennsylvania</td>\n",
       "      <td>619505</td>\n",
       "      <td>295783</td>\n",
       "      <td>47.745055</td>\n",
       "      <td>2019</td>\n",
       "    </tr>\n",
       "  </tbody>\n",
       "</table>\n",
       "</div>"
      ],
      "text/plain": [
       "                               City   Total  Rentals  Rental Rate  Year\n",
       "0   Philadelphia city, Pennsylvania  565433   244792    43.292839  2005\n",
       "1   Philadelphia city, Pennsylvania  554048   231323    41.751437  2006\n",
       "2   Philadelphia city, Pennsylvania  562384   239363    42.562199  2007\n",
       "3   Philadelphia city, Pennsylvania  578263   253084    43.766245  2008\n",
       "4   Philadelphia city, Pennsylvania  569835   258459    45.356814  2009\n",
       "5   Philadelphia city, Pennsylvania  575413   264129    45.902508  2010\n",
       "6   Philadelphia city, Pennsylvania  576429   265126    45.994563  2011\n",
       "7   Philadelphia city, Pennsylvania  579874   277323    47.824700  2012\n",
       "8   Philadelphia city, Pennsylvania  582528   285430    48.998503  2013\n",
       "9   Philadelphia city, Pennsylvania  577862   277301    47.987409  2014\n",
       "10  Philadelphia city, Pennsylvania  581604   275397    47.351291  2015\n",
       "11  Philadelphia city, Pennsylvania  580205   277707    47.863600  2016\n",
       "12  Philadelphia city, Pennsylvania  606142   309279    51.024182  2017\n",
       "13  Philadelphia city, Pennsylvania  608233   287543    47.275140  2018\n",
       "14  Philadelphia city, Pennsylvania  619505   295783    47.745055  2019"
      ]
     },
     "execution_count": 99,
     "metadata": {},
     "output_type": "execute_result"
    }
   ],
   "source": [
    "philly.reset_index(drop=True)"
   ]
  },
  {
   "cell_type": "code",
   "execution_count": 100,
   "id": "6ce48ac3",
   "metadata": {},
   "outputs": [
    {
     "data": {
      "text/html": [
       "<div>\n",
       "<style scoped>\n",
       "    .dataframe tbody tr th:only-of-type {\n",
       "        vertical-align: middle;\n",
       "    }\n",
       "\n",
       "    .dataframe tbody tr th {\n",
       "        vertical-align: top;\n",
       "    }\n",
       "\n",
       "    .dataframe thead th {\n",
       "        text-align: right;\n",
       "    }\n",
       "</style>\n",
       "<table border=\"1\" class=\"dataframe\">\n",
       "  <thead>\n",
       "    <tr style=\"text-align: right;\">\n",
       "      <th></th>\n",
       "      <th>City</th>\n",
       "      <th>Total</th>\n",
       "      <th>Rentals</th>\n",
       "      <th>Rental Rate</th>\n",
       "      <th>Year</th>\n",
       "    </tr>\n",
       "  </thead>\n",
       "  <tbody>\n",
       "    <tr>\n",
       "      <th>393</th>\n",
       "      <td>Philadelphia city, Pennsylvania</td>\n",
       "      <td>565433</td>\n",
       "      <td>244792</td>\n",
       "      <td>43.292839</td>\n",
       "      <td>2005</td>\n",
       "    </tr>\n",
       "  </tbody>\n",
       "</table>\n",
       "</div>"
      ],
      "text/plain": [
       "                                City   Total  Rentals  Rental Rate  Year\n",
       "393  Philadelphia city, Pennsylvania  565433   244792    43.292839  2005"
      ]
     },
     "execution_count": 100,
     "metadata": {},
     "output_type": "execute_result"
    }
   ],
   "source": [
    "philly_2005 = philly.loc[philly['Year']==2005]\n",
    "\n",
    "\n",
    "philly_2005"
   ]
  },
  {
   "cell_type": "code",
   "execution_count": 101,
   "id": "320b62c7",
   "metadata": {},
   "outputs": [
    {
     "data": {
      "text/plain": [
       "393    43.292839\n",
       "Name: Rental Rate, dtype: float64"
      ]
     },
     "execution_count": 101,
     "metadata": {},
     "output_type": "execute_result"
    }
   ],
   "source": [
    "philly_2005[\"Rental Rate\"]"
   ]
  },
  {
   "cell_type": "code",
   "execution_count": 102,
   "id": "f64a643a",
   "metadata": {},
   "outputs": [
    {
     "data": {
      "text/plain": [
       "43.292839293072745"
      ]
     },
     "execution_count": 102,
     "metadata": {},
     "output_type": "execute_result"
    }
   ],
   "source": [
    "philly_2005['Rental Rate'].iloc[0]"
   ]
  },
  {
   "cell_type": "code",
   "execution_count": 103,
   "id": "69db504e",
   "metadata": {},
   "outputs": [
    {
     "data": {
      "text/plain": [
       "1"
      ]
     },
     "execution_count": 103,
     "metadata": {},
     "output_type": "execute_result"
    }
   ],
   "source": [
    "len(philly_2005[\"Rental Rate\"])"
   ]
  },
  {
   "cell_type": "code",
   "execution_count": 104,
   "id": "69560d6f",
   "metadata": {},
   "outputs": [],
   "source": [
    "philly_2019 = philly.loc[philly['Year']==2019].squeeze()\n",
    "value_2019=philly_2019['Rental Rate']\n"
   ]
  },
  {
   "cell_type": "code",
   "execution_count": 105,
   "id": "49554343",
   "metadata": {},
   "outputs": [
    {
     "name": "stdout",
     "output_type": "stream",
     "text": [
      "47.74505451933398\n"
     ]
    }
   ],
   "source": [
    "print(value_2019)"
   ]
  },
  {
   "cell_type": "code",
   "execution_count": 112,
   "id": "82719685",
   "metadata": {},
   "outputs": [
    {
     "data": {
      "text/plain": [
       "43.292839293072745"
      ]
     },
     "execution_count": 112,
     "metadata": {},
     "output_type": "execute_result"
    }
   ],
   "source": [
    "philly_2005= philly.loc[philly['Year']==2005].squeeze()\n",
    "value_2005 = philly_2005[\"Rental Rate\"]\n",
    "value_2005"
   ]
  },
  {
   "cell_type": "code",
   "execution_count": 113,
   "id": "16dd1fbc",
   "metadata": {},
   "outputs": [],
   "source": [
    "percent_change= (value_2019-value_2005)/value_2005*100"
   ]
  },
  {
   "cell_type": "code",
   "execution_count": 114,
   "id": "db8362b2",
   "metadata": {},
   "outputs": [
    {
     "name": "stdout",
     "output_type": "stream",
     "text": [
      "change in rental rate in Philadelphia from 2005 to 2019= 10.283952956103837\n"
     ]
    }
   ],
   "source": [
    "print(f\"change in rental rate in Philadelphia from 2005 to 2019= {percent_change}\")"
   ]
  },
  {
   "cell_type": "code",
   "execution_count": null,
   "id": "43ef7666",
   "metadata": {},
   "outputs": [],
   "source": []
  }
 ],
 "metadata": {
  "kernelspec": {
   "display_name": "Python 3 (ipykernel)",
   "language": "python",
   "name": "python3"
  },
  "language_info": {
   "codemirror_mode": {
    "name": "ipython",
    "version": 3
   },
   "file_extension": ".py",
   "mimetype": "text/x-python",
   "name": "python",
   "nbconvert_exporter": "python",
   "pygments_lexer": "ipython3",
   "version": "3.10.6"
  }
 },
 "nbformat": 4,
 "nbformat_minor": 5
}
