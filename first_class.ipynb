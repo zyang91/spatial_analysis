{
 "cells": [
  {
   "attachments": {},
   "cell_type": "markdown",
   "id": "0",
   "metadata": {},
   "source": [
    "[![lite-badge](https://jupyterlite.rtfd.io/en/latest/_static/badge.svg)](https://jupyter.org/try-jupyter)\n",
    "[![Open In Colab](https://colab.research.google.com/assets/colab-badge.svg)](https://colab.research.google.com/github/zyang91/spatial_analysis/blob/main/first_class.ipynb#scrollTo=4c43e7f5)"
   ]
  },
  {
   "cell_type": "code",
   "execution_count": null,
   "id": "1",
   "metadata": {},
   "outputs": [],
   "source": [
    "import pandas as pd"
   ]
  },
  {
   "cell_type": "code",
   "execution_count": null,
   "id": "2",
   "metadata": {},
   "outputs": [],
   "source": [
    "city_names = pd.Series([\"San Francisco\", \"San Jose\", \"Binghamton\"])"
   ]
  },
  {
   "cell_type": "code",
   "execution_count": null,
   "id": "3",
   "metadata": {},
   "outputs": [],
   "source": [
    "population = pd.Series([850000, 1010085, 487900])"
   ]
  },
  {
   "cell_type": "code",
   "execution_count": null,
   "id": "4",
   "metadata": {},
   "outputs": [],
   "source": [
    "city_names"
   ]
  },
  {
   "cell_type": "code",
   "execution_count": null,
   "id": "5",
   "metadata": {},
   "outputs": [],
   "source": [
    "cities_df = pd.DataFrame({\"City Name\": city_names, \"population\": population})"
   ]
  },
  {
   "cell_type": "code",
   "execution_count": null,
   "id": "6",
   "metadata": {},
   "outputs": [],
   "source": [
    "cities_df"
   ]
  },
  {
   "cell_type": "code",
   "execution_count": null,
   "id": "7",
   "metadata": {},
   "outputs": [],
   "source": [
    "cities_df[\"City Name\"]"
   ]
  },
  {
   "cell_type": "code",
   "execution_count": null,
   "id": "8",
   "metadata": {},
   "outputs": [],
   "source": [
    "cities_df[\"population\"]"
   ]
  },
  {
   "cell_type": "code",
   "execution_count": null,
   "id": "9",
   "metadata": {},
   "outputs": [],
   "source": [
    "cities_list = [\"San Francisco\", \"San Jose\", \"Binghamton\"]"
   ]
  },
  {
   "cell_type": "code",
   "execution_count": null,
   "id": "10",
   "metadata": {},
   "outputs": [],
   "source": [
    "cities_list[:2]"
   ]
  },
  {
   "cell_type": "code",
   "execution_count": null,
   "id": "11",
   "metadata": {},
   "outputs": [],
   "source": [
    "cities_df"
   ]
  },
  {
   "cell_type": "code",
   "execution_count": null,
   "id": "12",
   "metadata": {},
   "outputs": [],
   "source": [
    "cities_df[:2]"
   ]
  },
  {
   "cell_type": "code",
   "execution_count": null,
   "id": "13",
   "metadata": {},
   "outputs": [],
   "source": [
    "cities_df[:1]"
   ]
  },
  {
   "cell_type": "code",
   "execution_count": null,
   "id": "14",
   "metadata": {},
   "outputs": [],
   "source": [
    "cities_df[\"population\"].median()"
   ]
  },
  {
   "cell_type": "code",
   "execution_count": null,
   "id": "15",
   "metadata": {},
   "outputs": [],
   "source": [
    "city = pd.Series([\"Binghamton\", \"Vestal\", \"JC\"])"
   ]
  },
  {
   "cell_type": "code",
   "execution_count": null,
   "id": "16",
   "metadata": {},
   "outputs": [],
   "source": [
    "population = pd.Series([50000, 45000, 30000])"
   ]
  },
  {
   "cell_type": "code",
   "execution_count": null,
   "id": "17",
   "metadata": {},
   "outputs": [],
   "source": [
    "city"
   ]
  },
  {
   "cell_type": "code",
   "execution_count": null,
   "id": "18",
   "metadata": {},
   "outputs": [],
   "source": [
    "city_df = pd.DataFrame({\"city name\": city, \"population\": population})"
   ]
  },
  {
   "cell_type": "code",
   "execution_count": null,
   "id": "19",
   "metadata": {},
   "outputs": [],
   "source": [
    "city_df"
   ]
  },
  {
   "cell_type": "code",
   "execution_count": null,
   "id": "20",
   "metadata": {},
   "outputs": [],
   "source": [
    "city_df[\"population\"].median()"
   ]
  },
  {
   "cell_type": "code",
   "execution_count": null,
   "id": "21",
   "metadata": {},
   "outputs": [],
   "source": [
    "import numpy as np"
   ]
  },
  {
   "cell_type": "code",
   "execution_count": null,
   "id": "22",
   "metadata": {},
   "outputs": [],
   "source": [
    "np.median(city_df[\"population\"])"
   ]
  },
  {
   "cell_type": "code",
   "execution_count": null,
   "id": "23",
   "metadata": {},
   "outputs": [],
   "source": [
    "def get_large_city(population):\n",
    "    return population >= 40000"
   ]
  },
  {
   "cell_type": "code",
   "execution_count": null,
   "id": "24",
   "metadata": {},
   "outputs": [],
   "source": [
    "large_city_sel = city_df[\"population\"].apply(get_large_city)"
   ]
  },
  {
   "cell_type": "code",
   "execution_count": null,
   "id": "25",
   "metadata": {},
   "outputs": [],
   "source": [
    "large_city_sel"
   ]
  },
  {
   "cell_type": "code",
   "execution_count": null,
   "id": "26",
   "metadata": {},
   "outputs": [],
   "source": [
    "city_df[\"large city\"] = large_city_sel"
   ]
  },
  {
   "cell_type": "code",
   "execution_count": null,
   "id": "27",
   "metadata": {},
   "outputs": [],
   "source": [
    "small_city = lambda population: population < 40000"
   ]
  },
  {
   "cell_type": "code",
   "execution_count": null,
   "id": "28",
   "metadata": {},
   "outputs": [],
   "source": [
    "city_df[\"small city\"] = city_df[\"population\"].apply(small_city)"
   ]
  },
  {
   "cell_type": "code",
   "execution_count": null,
   "id": "29",
   "metadata": {},
   "outputs": [],
   "source": [
    "city_df"
   ]
  },
  {
   "cell_type": "code",
   "execution_count": null,
   "id": "30",
   "metadata": {},
   "outputs": [],
   "source": [
    "city_df[\"large city\"]"
   ]
  },
  {
   "cell_type": "code",
   "execution_count": null,
   "id": "31",
   "metadata": {},
   "outputs": [],
   "source": [
    "city_df.loc[city_df[\"large city\"]]"
   ]
  },
  {
   "cell_type": "code",
   "execution_count": null,
   "id": "32",
   "metadata": {},
   "outputs": [],
   "source": [
    "city_df[\"population\"] > 45000"
   ]
  },
  {
   "cell_type": "code",
   "execution_count": null,
   "id": "33",
   "metadata": {},
   "outputs": [],
   "source": [
    "city_df.loc[city_df[\"population\"] < 45000]"
   ]
  },
  {
   "cell_type": "code",
   "execution_count": null,
   "id": "34",
   "metadata": {},
   "outputs": [],
   "source": [
    "city_df.loc[~large_city_sel]"
   ]
  },
  {
   "cell_type": "code",
   "execution_count": null,
   "id": "35",
   "metadata": {},
   "outputs": [],
   "source": [
    "city_df.query(\"population<45000\")"
   ]
  },
  {
   "cell_type": "code",
   "execution_count": null,
   "id": "36",
   "metadata": {},
   "outputs": [],
   "source": [
    "census_df = pd.read_csv(\"C:\\data\\census\\ACS_19_1YR_B25003.csv\")"
   ]
  },
  {
   "cell_type": "code",
   "execution_count": null,
   "id": "37",
   "metadata": {},
   "outputs": [],
   "source": [
    "census_df.head(n=5)"
   ]
  },
  {
   "cell_type": "code",
   "execution_count": null,
   "id": "38",
   "metadata": {},
   "outputs": [],
   "source": [
    "columns = [\"GEO.display-label\", \"HD01_VD01\", \"HD01_VD03\"]\n",
    "census_df = census_df[columns]"
   ]
  },
  {
   "cell_type": "code",
   "execution_count": null,
   "id": "39",
   "metadata": {},
   "outputs": [],
   "source": [
    "census_df.head()"
   ]
  },
  {
   "cell_type": "code",
   "execution_count": null,
   "id": "40",
   "metadata": {},
   "outputs": [],
   "source": [
    "census_df.columns = [\"City\", \"Total\", \"Rentals\"]"
   ]
  },
  {
   "cell_type": "code",
   "execution_count": null,
   "id": "41",
   "metadata": {},
   "outputs": [],
   "source": [
    "census_df.head(n=5)"
   ]
  },
  {
   "cell_type": "code",
   "execution_count": null,
   "id": "42",
   "metadata": {},
   "outputs": [],
   "source": [
    "census_df[\"Rental Rate\"] = census_df[\"Rentals\"] / census_df[\"Total\"] * 100"
   ]
  },
  {
   "cell_type": "code",
   "execution_count": null,
   "id": "43",
   "metadata": {},
   "outputs": [],
   "source": [
    "census_df.head()"
   ]
  },
  {
   "cell_type": "code",
   "execution_count": null,
   "id": "44",
   "metadata": {},
   "outputs": [],
   "source": [
    "len(census_df)"
   ]
  },
  {
   "cell_type": "code",
   "execution_count": null,
   "id": "45",
   "metadata": {},
   "outputs": [],
   "source": [
    "top_cities_list = [\n",
    "    \"Philadelphia city, Pennsylvania\",\n",
    "    \"New York city, New York\",\n",
    "    \"Los Angeles city, California\",\n",
    "    \"Houston city, Texas\",\n",
    "    \"Chicago city, Illinois\",\n",
    "    \"Phoenix city, Arizona\",\n",
    "]"
   ]
  },
  {
   "cell_type": "code",
   "execution_count": null,
   "id": "46",
   "metadata": {},
   "outputs": [],
   "source": [
    "census_df[\"City\"].isin(top_cities_list)"
   ]
  },
  {
   "cell_type": "code",
   "execution_count": null,
   "id": "47",
   "metadata": {},
   "outputs": [],
   "source": [
    "census_df.loc[census_df[\"City\"].isin(top_cities_list)]"
   ]
  },
  {
   "cell_type": "code",
   "execution_count": null,
   "id": "48",
   "metadata": {},
   "outputs": [],
   "source": [
    "census_df.query(\"City in @top_cities_list\")"
   ]
  },
  {
   "cell_type": "code",
   "execution_count": null,
   "id": "49",
   "metadata": {},
   "outputs": [],
   "source": [
    "year_str = \"19\""
   ]
  },
  {
   "cell_type": "code",
   "execution_count": null,
   "id": "50",
   "metadata": {},
   "outputs": [],
   "source": [
    "path = f\"C:\\data\\census\\ACS_{year_str}_1YR_B25003.csv\""
   ]
  },
  {
   "cell_type": "code",
   "execution_count": null,
   "id": "51",
   "metadata": {},
   "outputs": [],
   "source": [
    "print(path)"
   ]
  },
  {
   "cell_type": "code",
   "execution_count": null,
   "id": "52",
   "metadata": {},
   "outputs": [],
   "source": [
    "all_rental_data = []\n",
    "start_year = 2005\n",
    "stop_year = 2019\n",
    "for year in range(start_year, stop_year + 1):\n",
    "    print(f\"loading data for year= {year}...\")"
   ]
  },
  {
   "cell_type": "code",
   "execution_count": null,
   "id": "53",
   "metadata": {},
   "outputs": [],
   "source": [
    "all_rental_data = []\n",
    "start_year = 2005\n",
    "stop_year = 2019\n",
    "for year in range(start_year, stop_year + 1):\n",
    "\n",
    "    # ---------------------------------------------\n",
    "    # Step 0: Print out year\n",
    "    # The variable year changes for each iteration of the loop\n",
    "    # ----------------------------------------------\n",
    "    print(f\"Loading data for year = {year}...\")\n",
    "\n",
    "    # ---------------------------------\n",
    "    # Step 1: Read data for this year\n",
    "    # ---------------------------------\n",
    "    year_str = str(year)  # convert integer value of \"year\" to a string\n",
    "    year_str = year_str[2:]  # extract the last two digits of the year string\n",
    "    rental_df = pd.read_csv(f\"C:\\data\\census\\ACS_{year_str}_1YR_B25003.csv\")\n",
    "\n",
    "    # ---------------------------------\n",
    "    # Step 2: Columns we want\n",
    "    # ---------------------------------\n",
    "    columns = [\"GEO.display-label\", \"HD01_VD01\", \"HD01_VD03\"]\n",
    "    rental_df = rental_df[columns]\n",
    "\n",
    "    # ---------------------------------\n",
    "    # Step 3: Rename columns\n",
    "    # ---------------------------------\n",
    "    rental_df.columns = [\"City\", \"Total\", \"Rentals\"]\n",
    "\n",
    "    # ----------------------------------\n",
    "    # Step 4: Calculate the rental rate\n",
    "    # ----------------------------------\n",
    "    rental_df[\"Rental Rate\"] = rental_df[\"Rentals\"] / rental_df[\"Total\"] * 100\n",
    "\n",
    "    # ----------------------------------\n",
    "    # Step 5: Select the cities we want\n",
    "    # ----------------------------------\n",
    "    selection = rental_df[\"City\"].isin(top_cities_list)\n",
    "    top_cities_df = rental_df.loc[selection].copy()\n",
    "\n",
    "    # ----------------------------------\n",
    "    # Step 6: Add a column for the year\n",
    "    # ----------------------------------\n",
    "    top_cities_df[\"Year\"] = year\n",
    "\n",
    "    # -----------------------------------\n",
    "    # Step 7: Save this dataframe in the list\n",
    "    # -----------------------------------\n",
    "    all_rental_data.append(top_cities_df)\n",
    "\n",
    "# ---------------------------------------------------\n",
    "# Step 8: After the for loop, combine all of the\n",
    "# data frames into one along the row axis\n",
    "# ---------------------------------------------------\n",
    "all_rental_data = pd.concat(all_rental_data, axis=0)"
   ]
  },
  {
   "cell_type": "code",
   "execution_count": null,
   "id": "54",
   "metadata": {},
   "outputs": [],
   "source": [
    "type(all_rental_data)"
   ]
  },
  {
   "cell_type": "code",
   "execution_count": null,
   "id": "55",
   "metadata": {},
   "outputs": [],
   "source": [
    "all_rental_data.head()"
   ]
  },
  {
   "cell_type": "code",
   "execution_count": null,
   "id": "56",
   "metadata": {},
   "outputs": [],
   "source": [
    "all_rental_data.tail()"
   ]
  },
  {
   "cell_type": "code",
   "execution_count": null,
   "id": "57",
   "metadata": {},
   "outputs": [],
   "source": [
    "len(all_rental_data)"
   ]
  },
  {
   "cell_type": "code",
   "execution_count": null,
   "id": "58",
   "metadata": {},
   "outputs": [],
   "source": [
    "from matplotlib import pyplot as plt"
   ]
  },
  {
   "cell_type": "code",
   "execution_count": null,
   "id": "59",
   "metadata": {},
   "outputs": [],
   "source": [
    "all_rental_data[\"City\"].unique()"
   ]
  },
  {
   "cell_type": "code",
   "execution_count": null,
   "id": "60",
   "metadata": {},
   "outputs": [],
   "source": [
    "with plt.style.context(\"ggplot\"):\n",
    "    fig, ax = plt.subplots(figsize=(10, 6))\n",
    "    for city in all_rental_data[\"City\"].unique():\n",
    "        print(city)\n",
    "        this_city = all_rental_data[\"City\"] == city\n",
    "        city_df = all_rental_data.loc[this_city]\n",
    "        ax.plot(city_df[\"Year\"], city_df[\"Rental Rate\"], label=city, linewidth=4)\n",
    "    ax.legend(loc=0, ncol=3, fontsize=9)\n",
    "    ax.set_ylim(30, 72)\n",
    "    ax.set_ylabel(\"Rental Rate in Percentage\")\n",
    "    plt.show()"
   ]
  },
  {
   "cell_type": "code",
   "execution_count": null,
   "id": "61",
   "metadata": {},
   "outputs": [],
   "source": [
    "all_rental_data[\"City\"] == \"Philadelphia city, Pennsylvania\""
   ]
  },
  {
   "cell_type": "code",
   "execution_count": null,
   "id": "62",
   "metadata": {},
   "outputs": [],
   "source": [
    "philly = all_rental_data.loc[\n",
    "    all_rental_data[\"City\"] == \"Philadelphia city, Pennsylvania\"\n",
    "]\n",
    "\n",
    "philly"
   ]
  },
  {
   "cell_type": "code",
   "execution_count": null,
   "id": "63",
   "metadata": {},
   "outputs": [],
   "source": [
    "philly.loc[393]"
   ]
  },
  {
   "cell_type": "code",
   "execution_count": null,
   "id": "64",
   "metadata": {},
   "outputs": [],
   "source": [
    "philly.iloc[2]"
   ]
  },
  {
   "cell_type": "code",
   "execution_count": null,
   "id": "65",
   "metadata": {},
   "outputs": [],
   "source": [
    "all_rental_data.loc[393]"
   ]
  },
  {
   "cell_type": "code",
   "execution_count": null,
   "id": "66",
   "metadata": {},
   "outputs": [],
   "source": [
    "philly.reset_index(drop=True)"
   ]
  },
  {
   "cell_type": "code",
   "execution_count": null,
   "id": "67",
   "metadata": {},
   "outputs": [],
   "source": [
    "philly_2005 = philly.loc[philly[\"Year\"] == 2005]\n",
    "\n",
    "\n",
    "philly_2005"
   ]
  },
  {
   "cell_type": "code",
   "execution_count": null,
   "id": "68",
   "metadata": {},
   "outputs": [],
   "source": [
    "philly_2005[\"Rental Rate\"]"
   ]
  },
  {
   "cell_type": "code",
   "execution_count": null,
   "id": "69",
   "metadata": {},
   "outputs": [],
   "source": [
    "philly_2005[\"Rental Rate\"].iloc[0]"
   ]
  },
  {
   "cell_type": "code",
   "execution_count": null,
   "id": "70",
   "metadata": {},
   "outputs": [],
   "source": [
    "len(philly_2005[\"Rental Rate\"])"
   ]
  },
  {
   "cell_type": "code",
   "execution_count": null,
   "id": "71",
   "metadata": {},
   "outputs": [],
   "source": [
    "philly_2019 = philly.loc[philly[\"Year\"] == 2019].squeeze()\n",
    "value_2019 = philly_2019[\"Rental Rate\"]"
   ]
  },
  {
   "cell_type": "code",
   "execution_count": null,
   "id": "72",
   "metadata": {},
   "outputs": [],
   "source": [
    "print(value_2019)"
   ]
  },
  {
   "cell_type": "code",
   "execution_count": null,
   "id": "73",
   "metadata": {},
   "outputs": [],
   "source": [
    "philly_2005 = philly.loc[philly[\"Year\"] == 2005].squeeze()\n",
    "value_2005 = philly_2005[\"Rental Rate\"]\n",
    "value_2005"
   ]
  },
  {
   "cell_type": "code",
   "execution_count": null,
   "id": "74",
   "metadata": {},
   "outputs": [],
   "source": [
    "percent_change = (value_2019 - value_2005) / value_2005 * 100"
   ]
  },
  {
   "cell_type": "code",
   "execution_count": null,
   "id": "75",
   "metadata": {},
   "outputs": [],
   "source": [
    "print(f\"change in rental rate in Philadelphia from 2005 to 2019= {percent_change}\")"
   ]
  },
  {
   "cell_type": "code",
   "execution_count": null,
   "id": "76",
   "metadata": {},
   "outputs": [],
   "source": []
  }
 ],
 "metadata": {
  "kernelspec": {
   "display_name": "Python 3 (ipykernel)",
   "language": "python",
   "name": "python3"
  },
  "language_info": {
   "codemirror_mode": {
    "name": "ipython",
    "version": 3
   },
   "file_extension": ".py",
   "mimetype": "text/x-python",
   "name": "python",
   "nbconvert_exporter": "python",
   "pygments_lexer": "ipython3",
   "version": "3.10.6"
  }
 },
 "nbformat": 4,
 "nbformat_minor": 5
}
