{
 "cells": [
  {
   "cell_type": "markdown",
   "id": "0",
   "metadata": {},
   "source": [
    "# Data Visualization\n",
    "## Zhanchao Yang"
   ]
  },
  {
   "cell_type": "code",
   "execution_count": null,
   "id": "1",
   "metadata": {},
   "outputs": [],
   "source": [
    "import pandas as pd\n",
    "import numpy as np\n",
    "from matplotlib import pyplot as plt\n",
    "\n",
    "%matplotlib inline"
   ]
  },
  {
   "cell_type": "code",
   "execution_count": null,
   "id": "2",
   "metadata": {},
   "outputs": [],
   "source": [
    "penguins = pd.read_csv(\"C:\\data\\data\\penguins.csv\")"
   ]
  },
  {
   "cell_type": "code",
   "execution_count": null,
   "id": "3",
   "metadata": {},
   "outputs": [],
   "source": [
    "penguins.head(n=10)"
   ]
  },
  {
   "cell_type": "code",
   "execution_count": null,
   "id": "4",
   "metadata": {},
   "outputs": [],
   "source": [
    "fig, ax = plt.subplots(figsize=(10, 6))\n",
    "color_map = {\"Adelie\": \"#1f77b4\", \"Gentoo\": \"#ff7f0e\", \"Chinstrap\": \"#D62728\"}\n",
    "for species, group in penguins.groupby(\"species\"):\n",
    "    print(f\"plotting{species}...\")\n",
    "    ax.scatter(\n",
    "        group[\"flipper_length_mm\"],\n",
    "        group[\"bill_length_mm\"],\n",
    "        marker=\"o\",\n",
    "        label=species,\n",
    "        color=color_map[species],\n",
    "        alpha=1,\n",
    "    )\n",
    "ax.legend(loc=\"best\")\n",
    "ax.set_xlabel(\"fliper length(mm)\")\n",
    "ax.set_ylabel(\"Bill length(mm)\")\n",
    "ax.grid(True)\n",
    "plt.show()"
   ]
  },
  {
   "cell_type": "code",
   "execution_count": null,
   "id": "5",
   "metadata": {},
   "outputs": [],
   "source": [
    "fig, ax = plt.subplots(figsize=(10, 6))\n",
    "color_map = {\"Adelie\": \"#1f77b4\", \"Gentoo\": \"#ff7f0e\", \"Chinstrap\": \"#D62728\"}\n",
    "colors = [color_map[species] for species in penguins[\"species\"]]\n",
    "penguins.plot.scatter(\n",
    "    x=\"flipper_length_mm\", y=\"bill_length_mm\", c=colors, alpha=1, ax=ax\n",
    ")\n",
    "\n",
    "ax.set_xlabel(\"fliper length(mm)\")\n",
    "ax.set_ylabel(\"Bill length(mm)\")\n",
    "ax.grid(True)"
   ]
  },
  {
   "cell_type": "code",
   "execution_count": null,
   "id": "6",
   "metadata": {},
   "outputs": [],
   "source": [
    "conda install seaborn"
   ]
  },
  {
   "cell_type": "code",
   "execution_count": null,
   "id": "7",
   "metadata": {},
   "outputs": [],
   "source": [
    "import seaborn as sns"
   ]
  },
  {
   "cell_type": "code",
   "execution_count": null,
   "id": "8",
   "metadata": {},
   "outputs": [],
   "source": [
    "fig, ax = plt.subplots(figsize=(10, 6))\n",
    "\n",
    "# style keywords as dict\n",
    "color_map = {\"Adelie\": \"#1f77b4\", \"Gentoo\": \"#ff7f0e\", \"Chinstrap\": \"#D62728\"}\n",
    "style = dict(palette=color_map, s=60, edgecolor=\"none\", alpha=0.75)\n",
    "\n",
    "# use the scatterplot() function\n",
    "sns.scatterplot(\n",
    "    x=\"flipper_length_mm\",  # the x column\n",
    "    y=\"bill_length_mm\",  # the y column\n",
    "    hue=\"species\",  # the third dimension (color)\n",
    "    data=penguins,  # pass in the data\n",
    "    ax=ax,  # plot on the axes object we made\n",
    "    **style  # add our style keywords\n",
    ")\n",
    "\n",
    "# Format with matplotlib commands\n",
    "ax.set_xlabel(\"Flipper Length (mm)\")\n",
    "ax.set_ylabel(\"Bill Length (mm)\")\n",
    "ax.grid(True)\n",
    "ax.legend(loc=\"best\")"
   ]
  },
  {
   "cell_type": "code",
   "execution_count": null,
   "id": "9",
   "metadata": {},
   "outputs": [],
   "source": [
    "sns.lmplot(\n",
    "    x=\"flipper_length_mm\",\n",
    "    y=\"bill_length_mm\",\n",
    "    hue=\"species\",\n",
    "    data=penguins,\n",
    "    height=6,\n",
    "    aspect=1.5,\n",
    "    palette=color_map,\n",
    "    scatter_kws=dict(edgecolor=\"none\", alpha=0.5),\n",
    ");"
   ]
  },
  {
   "cell_type": "code",
   "execution_count": null,
   "id": "10",
   "metadata": {},
   "outputs": [],
   "source": [
    "sns.jointplot(\n",
    "    x=\"flipper_length_mm\",\n",
    "    y=\"bill_length_mm\",\n",
    "    data=penguins,\n",
    "    height=8,\n",
    "    kind=\"kde\",\n",
    "    camp=\"viridis\",\n",
    ");"
   ]
  },
  {
   "cell_type": "code",
   "execution_count": null,
   "id": "11",
   "metadata": {},
   "outputs": [],
   "source": [
    "variable = [\n",
    "    \"species\",\n",
    "    \"bill_length_mm\",\n",
    "    \"flipper_length_mm\",\n",
    "    \"body_mass_g\",\n",
    "    \"bill_depth_mm\",\n",
    "]\n",
    "sns.set_context(\"notebook\", font_scale=1.5)\n",
    "sns.pairplot(\n",
    "    penguins[variable].dropna(),\n",
    "    palette=color_map,\n",
    "    hue=\"species\",\n",
    "    plot_kws=dict(alpha=0.5, edgecolor=\"none\"),\n",
    ")"
   ]
  },
  {
   "cell_type": "code",
   "execution_count": null,
   "id": "12",
   "metadata": {},
   "outputs": [],
   "source": [
    "sns.catplot(x=\"species\", y=\"bill_length_mm\", hue=\"sex\", data=penguins);"
   ]
  },
  {
   "cell_type": "code",
   "execution_count": null,
   "id": "13",
   "metadata": {},
   "outputs": [],
   "source": []
  }
 ],
 "metadata": {
  "kernelspec": {
   "display_name": "Python 3 (ipykernel)",
   "language": "python",
   "name": "python3"
  },
  "language_info": {
   "codemirror_mode": {
    "name": "ipython",
    "version": 3
   },
   "file_extension": ".py",
   "mimetype": "text/x-python",
   "name": "python",
   "nbconvert_exporter": "python",
   "pygments_lexer": "ipython3",
   "version": "3.10.6"
  }
 },
 "nbformat": 4,
 "nbformat_minor": 5
}
