{
 "cells": [
  {
   "cell_type": "code",
   "execution_count": null,
   "id": "0",
   "metadata": {},
   "outputs": [],
   "source": [
    "import pandas as pd"
   ]
  },
  {
   "cell_type": "code",
   "execution_count": null,
   "id": "1",
   "metadata": {},
   "outputs": [],
   "source": [
    "zillow_df = pd.read_csv(\n",
    "    \"C:\\data\\zillow\\Zip_zhvi_uc_sfrcondo_tier_0.33_0.67_sm_sa_month.csv\"\n",
    ")"
   ]
  },
  {
   "cell_type": "code",
   "execution_count": null,
   "id": "2",
   "metadata": {},
   "outputs": [],
   "source": [
    "zillow_df.head(n=5)"
   ]
  },
  {
   "cell_type": "code",
   "execution_count": null,
   "id": "3",
   "metadata": {},
   "outputs": [],
   "source": [
    "selection = (zillow_df[\"City\"] == \"Philadelphia\") & (zillow_df[\"State\"] == \"PA\")\n",
    "data = zillow_df.loc[selection]"
   ]
  },
  {
   "cell_type": "code",
   "execution_count": null,
   "id": "4",
   "metadata": {},
   "outputs": [],
   "source": [
    "data.head()"
   ]
  },
  {
   "cell_type": "code",
   "execution_count": null,
   "id": "5",
   "metadata": {},
   "outputs": [],
   "source": [
    "data = data.drop(\n",
    "    [\n",
    "        \"RegionID\",\n",
    "        \"RegionType\",\n",
    "        \"City\",\n",
    "        \"StateName\",\n",
    "        \"State\",\n",
    "        \"Metro\",\n",
    "        \"CountyName\",\n",
    "        \"SizeRank\",\n",
    "    ],\n",
    "    axis=1,\n",
    ")"
   ]
  },
  {
   "cell_type": "code",
   "execution_count": null,
   "id": "6",
   "metadata": {},
   "outputs": [],
   "source": [
    "melted = data.melt(id_vars=[\"RegionName\"], value_name=\"ZHVI\", var_name=\"Date\")"
   ]
  },
  {
   "cell_type": "code",
   "execution_count": null,
   "id": "7",
   "metadata": {},
   "outputs": [],
   "source": [
    "melted"
   ]
  },
  {
   "cell_type": "code",
   "execution_count": null,
   "id": "8",
   "metadata": {},
   "outputs": [],
   "source": [
    "melted[\"Date\"] = pd.to_datetime(melted[\"Date\"])"
   ]
  },
  {
   "cell_type": "code",
   "execution_count": null,
   "id": "9",
   "metadata": {},
   "outputs": [],
   "source": [
    "melted[\"Year\"] = melted[\"Date\"].dt.year"
   ]
  },
  {
   "cell_type": "code",
   "execution_count": null,
   "id": "10",
   "metadata": {},
   "outputs": [],
   "source": [
    "annual_ZHVI = melted.groupby([\"RegionName\", \"Year\"])[\"ZHVI\"].mean()"
   ]
  },
  {
   "cell_type": "code",
   "execution_count": null,
   "id": "11",
   "metadata": {},
   "outputs": [],
   "source": [
    "annual_ZHVI.head()"
   ]
  },
  {
   "cell_type": "code",
   "execution_count": null,
   "id": "12",
   "metadata": {},
   "outputs": [],
   "source": [
    "annual_ZHVI = annual_ZHVI.reset_index()"
   ]
  },
  {
   "cell_type": "code",
   "execution_count": null,
   "id": "13",
   "metadata": {},
   "outputs": [],
   "source": [
    "annual_ZHVI.head()"
   ]
  },
  {
   "cell_type": "code",
   "execution_count": null,
   "id": "14",
   "metadata": {},
   "outputs": [],
   "source": [
    "year_grps = annual_ZHVI.groupby(\"Year\")\n",
    "print(year_grps)"
   ]
  },
  {
   "cell_type": "code",
   "execution_count": null,
   "id": "15",
   "metadata": {},
   "outputs": [],
   "source": [
    "def max_ZHVI_zip(grp):\n",
    "    max = grp[\"ZHVI\"].idxmax()\n",
    "    return grp.loc[max, [\"RegionName\", \"ZHVI\"]]"
   ]
  },
  {
   "cell_type": "code",
   "execution_count": null,
   "id": "16",
   "metadata": {},
   "outputs": [],
   "source": [
    "max_zip = year_grps.apply(max_ZHVI_zip)"
   ]
  },
  {
   "cell_type": "code",
   "execution_count": null,
   "id": "17",
   "metadata": {},
   "outputs": [],
   "source": [
    "max_zip"
   ]
  },
  {
   "cell_type": "code",
   "execution_count": null,
   "id": "18",
   "metadata": {},
   "outputs": [],
   "source": [
    "from matplotlib import pyplot as plt"
   ]
  },
  {
   "cell_type": "code",
   "execution_count": null,
   "id": "19",
   "metadata": {},
   "outputs": [],
   "source": [
    "with plt.style.context(\"ggplot\"):\n",
    "    fig, ax = plt.subplots(figsize=(10, 6))\n",
    "    for RegionName in max_zip[\"RegionName\"].unique():\n",
    "        the_region = max_zip[\"RegionName\"] == RegionName\n",
    "        region_df = max_zip.loc[the_region]\n",
    "        print(region_df)\n",
    "        ax.plot(region_df[\"year\"], region_df[\"ZHVI\"], label=RegionName, linewidth=4)\n",
    "    ax.legend(loc=0, ncol=3, fontsize=12)\n",
    "    ax.set_ylim(260000, 750000)\n",
    "    ax.set_ylabel(\"ZHVI\")\n",
    "    plt.show()"
   ]
  },
  {
   "cell_type": "code",
   "execution_count": null,
   "id": "20",
   "metadata": {},
   "outputs": [],
   "source": [
    "annual_ZHVI"
   ]
  },
  {
   "cell_type": "code",
   "execution_count": null,
   "id": "21",
   "metadata": {},
   "outputs": [],
   "source": [
    "with plt.style.context(\"ggplot\"):\n",
    "    fig, ax = plt.subplots(figsize=(10, 6))\n",
    "    for RegionName in annual_ZHVI[\"RegionName\"].unique():\n",
    "        the_region = annual_ZHVI[\"RegionName\"] == RegionName\n",
    "        region_df = annual_ZHVI.loc[the_region]\n",
    "        ax.plot(region_df[\"Year\"], region_df[\"ZHVI\"], label=RegionName, linewidth=1)\n",
    "    ax.legend(loc=0, ncol=3, fontsize=5)\n",
    "    ax.set_ylim(10000, 800000)\n",
    "    ax.set_ylabel(\"ZHVI\")\n",
    "    plt.show()"
   ]
  },
  {
   "cell_type": "code",
   "execution_count": null,
   "id": "22",
   "metadata": {},
   "outputs": [],
   "source": []
  }
 ],
 "metadata": {
  "kernelspec": {
   "display_name": "Python 3 (ipykernel)",
   "language": "python",
   "name": "python3"
  },
  "language_info": {
   "codemirror_mode": {
    "name": "ipython",
    "version": 3
   },
   "file_extension": ".py",
   "mimetype": "text/x-python",
   "name": "python",
   "nbconvert_exporter": "python",
   "pygments_lexer": "ipython3",
   "version": "3.10.6"
  }
 },
 "nbformat": 4,
 "nbformat_minor": 5
}
